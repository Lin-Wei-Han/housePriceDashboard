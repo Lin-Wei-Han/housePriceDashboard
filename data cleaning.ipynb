{
 "cells": [
  {
   "cell_type": "code",
   "execution_count": 1,
   "id": "10f99525",
   "metadata": {},
   "outputs": [],
   "source": [
    "using CSV\n",
    "using DataFrames\n",
    "using Pipe"
   ]
  },
  {
   "cell_type": "code",
   "execution_count": 9,
   "id": "df628e93",
   "metadata": {},
   "outputs": [
    {
     "ename": "LoadError",
     "evalue": "LoadError: MethodError: no method matching var\"@__dot__\"(::LineNumberNode, ::Module)\n\u001b[0mClosest candidates are:\n\u001b[0m  var\"@__dot__\"(::LineNumberNode, ::Module, \u001b[91m::Any\u001b[39m) at /opt/julia-1.7.2/share/julia/base/broadcast.jl:1275\nin expression starting at In[9]:1",
     "output_type": "error",
     "traceback": [
      "LoadError: MethodError: no method matching var\"@__dot__\"(::LineNumberNode, ::Module)\n\u001b[0mClosest candidates are:\n\u001b[0m  var\"@__dot__\"(::LineNumberNode, ::Module, \u001b[91m::Any\u001b[39m) at /opt/julia-1.7.2/share/julia/base/broadcast.jl:1275\nin expression starting at In[9]:1",
      "",
      "Stacktrace:",
      " [1] eval",
      "   @ ./boot.jl:373 [inlined]",
      " [2] include_string(mapexpr::typeof(REPL.softscope), mod::Module, code::String, filename::String)",
      "   @ Base ./loading.jl:1196"
     ]
    }
   ],
   "source": [
    "dfs = @. DataFrame(\n",
    "    CSV.File([\n",
    "        \"./dataset/102-4 ks.csv\", \n",
    "        \"./dataset/103-4 ks.csv\", \n",
    "        \"./dataset/104-4 ks.csv\"])\n",
    ")\n",
    "colname(dfs[[1]])"
   ]
  },
  {
   "cell_type": "code",
   "execution_count": 4,
   "id": "6087aa4c",
   "metadata": {},
   "outputs": [
    {
     "data": {
      "text/plain": [
       "1-element Vector{DataFrame}:\n",
       " \u001b[1m4689×27 DataFrame\u001b[0m\n",
       "\u001b[1m  Row \u001b[0m│\u001b[1m Column1 \u001b[0m\u001b[1m 鄉鎮市區 \u001b[0m\u001b[1m 交易標的             \u001b[0m\u001b[1m 土地位置建物門牌             \u001b[0m ⋯\n",
       "\u001b[1m      \u001b[0m│\u001b[90m Int64   \u001b[0m\u001b[90m String15 \u001b[0m\u001b[90m String31             \u001b[0m\u001b[90m String                       \u001b[0m ⋯\n",
       "──────┼─────────────────────────────────────────────────────────────────────────\n",
       "    1 │       1  鼓山區    房地(土地+建物)       高雄市鼓山區龍德路３８８號十  ⋯\n",
       "    2 │       2  鼓山區    房地(土地+建物)       高雄市鼓山區美術南三路２５７\n",
       "    3 │       3  鼓山區    房地(土地+建物)+車位  高雄市鼓山區南屏路５６３號十\n",
       "    4 │       4  鼓山區    房地(土地+建物)+車位  高雄市鼓山區南屏路５６３號十\n",
       "    5 │       5  前金區    房地(土地+建物)       高雄市前金區允文街51號十一樓  ⋯\n",
       "    6 │       6  鼓山區    房地(土地+建物)       高雄市鼓山區大順一路１０４１\n",
       "    7 │       7  前金區    房地(土地+建物)       高雄市前金區中山橫路９６號五\n",
       "    8 │       8  鼓山區    房地(土地+建物)+車位  高雄市鼓山區山下里鼓山一路１\n",
       "    9 │       9  鼓山區    房地(土地+建物)+車位  高雄市鼓山區山下里鼓山一路１  ⋯\n",
       "   10 │      10  前金區    房地(土地+建物)       高雄市前金區允文街51號六樓之1\n",
       "   11 │      11  鼓山區    房地(土地+建物)+車位  高雄市鼓山區龍水里美術北三路\n",
       "  ⋮   │    ⋮        ⋮               ⋮                            ⋮             ⋱\n",
       " 4680 │    4680  鳳山區    房地(土地+建物)       高雄市鳳山區濱山街２４之１號\n",
       " 4681 │    4681  鳳山區    房地(土地+建物)       高雄市鳳山區明昌街１８巷６號  ⋯\n",
       " 4682 │    4682  鳳山區    房地(土地+建物)       高雄市鳳山區善政街１８號三樓\n",
       " 4683 │    4683  大寮區    房地(土地+建物)       高雄市大寮區大智街１５巷４１\n",
       " 4684 │    4684  大寮區    房地(土地+建物)       高雄市大寮區大寮里開封街96巷2\n",
       " 4685 │    4685  林園區    房地(土地+建物)+車位  高雄市林園區沿海路四段３４２  ⋯\n",
       " 4686 │    4686  大寮區    房地(土地+建物)       高雄市大寮區中庄路４５號七樓\n",
       " 4687 │    4687  路竹區    房地(土地+建物)       高雄市路竹區國昌路546巷12號\n",
       " 4688 │    4688  鳥松區    建物                  高雄市鳥松區澄湖路１２５號\n",
       " 4689 │    4689  大社區    房地(土地+建物)       高雄市大社區翠屏路８４巷７１  ⋯\n",
       "\u001b[36m                                                24 columns and 4668 rows omitted\u001b[0m"
      ]
     },
     "execution_count": 4,
     "metadata": {},
     "output_type": "execute_result"
    }
   ],
   "source": []
  }
 ],
 "metadata": {
  "kernelspec": {
   "display_name": "Julia 1.7.2",
   "language": "julia",
   "name": "julia-1.7"
  },
  "language_info": {
   "file_extension": ".jl",
   "mimetype": "application/julia",
   "name": "julia",
   "version": "1.7.2"
  }
 },
 "nbformat": 4,
 "nbformat_minor": 5
}
