{
 "cells": [
  {
   "cell_type": "markdown",
   "metadata": {
    "id": "QUANWN3rpfC9"
   },
   "source": [
    "# 0. Setup Paths"
   ]
  },
  {
   "cell_type": "code",
   "execution_count": 1,
   "metadata": {
    "id": "146BB11JpfDA"
   },
   "outputs": [],
   "source": [
    "import os"
   ]
  },
  {
   "cell_type": "code",
   "execution_count": 2,
   "metadata": {
    "id": "42hJEdo_pfDB"
   },
   "outputs": [],
   "source": [
    "CUSTOM_MODEL_NAME = 'faster_R_CNN' \n",
    "PRETRAINED_MODEL_NAME = 'faster_rcnn_resnet50_v1_640x640_coco17_tpu-8'\n",
    "PRETRAINED_MODEL_URL = 'http://download.tensorflow.org/models/object_detection/tf2/20200711/faster_rcnn_resnet50_v1_640x640_coco17_tpu-8.tar.gz'\n",
    "TF_RECORD_SCRIPT_NAME = 'generate_tfrecord.py'\n",
    "LABEL_MAP_NAME = 'label_map.pbtxt'"
   ]
  },
  {
   "cell_type": "code",
   "execution_count": 27,
   "metadata": {
    "id": "hbPhYVy_pfDB"
   },
   "outputs": [],
   "source": [
    "paths = {\n",
    "    'WORKSPACE_PATH': os.path.join('Tensorflow', 'workspace'),\n",
    "    'SCRIPTS_PATH': os.path.join('Tensorflow','scripts'),\n",
    "    'APIMODEL_PATH': os.path.join('Tensorflow','models'),\n",
    "    'ANNOTATION_PATH': os.path.join('Tensorflow', 'workspace','annotations'),\n",
    "    'IMAGE_PATH': os.path.join('Tensorflow', 'workspace','images'),\n",
    "    'MODEL_PATH': os.path.join('Tensorflow', 'workspace','models'),\n",
    "    'PRETRAINED_MODEL_PATH': os.path.join('Tensorflow', 'workspace','pre-trained-models'),\n",
    "    'CHECKPOINT_PATH': os.path.join('Tensorflow', 'workspace','models',CUSTOM_MODEL_NAME), \n",
    "    'OUTPUT_PATH': os.path.join('Tensorflow', 'workspace','models',CUSTOM_MODEL_NAME, 'export'), \n",
    "    'TFJS_PATH':os.path.join('Tensorflow', 'workspace','models',CUSTOM_MODEL_NAME, 'tfjsexport'), \n",
    "    'TFLITE_PATH':os.path.join('Tensorflow', 'workspace','models',CUSTOM_MODEL_NAME, 'tfliteexport'), \n",
    "    'PROTOC_PATH':os.path.join('Tensorflow','protoc')\n",
    " }"
   ]
  },
  {
   "cell_type": "code",
   "execution_count": 30,
   "metadata": {},
   "outputs": [
    {
     "data": {
      "text/plain": [
       "'Tensorflow/workspace/models/faster_R_CNN/train'"
      ]
     },
     "execution_count": 30,
     "metadata": {},
     "output_type": "execute_result"
    }
   ],
   "source": []
  },
  {
   "cell_type": "code",
   "execution_count": 4,
   "metadata": {
    "id": "LwhWZMI0pfDC"
   },
   "outputs": [],
   "source": [
    "files = {\n",
    "    'PIPELINE_CONFIG':os.path.join('Tensorflow', 'workspace','models', CUSTOM_MODEL_NAME, 'pipeline.config'),\n",
    "    'TF_RECORD_SCRIPT': os.path.join(paths['SCRIPTS_PATH'], TF_RECORD_SCRIPT_NAME), \n",
    "    'LABELMAP': os.path.join(paths['ANNOTATION_PATH'], LABEL_MAP_NAME)\n",
    "}"
   ]
  },
  {
   "cell_type": "code",
   "execution_count": 5,
   "metadata": {
    "id": "HR-TfDGrpfDC"
   },
   "outputs": [
    {
     "name": "stdout",
     "output_type": "stream",
     "text": [
      "/bin/bash: /home/chanyu/anaconda3/lib/libtinfo.so.6: no version information available (required by /bin/bash)\n",
      "/bin/bash: /home/chanyu/anaconda3/lib/libtinfo.so.6: no version information available (required by /bin/bash)\n",
      "/bin/bash: /home/chanyu/anaconda3/lib/libtinfo.so.6: no version information available (required by /bin/bash)\n",
      "/bin/bash: /home/chanyu/anaconda3/lib/libtinfo.so.6: no version information available (required by /bin/bash)\n"
     ]
    }
   ],
   "source": [
    "for path in paths.values():\n",
    "    if not os.path.exists(path):\n",
    "        !mkdir -p {path}"
   ]
  },
  {
   "cell_type": "markdown",
   "metadata": {
    "id": "OLU-rs_ipfDE"
   },
   "source": [
    "# 1. Download TF Models Pretrained Models from Tensorflow Model Zoo and Install TFOD"
   ]
  },
  {
   "cell_type": "code",
   "execution_count": null,
   "metadata": {},
   "outputs": [],
   "source": [
    "# https://www.tensorflow.org/install/source_windows"
   ]
  },
  {
   "cell_type": "code",
   "execution_count": null,
   "metadata": {
    "id": "K-Cmz2edpfDE",
    "scrolled": true
   },
   "outputs": [],
   "source": [
    "if os.name=='nt':\n",
    "    !pip install wget\n",
    "    import wget"
   ]
  },
  {
   "cell_type": "code",
   "execution_count": 6,
   "metadata": {
    "id": "iA1DIq5OpfDE"
   },
   "outputs": [],
   "source": [
    "if not os.path.exists(os.path.join(paths['APIMODEL_PATH'], 'research', 'object_detection')):\n",
    "    !git clone https://github.com/tensorflow/models {paths['APIMODEL_PATH']}"
   ]
  },
  {
   "cell_type": "code",
   "execution_count": 7,
   "metadata": {
    "id": "rJjMHbnDs3Tv"
   },
   "outputs": [
    {
     "name": "stdout",
     "output_type": "stream",
     "text": [
      "/bin/bash: /home/chanyu/anaconda3/lib/libtinfo.so.6: no version information available (required by /bin/bash)\n",
      "E: Could not open lock file /var/lib/dpkg/lock-frontend - open (13: Permission denied)\n",
      "E: Unable to acquire the dpkg frontend lock (/var/lib/dpkg/lock-frontend), are you root?\n",
      "/bin/bash: /home/chanyu/anaconda3/lib/libtinfo.so.6: no version information available (required by /bin/bash)\n",
      "bash: /home/chanyu/anaconda3/lib/libtinfo.so.6: no version information available (required by bash)\n",
      "bash: /home/chanyu/anaconda3/lib/libtinfo.so.6: no version information available (required by bash)\n",
      "bash: /home/chanyu/anaconda3/lib/libtinfo.so.6: no version information available (required by bash)\n",
      "bash: /home/chanyu/anaconda3/lib/libtinfo.so.6: no version information available (required by bash)\n",
      "bash: /home/chanyu/anaconda3/lib/libtinfo.so.6: no version information available (required by bash)\n",
      "bash: /home/chanyu/anaconda3/lib/libtinfo.so.6: no version information available (required by bash)\n",
      "bash: /home/chanyu/anaconda3/lib/libtinfo.so.6: no version information available (required by bash)\n",
      "bash: /home/chanyu/anaconda3/lib/libtinfo.so.6: no version information available (required by bash)\n",
      "bash: /home/chanyu/anaconda3/lib/libtinfo.so.6: no version information available (required by bash)\n",
      "bash: /home/chanyu/anaconda3/lib/libtinfo.so.6: no version information available (required by bash)\n",
      "Processing /home/chanyu/Desktop/gesture_detection_3.8/TFODCourse/Tensorflow/models/research\n",
      "\u001b[33m  DEPRECATION: A future pip version will change local packages to be built in-place without first copying to a temporary directory. We recommend you use --use-feature=in-tree-build to test your packages with this new behavior before it becomes the default.\n",
      "   pip 21.3 will remove support for this functionality. You can find discussion regarding this at https://github.com/pypa/pip/issues/7555.\u001b[0m\n",
      "Requirement already satisfied: avro-python3 in /home/chanyu/.pyenv/versions/3.8.10/lib/python3.8/site-packages (from object-detection==0.1) (1.10.2)\n",
      "Requirement already satisfied: apache-beam in /home/chanyu/.pyenv/versions/3.8.10/lib/python3.8/site-packages (from object-detection==0.1) (2.43.0)\n",
      "Requirement already satisfied: pillow in /home/chanyu/.pyenv/versions/3.8.10/lib/python3.8/site-packages (from object-detection==0.1) (9.3.0)\n",
      "Requirement already satisfied: lxml in /home/chanyu/.pyenv/versions/3.8.10/lib/python3.8/site-packages (from object-detection==0.1) (4.9.1)\n",
      "Requirement already satisfied: matplotlib in /home/chanyu/.pyenv/versions/3.8.10/lib/python3.8/site-packages (from object-detection==0.1) (3.2.0)\n",
      "Requirement already satisfied: Cython in /home/chanyu/.pyenv/versions/3.8.10/lib/python3.8/site-packages (from object-detection==0.1) (0.29.32)\n",
      "Requirement already satisfied: contextlib2 in /home/chanyu/.pyenv/versions/3.8.10/lib/python3.8/site-packages (from object-detection==0.1) (21.6.0)\n",
      "Requirement already satisfied: tf-slim in /home/chanyu/.pyenv/versions/3.8.10/lib/python3.8/site-packages (from object-detection==0.1) (1.1.0)\n",
      "Requirement already satisfied: six in /home/chanyu/.pyenv/versions/3.8.10/lib/python3.8/site-packages (from object-detection==0.1) (1.16.0)\n",
      "Requirement already satisfied: pycocotools in /home/chanyu/.pyenv/versions/3.8.10/lib/python3.8/site-packages (from object-detection==0.1) (2.0.6)\n",
      "Requirement already satisfied: lvis in /home/chanyu/.pyenv/versions/3.8.10/lib/python3.8/site-packages (from object-detection==0.1) (0.5.3)\n",
      "Requirement already satisfied: scipy in /home/chanyu/.pyenv/versions/3.8.10/lib/python3.8/site-packages (from object-detection==0.1) (1.9.3)\n",
      "Requirement already satisfied: pandas in /home/chanyu/.pyenv/versions/3.8.10/lib/python3.8/site-packages (from object-detection==0.1) (1.5.2)\n",
      "Requirement already satisfied: tf-models-official>=2.5.1 in /home/chanyu/.pyenv/versions/3.8.10/lib/python3.8/site-packages (from object-detection==0.1) (2.11.0)\n",
      "Requirement already satisfied: tensorflow_io in /home/chanyu/.pyenv/versions/3.8.10/lib/python3.8/site-packages (from object-detection==0.1) (0.28.0)\n",
      "Requirement already satisfied: keras in /home/chanyu/.pyenv/versions/3.8.10/lib/python3.8/site-packages (from object-detection==0.1) (2.11.0)\n",
      "Requirement already satisfied: pyparsing==2.4.7 in /home/chanyu/.pyenv/versions/3.8.10/lib/python3.8/site-packages (from object-detection==0.1) (2.4.7)\n",
      "Requirement already satisfied: sacrebleu<=2.2.0 in /home/chanyu/.pyenv/versions/3.8.10/lib/python3.8/site-packages (from object-detection==0.1) (2.2.0)\n",
      "Requirement already satisfied: regex in /home/chanyu/.pyenv/versions/3.8.10/lib/python3.8/site-packages (from sacrebleu<=2.2.0->object-detection==0.1) (2022.10.31)\n",
      "Requirement already satisfied: tabulate>=0.8.9 in /home/chanyu/.pyenv/versions/3.8.10/lib/python3.8/site-packages (from sacrebleu<=2.2.0->object-detection==0.1) (0.9.0)\n",
      "Requirement already satisfied: numpy>=1.17 in /home/chanyu/.pyenv/versions/3.8.10/lib/python3.8/site-packages (from sacrebleu<=2.2.0->object-detection==0.1) (1.22.4)\n",
      "Requirement already satisfied: colorama in /home/chanyu/.pyenv/versions/3.8.10/lib/python3.8/site-packages (from sacrebleu<=2.2.0->object-detection==0.1) (0.4.6)\n",
      "Requirement already satisfied: portalocker in /home/chanyu/.pyenv/versions/3.8.10/lib/python3.8/site-packages (from sacrebleu<=2.2.0->object-detection==0.1) (2.6.0)\n",
      "Requirement already satisfied: psutil>=5.4.3 in /home/chanyu/.pyenv/versions/3.8.10/lib/python3.8/site-packages (from tf-models-official>=2.5.1->object-detection==0.1) (5.9.4)\n",
      "Requirement already satisfied: sentencepiece in /home/chanyu/.pyenv/versions/3.8.10/lib/python3.8/site-packages (from tf-models-official>=2.5.1->object-detection==0.1) (0.1.97)\n",
      "Requirement already satisfied: pyyaml<6.0,>=5.1 in /home/chanyu/.pyenv/versions/3.8.10/lib/python3.8/site-packages (from tf-models-official>=2.5.1->object-detection==0.1) (5.4.1)\n",
      "Requirement already satisfied: py-cpuinfo>=3.3.0 in /home/chanyu/.pyenv/versions/3.8.10/lib/python3.8/site-packages (from tf-models-official>=2.5.1->object-detection==0.1) (9.0.0)\n",
      "Requirement already satisfied: tensorflow-addons in /home/chanyu/.pyenv/versions/3.8.10/lib/python3.8/site-packages (from tf-models-official>=2.5.1->object-detection==0.1) (0.18.0)\n",
      "Requirement already satisfied: tensorflow-datasets in /home/chanyu/.pyenv/versions/3.8.10/lib/python3.8/site-packages (from tf-models-official>=2.5.1->object-detection==0.1) (4.7.0)\n",
      "Requirement already satisfied: gin-config in /home/chanyu/.pyenv/versions/3.8.10/lib/python3.8/site-packages (from tf-models-official>=2.5.1->object-detection==0.1) (0.5.0)\n",
      "Requirement already satisfied: kaggle>=1.3.9 in /home/chanyu/.pyenv/versions/3.8.10/lib/python3.8/site-packages (from tf-models-official>=2.5.1->object-detection==0.1) (1.5.12)\n",
      "Requirement already satisfied: google-api-python-client>=1.6.7 in /home/chanyu/.pyenv/versions/3.8.10/lib/python3.8/site-packages (from tf-models-official>=2.5.1->object-detection==0.1) (2.68.0)\n",
      "Requirement already satisfied: immutabledict in /home/chanyu/.pyenv/versions/3.8.10/lib/python3.8/site-packages (from tf-models-official>=2.5.1->object-detection==0.1) (2.2.3)\n",
      "Requirement already satisfied: seqeval in /home/chanyu/.pyenv/versions/3.8.10/lib/python3.8/site-packages (from tf-models-official>=2.5.1->object-detection==0.1) (1.2.2)\n",
      "Requirement already satisfied: tensorflow-text~=2.11.0 in /home/chanyu/.pyenv/versions/3.8.10/lib/python3.8/site-packages (from tf-models-official>=2.5.1->object-detection==0.1) (2.11.0)\n",
      "Requirement already satisfied: tensorflow~=2.11.0 in /home/chanyu/.pyenv/versions/3.8.10/lib/python3.8/site-packages (from tf-models-official>=2.5.1->object-detection==0.1) (2.11.0)\n",
      "Requirement already satisfied: tensorflow-hub>=0.6.0 in /home/chanyu/.pyenv/versions/3.8.10/lib/python3.8/site-packages (from tf-models-official>=2.5.1->object-detection==0.1) (0.12.0)\n",
      "Requirement already satisfied: opencv-python-headless==4.5.2.52 in /home/chanyu/.pyenv/versions/3.8.10/lib/python3.8/site-packages (from tf-models-official>=2.5.1->object-detection==0.1) (4.5.2.52)\n",
      "Requirement already satisfied: oauth2client in /home/chanyu/.pyenv/versions/3.8.10/lib/python3.8/site-packages (from tf-models-official>=2.5.1->object-detection==0.1) (4.1.3)\n",
      "Requirement already satisfied: tensorflow-model-optimization>=0.4.1 in /home/chanyu/.pyenv/versions/3.8.10/lib/python3.8/site-packages (from tf-models-official>=2.5.1->object-detection==0.1) (0.7.3)\n"
     ]
    },
    {
     "name": "stdout",
     "output_type": "stream",
     "text": [
      "Requirement already satisfied: uritemplate<5,>=3.0.1 in /home/chanyu/.pyenv/versions/3.8.10/lib/python3.8/site-packages (from google-api-python-client>=1.6.7->tf-models-official>=2.5.1->object-detection==0.1) (4.1.1)\n",
      "Requirement already satisfied: google-auth<3.0.0dev,>=1.19.0 in /home/chanyu/.pyenv/versions/3.8.10/lib/python3.8/site-packages (from google-api-python-client>=1.6.7->tf-models-official>=2.5.1->object-detection==0.1) (2.15.0)\n",
      "Requirement already satisfied: google-auth-httplib2>=0.1.0 in /home/chanyu/.pyenv/versions/3.8.10/lib/python3.8/site-packages (from google-api-python-client>=1.6.7->tf-models-official>=2.5.1->object-detection==0.1) (0.1.0)\n",
      "Requirement already satisfied: httplib2<1dev,>=0.15.0 in /home/chanyu/.pyenv/versions/3.8.10/lib/python3.8/site-packages (from google-api-python-client>=1.6.7->tf-models-official>=2.5.1->object-detection==0.1) (0.20.4)\n",
      "Requirement already satisfied: google-api-core!=2.0.*,!=2.1.*,!=2.2.*,!=2.3.0,<3.0.0dev,>=1.31.5 in /home/chanyu/.pyenv/versions/3.8.10/lib/python3.8/site-packages (from google-api-python-client>=1.6.7->tf-models-official>=2.5.1->object-detection==0.1) (2.11.0)\n",
      "Requirement already satisfied: googleapis-common-protos<2.0dev,>=1.56.2 in /home/chanyu/.pyenv/versions/3.8.10/lib/python3.8/site-packages (from google-api-core!=2.0.*,!=2.1.*,!=2.2.*,!=2.3.0,<3.0.0dev,>=1.31.5->google-api-python-client>=1.6.7->tf-models-official>=2.5.1->object-detection==0.1) (1.57.0)\n",
      "Requirement already satisfied: protobuf!=3.20.0,!=3.20.1,!=4.21.0,!=4.21.1,!=4.21.2,!=4.21.3,!=4.21.4,!=4.21.5,<5.0.0dev,>=3.19.5 in /home/chanyu/.pyenv/versions/3.8.10/lib/python3.8/site-packages (from google-api-core!=2.0.*,!=2.1.*,!=2.2.*,!=2.3.0,<3.0.0dev,>=1.31.5->google-api-python-client>=1.6.7->tf-models-official>=2.5.1->object-detection==0.1) (3.19.6)\n",
      "Requirement already satisfied: requests<3.0.0dev,>=2.18.0 in /home/chanyu/.pyenv/versions/3.8.10/lib/python3.8/site-packages (from google-api-core!=2.0.*,!=2.1.*,!=2.2.*,!=2.3.0,<3.0.0dev,>=1.31.5->google-api-python-client>=1.6.7->tf-models-official>=2.5.1->object-detection==0.1) (2.28.1)\n",
      "Requirement already satisfied: rsa<5,>=3.1.4 in /home/chanyu/.pyenv/versions/3.8.10/lib/python3.8/site-packages (from google-auth<3.0.0dev,>=1.19.0->google-api-python-client>=1.6.7->tf-models-official>=2.5.1->object-detection==0.1) (4.9)\n",
      "Requirement already satisfied: cachetools<6.0,>=2.0.0 in /home/chanyu/.pyenv/versions/3.8.10/lib/python3.8/site-packages (from google-auth<3.0.0dev,>=1.19.0->google-api-python-client>=1.6.7->tf-models-official>=2.5.1->object-detection==0.1) (5.2.0)\n",
      "Requirement already satisfied: pyasn1-modules>=0.2.1 in /home/chanyu/.pyenv/versions/3.8.10/lib/python3.8/site-packages (from google-auth<3.0.0dev,>=1.19.0->google-api-python-client>=1.6.7->tf-models-official>=2.5.1->object-detection==0.1) (0.2.8)\n",
      "Requirement already satisfied: certifi in /home/chanyu/.pyenv/versions/3.8.10/lib/python3.8/site-packages (from kaggle>=1.3.9->tf-models-official>=2.5.1->object-detection==0.1) (2022.9.24)\n",
      "Requirement already satisfied: python-dateutil in /home/chanyu/.pyenv/versions/3.8.10/lib/python3.8/site-packages (from kaggle>=1.3.9->tf-models-official>=2.5.1->object-detection==0.1) (2.8.2)\n",
      "Requirement already satisfied: tqdm in /home/chanyu/.pyenv/versions/3.8.10/lib/python3.8/site-packages (from kaggle>=1.3.9->tf-models-official>=2.5.1->object-detection==0.1) (4.64.1)\n",
      "Requirement already satisfied: python-slugify in /home/chanyu/.pyenv/versions/3.8.10/lib/python3.8/site-packages (from kaggle>=1.3.9->tf-models-official>=2.5.1->object-detection==0.1) (7.0.0)\n",
      "Requirement already satisfied: urllib3 in /home/chanyu/.pyenv/versions/3.8.10/lib/python3.8/site-packages (from kaggle>=1.3.9->tf-models-official>=2.5.1->object-detection==0.1) (1.26.13)\n",
      "Requirement already satisfied: pytz>=2020.1 in /home/chanyu/.pyenv/versions/3.8.10/lib/python3.8/site-packages (from pandas->object-detection==0.1) (2022.6)\n",
      "Requirement already satisfied: pyasn1<0.5.0,>=0.4.6 in /home/chanyu/.pyenv/versions/3.8.10/lib/python3.8/site-packages (from pyasn1-modules>=0.2.1->google-auth<3.0.0dev,>=1.19.0->google-api-python-client>=1.6.7->tf-models-official>=2.5.1->object-detection==0.1) (0.4.8)\n",
      "Requirement already satisfied: idna<4,>=2.5 in /home/chanyu/.pyenv/versions/3.8.10/lib/python3.8/site-packages (from requests<3.0.0dev,>=2.18.0->google-api-core!=2.0.*,!=2.1.*,!=2.2.*,!=2.3.0,<3.0.0dev,>=1.31.5->google-api-python-client>=1.6.7->tf-models-official>=2.5.1->object-detection==0.1) (3.4)\n",
      "Requirement already satisfied: charset-normalizer<3,>=2 in /home/chanyu/.pyenv/versions/3.8.10/lib/python3.8/site-packages (from requests<3.0.0dev,>=2.18.0->google-api-core!=2.0.*,!=2.1.*,!=2.2.*,!=2.3.0,<3.0.0dev,>=1.31.5->google-api-python-client>=1.6.7->tf-models-official>=2.5.1->object-detection==0.1) (2.1.1)\n",
      "Requirement already satisfied: wrapt>=1.11.0 in /home/chanyu/.pyenv/versions/3.8.10/lib/python3.8/site-packages (from tensorflow~=2.11.0->tf-models-official>=2.5.1->object-detection==0.1) (1.14.1)\n",
      "Requirement already satisfied: setuptools in /home/chanyu/.pyenv/versions/3.8.10/lib/python3.8/site-packages (from tensorflow~=2.11.0->tf-models-official>=2.5.1->object-detection==0.1) (56.0.0)\n",
      "Requirement already satisfied: gast<=0.4.0,>=0.2.1 in /home/chanyu/.pyenv/versions/3.8.10/lib/python3.8/site-packages (from tensorflow~=2.11.0->tf-models-official>=2.5.1->object-detection==0.1) (0.4.0)\n",
      "Requirement already satisfied: typing-extensions>=3.6.6 in /home/chanyu/.pyenv/versions/3.8.10/lib/python3.8/site-packages (from tensorflow~=2.11.0->tf-models-official>=2.5.1->object-detection==0.1) (4.4.0)\n",
      "Requirement already satisfied: tensorflow-io-gcs-filesystem>=0.23.1 in /home/chanyu/.pyenv/versions/3.8.10/lib/python3.8/site-packages (from tensorflow~=2.11.0->tf-models-official>=2.5.1->object-detection==0.1) (0.28.0)\n",
      "Requirement already satisfied: opt-einsum>=2.3.2 in /home/chanyu/.pyenv/versions/3.8.10/lib/python3.8/site-packages (from tensorflow~=2.11.0->tf-models-official>=2.5.1->object-detection==0.1) (3.3.0)\n",
      "Requirement already satisfied: grpcio<2.0,>=1.24.3 in /home/chanyu/.pyenv/versions/3.8.10/lib/python3.8/site-packages (from tensorflow~=2.11.0->tf-models-official>=2.5.1->object-detection==0.1) (1.51.1)\n",
      "Requirement already satisfied: libclang>=13.0.0 in /home/chanyu/.pyenv/versions/3.8.10/lib/python3.8/site-packages (from tensorflow~=2.11.0->tf-models-official>=2.5.1->object-detection==0.1) (14.0.6)\n",
      "Requirement already satisfied: tensorboard<2.12,>=2.11 in /home/chanyu/.pyenv/versions/3.8.10/lib/python3.8/site-packages (from tensorflow~=2.11.0->tf-models-official>=2.5.1->object-detection==0.1) (2.11.0)\n",
      "Requirement already satisfied: packaging in /home/chanyu/.pyenv/versions/3.8.10/lib/python3.8/site-packages (from tensorflow~=2.11.0->tf-models-official>=2.5.1->object-detection==0.1) (21.3)\n",
      "Requirement already satisfied: tensorflow-estimator<2.12,>=2.11.0 in /home/chanyu/.pyenv/versions/3.8.10/lib/python3.8/site-packages (from tensorflow~=2.11.0->tf-models-official>=2.5.1->object-detection==0.1) (2.11.0)\n",
      "Requirement already satisfied: h5py>=2.9.0 in /home/chanyu/.pyenv/versions/3.8.10/lib/python3.8/site-packages (from tensorflow~=2.11.0->tf-models-official>=2.5.1->object-detection==0.1) (3.7.0)\n",
      "Requirement already satisfied: termcolor>=1.1.0 in /home/chanyu/.pyenv/versions/3.8.10/lib/python3.8/site-packages (from tensorflow~=2.11.0->tf-models-official>=2.5.1->object-detection==0.1) (2.1.1)\n",
      "Requirement already satisfied: google-pasta>=0.1.1 in /home/chanyu/.pyenv/versions/3.8.10/lib/python3.8/site-packages (from tensorflow~=2.11.0->tf-models-official>=2.5.1->object-detection==0.1) (0.2.0)\n",
      "Requirement already satisfied: absl-py>=1.0.0 in /home/chanyu/.pyenv/versions/3.8.10/lib/python3.8/site-packages (from tensorflow~=2.11.0->tf-models-official>=2.5.1->object-detection==0.1) (1.3.0)\n",
      "Requirement already satisfied: astunparse>=1.6.0 in /home/chanyu/.pyenv/versions/3.8.10/lib/python3.8/site-packages (from tensorflow~=2.11.0->tf-models-official>=2.5.1->object-detection==0.1) (1.6.3)\n",
      "Requirement already satisfied: flatbuffers>=2.0 in /home/chanyu/.pyenv/versions/3.8.10/lib/python3.8/site-packages (from tensorflow~=2.11.0->tf-models-official>=2.5.1->object-detection==0.1) (22.11.23)\n",
      "Requirement already satisfied: wheel<1.0,>=0.23.0 in /home/chanyu/.pyenv/versions/3.8.10/lib/python3.8/site-packages (from astunparse>=1.6.0->tensorflow~=2.11.0->tf-models-official>=2.5.1->object-detection==0.1) (0.38.4)\n"
     ]
    },
    {
     "name": "stdout",
     "output_type": "stream",
     "text": [
      "Requirement already satisfied: tensorboard-data-server<0.7.0,>=0.6.0 in /home/chanyu/.pyenv/versions/3.8.10/lib/python3.8/site-packages (from tensorboard<2.12,>=2.11->tensorflow~=2.11.0->tf-models-official>=2.5.1->object-detection==0.1) (0.6.1)\n",
      "Requirement already satisfied: markdown>=2.6.8 in /home/chanyu/.pyenv/versions/3.8.10/lib/python3.8/site-packages (from tensorboard<2.12,>=2.11->tensorflow~=2.11.0->tf-models-official>=2.5.1->object-detection==0.1) (3.4.1)\n",
      "Requirement already satisfied: tensorboard-plugin-wit>=1.6.0 in /home/chanyu/.pyenv/versions/3.8.10/lib/python3.8/site-packages (from tensorboard<2.12,>=2.11->tensorflow~=2.11.0->tf-models-official>=2.5.1->object-detection==0.1) (1.8.1)\n",
      "Requirement already satisfied: google-auth-oauthlib<0.5,>=0.4.1 in /home/chanyu/.pyenv/versions/3.8.10/lib/python3.8/site-packages (from tensorboard<2.12,>=2.11->tensorflow~=2.11.0->tf-models-official>=2.5.1->object-detection==0.1) (0.4.6)\n",
      "Requirement already satisfied: werkzeug>=1.0.1 in /home/chanyu/.pyenv/versions/3.8.10/lib/python3.8/site-packages (from tensorboard<2.12,>=2.11->tensorflow~=2.11.0->tf-models-official>=2.5.1->object-detection==0.1) (2.2.2)\n",
      "Requirement already satisfied: requests-oauthlib>=0.7.0 in /home/chanyu/.pyenv/versions/3.8.10/lib/python3.8/site-packages (from google-auth-oauthlib<0.5,>=0.4.1->tensorboard<2.12,>=2.11->tensorflow~=2.11.0->tf-models-official>=2.5.1->object-detection==0.1) (1.3.1)\n",
      "Requirement already satisfied: importlib-metadata>=4.4 in /home/chanyu/.pyenv/versions/3.8.10/lib/python3.8/site-packages (from markdown>=2.6.8->tensorboard<2.12,>=2.11->tensorflow~=2.11.0->tf-models-official>=2.5.1->object-detection==0.1) (5.1.0)\n",
      "Requirement already satisfied: zipp>=0.5 in /home/chanyu/.pyenv/versions/3.8.10/lib/python3.8/site-packages (from importlib-metadata>=4.4->markdown>=2.6.8->tensorboard<2.12,>=2.11->tensorflow~=2.11.0->tf-models-official>=2.5.1->object-detection==0.1) (3.11.0)\n",
      "Requirement already satisfied: oauthlib>=3.0.0 in /home/chanyu/.pyenv/versions/3.8.10/lib/python3.8/site-packages (from requests-oauthlib>=0.7.0->google-auth-oauthlib<0.5,>=0.4.1->tensorboard<2.12,>=2.11->tensorflow~=2.11.0->tf-models-official>=2.5.1->object-detection==0.1) (3.2.2)\n",
      "Requirement already satisfied: dm-tree~=0.1.1 in /home/chanyu/.pyenv/versions/3.8.10/lib/python3.8/site-packages (from tensorflow-model-optimization>=0.4.1->tf-models-official>=2.5.1->object-detection==0.1) (0.1.7)\n",
      "Requirement already satisfied: MarkupSafe>=2.1.1 in /home/chanyu/.pyenv/versions/3.8.10/lib/python3.8/site-packages (from werkzeug>=1.0.1->tensorboard<2.12,>=2.11->tensorflow~=2.11.0->tf-models-official>=2.5.1->object-detection==0.1) (2.1.1)\n",
      "Requirement already satisfied: fastavro<2,>=0.23.6 in /home/chanyu/.pyenv/versions/3.8.10/lib/python3.8/site-packages (from apache-beam->object-detection==0.1) (1.7.0)\n",
      "Requirement already satisfied: objsize<0.6.0,>=0.5.2 in /home/chanyu/.pyenv/versions/3.8.10/lib/python3.8/site-packages (from apache-beam->object-detection==0.1) (0.5.2)\n",
      "Requirement already satisfied: fasteners<1.0,>=0.3 in /home/chanyu/.pyenv/versions/3.8.10/lib/python3.8/site-packages (from apache-beam->object-detection==0.1) (0.18)\n",
      "Requirement already satisfied: pyarrow<10.0.0,>=0.15.1 in /home/chanyu/.pyenv/versions/3.8.10/lib/python3.8/site-packages (from apache-beam->object-detection==0.1) (9.0.0)\n",
      "Requirement already satisfied: crcmod<2.0,>=1.7 in /home/chanyu/.pyenv/versions/3.8.10/lib/python3.8/site-packages (from apache-beam->object-detection==0.1) (1.7)\n",
      "Requirement already satisfied: hdfs<3.0.0,>=2.1.0 in /home/chanyu/.pyenv/versions/3.8.10/lib/python3.8/site-packages (from apache-beam->object-detection==0.1) (2.7.0)\n",
      "Requirement already satisfied: pydot<2,>=1.2.0 in /home/chanyu/.pyenv/versions/3.8.10/lib/python3.8/site-packages (from apache-beam->object-detection==0.1) (1.4.2)\n",
      "Requirement already satisfied: pymongo<4.0.0,>=3.8.0 in /home/chanyu/.pyenv/versions/3.8.10/lib/python3.8/site-packages (from apache-beam->object-detection==0.1) (3.13.0)\n",
      "Requirement already satisfied: proto-plus<2,>=1.7.1 in /home/chanyu/.pyenv/versions/3.8.10/lib/python3.8/site-packages (from apache-beam->object-detection==0.1) (1.22.1)\n",
      "Requirement already satisfied: orjson<4.0 in /home/chanyu/.pyenv/versions/3.8.10/lib/python3.8/site-packages (from apache-beam->object-detection==0.1) (3.8.3)\n",
      "Requirement already satisfied: zstandard<1,>=0.18.0 in /home/chanyu/.pyenv/versions/3.8.10/lib/python3.8/site-packages (from apache-beam->object-detection==0.1) (0.19.0)\n",
      "Requirement already satisfied: cloudpickle~=2.2.0 in /home/chanyu/.pyenv/versions/3.8.10/lib/python3.8/site-packages (from apache-beam->object-detection==0.1) (2.2.0)\n",
      "Requirement already satisfied: dill<0.3.2,>=0.3.1.1 in /home/chanyu/.pyenv/versions/3.8.10/lib/python3.8/site-packages (from apache-beam->object-detection==0.1) (0.3.1.1)\n",
      "Requirement already satisfied: docopt in /home/chanyu/.pyenv/versions/3.8.10/lib/python3.8/site-packages (from hdfs<3.0.0,>=2.1.0->apache-beam->object-detection==0.1) (0.6.2)\n",
      "Requirement already satisfied: opencv-python>=4.1.0.25 in /home/chanyu/.pyenv/versions/3.8.10/lib/python3.8/site-packages (from lvis->object-detection==0.1) (4.6.0.66)\n",
      "Requirement already satisfied: kiwisolver>=1.1.0 in /home/chanyu/.pyenv/versions/3.8.10/lib/python3.8/site-packages (from lvis->object-detection==0.1) (1.4.4)\n",
      "Requirement already satisfied: cycler>=0.10.0 in /home/chanyu/.pyenv/versions/3.8.10/lib/python3.8/site-packages (from lvis->object-detection==0.1) (0.11.0)\n",
      "Requirement already satisfied: text-unidecode>=1.3 in /home/chanyu/.pyenv/versions/3.8.10/lib/python3.8/site-packages (from python-slugify->kaggle>=1.3.9->tf-models-official>=2.5.1->object-detection==0.1) (1.3)\n",
      "Requirement already satisfied: scikit-learn>=0.21.3 in /home/chanyu/.pyenv/versions/3.8.10/lib/python3.8/site-packages (from seqeval->tf-models-official>=2.5.1->object-detection==0.1) (1.1.3)\n",
      "Requirement already satisfied: joblib>=1.0.0 in /home/chanyu/.pyenv/versions/3.8.10/lib/python3.8/site-packages (from scikit-learn>=0.21.3->seqeval->tf-models-official>=2.5.1->object-detection==0.1) (1.2.0)\n",
      "Requirement already satisfied: threadpoolctl>=2.0.0 in /home/chanyu/.pyenv/versions/3.8.10/lib/python3.8/site-packages (from scikit-learn>=0.21.3->seqeval->tf-models-official>=2.5.1->object-detection==0.1) (3.1.0)\n",
      "Requirement already satisfied: typeguard>=2.7 in /home/chanyu/.pyenv/versions/3.8.10/lib/python3.8/site-packages (from tensorflow-addons->tf-models-official>=2.5.1->object-detection==0.1) (2.13.3)\n",
      "Requirement already satisfied: toml in /home/chanyu/.pyenv/versions/3.8.10/lib/python3.8/site-packages (from tensorflow-datasets->tf-models-official>=2.5.1->object-detection==0.1) (0.10.2)\n",
      "Requirement already satisfied: promise in /home/chanyu/.pyenv/versions/3.8.10/lib/python3.8/site-packages (from tensorflow-datasets->tf-models-official>=2.5.1->object-detection==0.1) (2.3)\n",
      "Requirement already satisfied: etils[epath] in /home/chanyu/.pyenv/versions/3.8.10/lib/python3.8/site-packages (from tensorflow-datasets->tf-models-official>=2.5.1->object-detection==0.1) (0.9.0)\n",
      "Requirement already satisfied: tensorflow-metadata in /home/chanyu/.pyenv/versions/3.8.10/lib/python3.8/site-packages (from tensorflow-datasets->tf-models-official>=2.5.1->object-detection==0.1) (1.11.0)\n",
      "Requirement already satisfied: importlib-resources in /home/chanyu/.pyenv/versions/3.8.10/lib/python3.8/site-packages (from tensorflow-datasets->tf-models-official>=2.5.1->object-detection==0.1) (5.10.0)\n",
      "Building wheels for collected packages: object-detection\n",
      "  Building wheel for object-detection (setup.py) ... \u001b[?25ldone\n",
      "\u001b[?25h  Created wheel for object-detection: filename=object_detection-0.1-py3-none-any.whl size=1663034 sha256=9a168656035754d063a84423fbae9c6fd01a3ff6201f52d53225917693b4cb59\n",
      "  Stored in directory: /tmp/pip-ephem-wheel-cache-ft1xl4vd/wheels/04/2c/c5/d3355928743d6abd39f508940151a780406faf08e5ec4985e6\n",
      "Successfully built object-detection\n",
      "Installing collected packages: object-detection\n",
      "  Attempting uninstall: object-detection\n",
      "    Found existing installation: object-detection 0.1\n",
      "    Uninstalling object-detection-0.1:\n",
      "      Successfully uninstalled object-detection-0.1\n"
     ]
    },
    {
     "name": "stdout",
     "output_type": "stream",
     "text": [
      "Successfully installed object-detection-0.1\r\n",
      "\u001b[33mWARNING: You are using pip version 21.1.1; however, version 22.3.1 is available.\r\n",
      "You should consider upgrading via the '/home/chanyu/.pyenv/versions/3.8.10/bin/python -m pip install --upgrade pip' command.\u001b[0m\r\n"
     ]
    }
   ],
   "source": [
    "# Install Tensorflow Object Detection \n",
    "if os.name=='posix':  \n",
    "    !apt-get install protobuf-compiler\n",
    "    !cd Tensorflow/models/research && protoc object_detection/protos/*.proto --python_out=. && cp object_detection/packages/tf2/setup.py . && python -m pip install . "
   ]
  },
  {
   "cell_type": "code",
   "execution_count": 8,
   "metadata": {
    "scrolled": true
   },
   "outputs": [
    {
     "name": "stdout",
     "output_type": "stream",
     "text": [
      "/bin/bash: /home/chanyu/anaconda3/lib/libtinfo.so.6: no version information available (required by /bin/bash)\n",
      "bash: /home/chanyu/anaconda3/lib/libtinfo.so.6: no version information available (required by bash)\n",
      "bash: /home/chanyu/anaconda3/lib/libtinfo.so.6: no version information available (required by bash)\n",
      "bash: /home/chanyu/anaconda3/lib/libtinfo.so.6: no version information available (required by bash)\n",
      "bash: /home/chanyu/anaconda3/lib/libtinfo.so.6: no version information available (required by bash)\n",
      "bash: /home/chanyu/anaconda3/lib/libtinfo.so.6: no version information available (required by bash)\n",
      "bash: /home/chanyu/anaconda3/lib/libtinfo.so.6: no version information available (required by bash)\n",
      "bash: /home/chanyu/anaconda3/lib/libtinfo.so.6: no version information available (required by bash)\n",
      "bash: /home/chanyu/anaconda3/lib/libtinfo.so.6: no version information available (required by bash)\n",
      "bash: /home/chanyu/anaconda3/lib/libtinfo.so.6: no version information available (required by bash)\n",
      "bash: /home/chanyu/anaconda3/lib/libtinfo.so.6: no version information available (required by bash)\n",
      "2022-12-18 11:30:44.056072: I tensorflow/core/platform/cpu_feature_guard.cc:193] This TensorFlow binary is optimized with oneAPI Deep Neural Network Library (oneDNN) to use the following CPU instructions in performance-critical operations:  AVX2 FMA\n",
      "To enable them in other operations, rebuild TensorFlow with the appropriate compiler flags.\n",
      "2022-12-18 11:30:45.615867: W tensorflow/compiler/xla/stream_executor/platform/default/dso_loader.cc:64] Could not load dynamic library 'libnvinfer.so.7'; dlerror: libnvinfer.so.7: cannot open shared object file: No such file or directory; LD_LIBRARY_PATH: /usr/local/cuda/lib64:/home/chanyu/anaconda3/lib/\n",
      "2022-12-18 11:30:45.615925: W tensorflow/compiler/xla/stream_executor/platform/default/dso_loader.cc:64] Could not load dynamic library 'libnvinfer_plugin.so.7'; dlerror: libnvinfer_plugin.so.7: cannot open shared object file: No such file or directory; LD_LIBRARY_PATH: /usr/local/cuda/lib64:/home/chanyu/anaconda3/lib/\n",
      "2022-12-18 11:30:45.615933: W tensorflow/compiler/tf2tensorrt/utils/py_utils.cc:38] TF-TRT Warning: Cannot dlopen some TensorRT libraries. If you would like to use Nvidia GPU with TensorRT, please make sure the missing libraries mentioned above are installed properly.\n",
      "/home/chanyu/.pyenv/versions/3.8.10/lib/python3.8/site-packages/tensorflow_addons/utils/ensure_tf_install.py:53: UserWarning: Tensorflow Addons supports using Python ops for all Tensorflow versions above or equal to 2.8.0 and strictly below 2.11.0 (nightly versions are not supported). \n",
      " The versions of TensorFlow you are currently using is 2.11.0 and is not supported. \n",
      "Some things might work, some things might not.\n",
      "If you were to encounter a bug, do not file an issue.\n",
      "If you want to make sure you're using a tested and supported configuration, either change the TensorFlow version or the TensorFlow Addons's version. \n",
      "You can find the compatibility matrix in TensorFlow Addon's readme:\n",
      "https://github.com/tensorflow/addons\n",
      "  warnings.warn(\n",
      "2022-12-18 11:30:47.925101: I tensorflow/compiler/xla/stream_executor/cuda/cuda_gpu_executor.cc:981] successful NUMA node read from SysFS had negative value (-1), but there must be at least one NUMA node, so returning NUMA node zero\n",
      "2022-12-18 11:30:47.963529: I tensorflow/compiler/xla/stream_executor/cuda/cuda_gpu_executor.cc:981] successful NUMA node read from SysFS had negative value (-1), but there must be at least one NUMA node, so returning NUMA node zero\n",
      "2022-12-18 11:30:47.963725: I tensorflow/compiler/xla/stream_executor/cuda/cuda_gpu_executor.cc:981] successful NUMA node read from SysFS had negative value (-1), but there must be at least one NUMA node, so returning NUMA node zero\n",
      "Running tests under Python 3.8.10: /home/chanyu/.pyenv/versions/3.8.10/bin/python\n",
      "[ RUN      ] ModelBuilderTF2Test.test_create_center_net_deepmac\n",
      "2022-12-18 11:30:47.972536: I tensorflow/core/platform/cpu_feature_guard.cc:193] This TensorFlow binary is optimized with oneAPI Deep Neural Network Library (oneDNN) to use the following CPU instructions in performance-critical operations:  AVX2 FMA\n",
      "To enable them in other operations, rebuild TensorFlow with the appropriate compiler flags.\n",
      "2022-12-18 11:30:47.973560: I tensorflow/compiler/xla/stream_executor/cuda/cuda_gpu_executor.cc:981] successful NUMA node read from SysFS had negative value (-1), but there must be at least one NUMA node, so returning NUMA node zero\n",
      "2022-12-18 11:30:47.973732: I tensorflow/compiler/xla/stream_executor/cuda/cuda_gpu_executor.cc:981] successful NUMA node read from SysFS had negative value (-1), but there must be at least one NUMA node, so returning NUMA node zero\n",
      "2022-12-18 11:30:47.973878: I tensorflow/compiler/xla/stream_executor/cuda/cuda_gpu_executor.cc:981] successful NUMA node read from SysFS had negative value (-1), but there must be at least one NUMA node, so returning NUMA node zero\n",
      "2022-12-18 11:30:48.805224: I tensorflow/compiler/xla/stream_executor/cuda/cuda_gpu_executor.cc:981] successful NUMA node read from SysFS had negative value (-1), but there must be at least one NUMA node, so returning NUMA node zero\n",
      "2022-12-18 11:30:48.805925: I tensorflow/compiler/xla/stream_executor/cuda/cuda_gpu_executor.cc:981] successful NUMA node read from SysFS had negative value (-1), but there must be at least one NUMA node, so returning NUMA node zero\n",
      "2022-12-18 11:30:48.806085: I tensorflow/compiler/xla/stream_executor/cuda/cuda_gpu_executor.cc:981] successful NUMA node read from SysFS had negative value (-1), but there must be at least one NUMA node, so returning NUMA node zero\n",
      "2022-12-18 11:30:48.806536: I tensorflow/core/common_runtime/gpu/gpu_device.cc:1613] Created device /job:localhost/replica:0/task:0/device:GPU:0 with 3231 MB memory:  -> device: 0, name: NVIDIA GeForce RTX 2060, pci bus id: 0000:08:00.0, compute capability: 7.5\n",
      "/home/chanyu/.pyenv/versions/3.8.10/lib/python3.8/site-packages/object_detection/builders/model_builder.py:1112: DeprecationWarning: The 'warn' function is deprecated, use 'warning' instead\n",
      "  logging.warn(('Building experimental DeepMAC meta-arch.'\n",
      "W1218 11:30:49.245369 139725484791616 model_builder.py:1112] Building experimental DeepMAC meta-arch. Some features may be omitted.\n",
      "INFO:tensorflow:time(__main__.ModelBuilderTF2Test.test_create_center_net_deepmac): 1.53s\n",
      "I1218 11:30:49.491393 139725484791616 test_util.py:2457] time(__main__.ModelBuilderTF2Test.test_create_center_net_deepmac): 1.53s\n",
      "[       OK ] ModelBuilderTF2Test.test_create_center_net_deepmac\n",
      "[ RUN      ] ModelBuilderTF2Test.test_create_center_net_model0 (customize_head_params=True)\n",
      "INFO:tensorflow:time(__main__.ModelBuilderTF2Test.test_create_center_net_model0 (customize_head_params=True)): 0.48s\n",
      "I1218 11:30:49.968588 139725484791616 test_util.py:2457] time(__main__.ModelBuilderTF2Test.test_create_center_net_model0 (customize_head_params=True)): 0.48s\n",
      "[       OK ] ModelBuilderTF2Test.test_create_center_net_model0 (customize_head_params=True)\n",
      "[ RUN      ] ModelBuilderTF2Test.test_create_center_net_model1 (customize_head_params=False)\n",
      "INFO:tensorflow:time(__main__.ModelBuilderTF2Test.test_create_center_net_model1 (customize_head_params=False)): 0.23s\n",
      "I1218 11:30:50.196546 139725484791616 test_util.py:2457] time(__main__.ModelBuilderTF2Test.test_create_center_net_model1 (customize_head_params=False)): 0.23s\n",
      "[       OK ] ModelBuilderTF2Test.test_create_center_net_model1 (customize_head_params=False)\n",
      "[ RUN      ] ModelBuilderTF2Test.test_create_center_net_model_from_keypoints\n",
      "INFO:tensorflow:time(__main__.ModelBuilderTF2Test.test_create_center_net_model_from_keypoints): 0.3s\n",
      "I1218 11:30:50.493855 139725484791616 test_util.py:2457] time(__main__.ModelBuilderTF2Test.test_create_center_net_model_from_keypoints): 0.3s\n",
      "[       OK ] ModelBuilderTF2Test.test_create_center_net_model_from_keypoints\n",
      "[ RUN      ] ModelBuilderTF2Test.test_create_center_net_model_mobilenet\n",
      "INFO:tensorflow:time(__main__.ModelBuilderTF2Test.test_create_center_net_model_mobilenet): 1.3s\n",
      "I1218 11:30:51.791679 139725484791616 test_util.py:2457] time(__main__.ModelBuilderTF2Test.test_create_center_net_model_mobilenet): 1.3s\n",
      "[       OK ] ModelBuilderTF2Test.test_create_center_net_model_mobilenet\n",
      "[ RUN      ] ModelBuilderTF2Test.test_create_experimental_model\n",
      "INFO:tensorflow:time(__main__.ModelBuilderTF2Test.test_create_experimental_model): 0.0s\n",
      "I1218 11:30:51.795984 139725484791616 test_util.py:2457] time(__main__.ModelBuilderTF2Test.test_create_experimental_model): 0.0s\n",
      "[       OK ] ModelBuilderTF2Test.test_create_experimental_model\n",
      "[ RUN      ] ModelBuilderTF2Test.test_create_faster_rcnn_from_config_with_crop_feature0 (True)\n",
      "INFO:tensorflow:time(__main__.ModelBuilderTF2Test.test_create_faster_rcnn_from_config_with_crop_feature0 (True)): 0.02s\n",
      "I1218 11:30:51.815461 139725484791616 test_util.py:2457] time(__main__.ModelBuilderTF2Test.test_create_faster_rcnn_from_config_with_crop_feature0 (True)): 0.02s\n",
      "[       OK ] ModelBuilderTF2Test.test_create_faster_rcnn_from_config_with_crop_feature0 (True)\n",
      "[ RUN      ] ModelBuilderTF2Test.test_create_faster_rcnn_from_config_with_crop_feature1 (False)\n",
      "INFO:tensorflow:time(__main__.ModelBuilderTF2Test.test_create_faster_rcnn_from_config_with_crop_feature1 (False)): 0.01s\n",
      "I1218 11:30:51.828474 139725484791616 test_util.py:2457] time(__main__.ModelBuilderTF2Test.test_create_faster_rcnn_from_config_with_crop_feature1 (False)): 0.01s\n",
      "[       OK ] ModelBuilderTF2Test.test_create_faster_rcnn_from_config_with_crop_feature1 (False)\n",
      "[ RUN      ] ModelBuilderTF2Test.test_create_faster_rcnn_model_from_config_with_example_miner\n"
     ]
    },
    {
     "name": "stdout",
     "output_type": "stream",
     "text": [
      "INFO:tensorflow:time(__main__.ModelBuilderTF2Test.test_create_faster_rcnn_model_from_config_with_example_miner): 0.02s\n",
      "I1218 11:30:51.852107 139725484791616 test_util.py:2457] time(__main__.ModelBuilderTF2Test.test_create_faster_rcnn_model_from_config_with_example_miner): 0.02s\n",
      "[       OK ] ModelBuilderTF2Test.test_create_faster_rcnn_model_from_config_with_example_miner\n",
      "[ RUN      ] ModelBuilderTF2Test.test_create_faster_rcnn_models_from_config_faster_rcnn_with_matmul\n",
      "INFO:tensorflow:time(__main__.ModelBuilderTF2Test.test_create_faster_rcnn_models_from_config_faster_rcnn_with_matmul): 0.08s\n",
      "I1218 11:30:51.930984 139725484791616 test_util.py:2457] time(__main__.ModelBuilderTF2Test.test_create_faster_rcnn_models_from_config_faster_rcnn_with_matmul): 0.08s\n",
      "[       OK ] ModelBuilderTF2Test.test_create_faster_rcnn_models_from_config_faster_rcnn_with_matmul\n",
      "[ RUN      ] ModelBuilderTF2Test.test_create_faster_rcnn_models_from_config_faster_rcnn_without_matmul\n",
      "INFO:tensorflow:time(__main__.ModelBuilderTF2Test.test_create_faster_rcnn_models_from_config_faster_rcnn_without_matmul): 0.07s\n",
      "I1218 11:30:52.006055 139725484791616 test_util.py:2457] time(__main__.ModelBuilderTF2Test.test_create_faster_rcnn_models_from_config_faster_rcnn_without_matmul): 0.07s\n",
      "[       OK ] ModelBuilderTF2Test.test_create_faster_rcnn_models_from_config_faster_rcnn_without_matmul\n",
      "[ RUN      ] ModelBuilderTF2Test.test_create_faster_rcnn_models_from_config_mask_rcnn_with_matmul\n",
      "INFO:tensorflow:time(__main__.ModelBuilderTF2Test.test_create_faster_rcnn_models_from_config_mask_rcnn_with_matmul): 0.08s\n",
      "I1218 11:30:52.084916 139725484791616 test_util.py:2457] time(__main__.ModelBuilderTF2Test.test_create_faster_rcnn_models_from_config_mask_rcnn_with_matmul): 0.08s\n",
      "[       OK ] ModelBuilderTF2Test.test_create_faster_rcnn_models_from_config_mask_rcnn_with_matmul\n",
      "[ RUN      ] ModelBuilderTF2Test.test_create_faster_rcnn_models_from_config_mask_rcnn_without_matmul\n",
      "INFO:tensorflow:time(__main__.ModelBuilderTF2Test.test_create_faster_rcnn_models_from_config_mask_rcnn_without_matmul): 0.08s\n",
      "I1218 11:30:52.169653 139725484791616 test_util.py:2457] time(__main__.ModelBuilderTF2Test.test_create_faster_rcnn_models_from_config_mask_rcnn_without_matmul): 0.08s\n",
      "[       OK ] ModelBuilderTF2Test.test_create_faster_rcnn_models_from_config_mask_rcnn_without_matmul\n",
      "[ RUN      ] ModelBuilderTF2Test.test_create_rfcn_model_from_config\n",
      "INFO:tensorflow:time(__main__.ModelBuilderTF2Test.test_create_rfcn_model_from_config): 0.08s\n",
      "I1218 11:30:52.245089 139725484791616 test_util.py:2457] time(__main__.ModelBuilderTF2Test.test_create_rfcn_model_from_config): 0.08s\n",
      "[       OK ] ModelBuilderTF2Test.test_create_rfcn_model_from_config\n",
      "[ RUN      ] ModelBuilderTF2Test.test_create_ssd_fpn_model_from_config\n",
      "INFO:tensorflow:time(__main__.ModelBuilderTF2Test.test_create_ssd_fpn_model_from_config): 0.02s\n",
      "I1218 11:30:52.268356 139725484791616 test_util.py:2457] time(__main__.ModelBuilderTF2Test.test_create_ssd_fpn_model_from_config): 0.02s\n",
      "[       OK ] ModelBuilderTF2Test.test_create_ssd_fpn_model_from_config\n",
      "[ RUN      ] ModelBuilderTF2Test.test_create_ssd_models_from_config\n",
      "I1218 11:30:52.571815 139725484791616 ssd_efficientnet_bifpn_feature_extractor.py:150] EfficientDet EfficientNet backbone version: efficientnet-b0\n",
      "I1218 11:30:52.571933 139725484791616 ssd_efficientnet_bifpn_feature_extractor.py:152] EfficientDet BiFPN num filters: 64\n",
      "I1218 11:30:52.571974 139725484791616 ssd_efficientnet_bifpn_feature_extractor.py:153] EfficientDet BiFPN num iterations: 3\n",
      "I1218 11:30:52.573931 139725484791616 efficientnet_model.py:143] round_filter input=32 output=32\n",
      "I1218 11:30:52.592678 139725484791616 efficientnet_model.py:143] round_filter input=32 output=32\n",
      "I1218 11:30:52.592780 139725484791616 efficientnet_model.py:143] round_filter input=16 output=16\n",
      "I1218 11:30:52.650688 139725484791616 efficientnet_model.py:143] round_filter input=16 output=16\n",
      "I1218 11:30:52.650804 139725484791616 efficientnet_model.py:143] round_filter input=24 output=24\n",
      "I1218 11:30:52.775646 139725484791616 efficientnet_model.py:143] round_filter input=24 output=24\n",
      "I1218 11:30:52.775749 139725484791616 efficientnet_model.py:143] round_filter input=40 output=40\n",
      "I1218 11:30:52.905941 139725484791616 efficientnet_model.py:143] round_filter input=40 output=40\n",
      "I1218 11:30:52.906065 139725484791616 efficientnet_model.py:143] round_filter input=80 output=80\n",
      "I1218 11:30:53.082810 139725484791616 efficientnet_model.py:143] round_filter input=80 output=80\n",
      "I1218 11:30:53.082924 139725484791616 efficientnet_model.py:143] round_filter input=112 output=112\n",
      "I1218 11:30:53.267229 139725484791616 efficientnet_model.py:143] round_filter input=112 output=112\n",
      "I1218 11:30:53.267337 139725484791616 efficientnet_model.py:143] round_filter input=192 output=192\n",
      "I1218 11:30:53.498916 139725484791616 efficientnet_model.py:143] round_filter input=192 output=192\n",
      "I1218 11:30:53.499035 139725484791616 efficientnet_model.py:143] round_filter input=320 output=320\n",
      "I1218 11:30:53.555074 139725484791616 efficientnet_model.py:143] round_filter input=1280 output=1280\n",
      "I1218 11:30:53.589598 139725484791616 efficientnet_model.py:453] Building model efficientnet with params ModelConfig(width_coefficient=1.0, depth_coefficient=1.0, resolution=224, dropout_rate=0.2, blocks=(BlockConfig(input_filters=32, output_filters=16, kernel_size=3, num_repeat=1, expand_ratio=1, strides=(1, 1), se_ratio=0.25, id_skip=True, fused_conv=False, conv_type='depthwise'), BlockConfig(input_filters=16, output_filters=24, kernel_size=3, num_repeat=2, expand_ratio=6, strides=(2, 2), se_ratio=0.25, id_skip=True, fused_conv=False, conv_type='depthwise'), BlockConfig(input_filters=24, output_filters=40, kernel_size=5, num_repeat=2, expand_ratio=6, strides=(2, 2), se_ratio=0.25, id_skip=True, fused_conv=False, conv_type='depthwise'), BlockConfig(input_filters=40, output_filters=80, kernel_size=3, num_repeat=3, expand_ratio=6, strides=(2, 2), se_ratio=0.25, id_skip=True, fused_conv=False, conv_type='depthwise'), BlockConfig(input_filters=80, output_filters=112, kernel_size=5, num_repeat=3, expand_ratio=6, strides=(1, 1), se_ratio=0.25, id_skip=True, fused_conv=False, conv_type='depthwise'), BlockConfig(input_filters=112, output_filters=192, kernel_size=5, num_repeat=4, expand_ratio=6, strides=(2, 2), se_ratio=0.25, id_skip=True, fused_conv=False, conv_type='depthwise'), BlockConfig(input_filters=192, output_filters=320, kernel_size=3, num_repeat=1, expand_ratio=6, strides=(1, 1), se_ratio=0.25, id_skip=True, fused_conv=False, conv_type='depthwise')), stem_base_filters=32, top_base_filters=1280, activation='simple_swish', batch_norm='default', bn_momentum=0.99, bn_epsilon=0.001, weight_decay=5e-06, drop_connect_rate=0.2, depth_divisor=8, min_depth=None, use_se=True, input_channels=3, num_classes=1000, model_name='efficientnet', rescale_input=False, data_format='channels_last', dtype='float32')\n",
      "I1218 11:30:53.638641 139725484791616 ssd_efficientnet_bifpn_feature_extractor.py:150] EfficientDet EfficientNet backbone version: efficientnet-b1\n",
      "I1218 11:30:53.638782 139725484791616 ssd_efficientnet_bifpn_feature_extractor.py:152] EfficientDet BiFPN num filters: 88\n",
      "I1218 11:30:53.638823 139725484791616 ssd_efficientnet_bifpn_feature_extractor.py:153] EfficientDet BiFPN num iterations: 4\n",
      "I1218 11:30:53.640601 139725484791616 efficientnet_model.py:143] round_filter input=32 output=32\n",
      "I1218 11:30:53.658137 139725484791616 efficientnet_model.py:143] round_filter input=32 output=32\n",
      "I1218 11:30:53.658493 139725484791616 efficientnet_model.py:143] round_filter input=16 output=16\n",
      "I1218 11:30:53.774437 139725484791616 efficientnet_model.py:143] round_filter input=16 output=16\n",
      "I1218 11:30:53.774663 139725484791616 efficientnet_model.py:143] round_filter input=24 output=24\n",
      "I1218 11:30:53.945092 139725484791616 efficientnet_model.py:143] round_filter input=24 output=24\n",
      "I1218 11:30:53.945207 139725484791616 efficientnet_model.py:143] round_filter input=40 output=40\n",
      "I1218 11:30:54.154470 139725484791616 efficientnet_model.py:143] round_filter input=40 output=40\n",
      "I1218 11:30:54.154585 139725484791616 efficientnet_model.py:143] round_filter input=80 output=80\n"
     ]
    },
    {
     "name": "stdout",
     "output_type": "stream",
     "text": [
      "I1218 11:30:54.401736 139725484791616 efficientnet_model.py:143] round_filter input=80 output=80\n",
      "I1218 11:30:54.401863 139725484791616 efficientnet_model.py:143] round_filter input=112 output=112\n",
      "I1218 11:30:54.663117 139725484791616 efficientnet_model.py:143] round_filter input=112 output=112\n",
      "I1218 11:30:54.663221 139725484791616 efficientnet_model.py:143] round_filter input=192 output=192\n",
      "I1218 11:30:54.957635 139725484791616 efficientnet_model.py:143] round_filter input=192 output=192\n",
      "I1218 11:30:54.957759 139725484791616 efficientnet_model.py:143] round_filter input=320 output=320\n",
      "I1218 11:30:55.083816 139725484791616 efficientnet_model.py:143] round_filter input=1280 output=1280\n",
      "I1218 11:30:55.104792 139725484791616 efficientnet_model.py:453] Building model efficientnet with params ModelConfig(width_coefficient=1.0, depth_coefficient=1.1, resolution=240, dropout_rate=0.2, blocks=(BlockConfig(input_filters=32, output_filters=16, kernel_size=3, num_repeat=1, expand_ratio=1, strides=(1, 1), se_ratio=0.25, id_skip=True, fused_conv=False, conv_type='depthwise'), BlockConfig(input_filters=16, output_filters=24, kernel_size=3, num_repeat=2, expand_ratio=6, strides=(2, 2), se_ratio=0.25, id_skip=True, fused_conv=False, conv_type='depthwise'), BlockConfig(input_filters=24, output_filters=40, kernel_size=5, num_repeat=2, expand_ratio=6, strides=(2, 2), se_ratio=0.25, id_skip=True, fused_conv=False, conv_type='depthwise'), BlockConfig(input_filters=40, output_filters=80, kernel_size=3, num_repeat=3, expand_ratio=6, strides=(2, 2), se_ratio=0.25, id_skip=True, fused_conv=False, conv_type='depthwise'), BlockConfig(input_filters=80, output_filters=112, kernel_size=5, num_repeat=3, expand_ratio=6, strides=(1, 1), se_ratio=0.25, id_skip=True, fused_conv=False, conv_type='depthwise'), BlockConfig(input_filters=112, output_filters=192, kernel_size=5, num_repeat=4, expand_ratio=6, strides=(2, 2), se_ratio=0.25, id_skip=True, fused_conv=False, conv_type='depthwise'), BlockConfig(input_filters=192, output_filters=320, kernel_size=3, num_repeat=1, expand_ratio=6, strides=(1, 1), se_ratio=0.25, id_skip=True, fused_conv=False, conv_type='depthwise')), stem_base_filters=32, top_base_filters=1280, activation='simple_swish', batch_norm='default', bn_momentum=0.99, bn_epsilon=0.001, weight_decay=5e-06, drop_connect_rate=0.2, depth_divisor=8, min_depth=None, use_se=True, input_channels=3, num_classes=1000, model_name='efficientnet', rescale_input=False, data_format='channels_last', dtype='float32')\n",
      "I1218 11:30:55.155622 139725484791616 ssd_efficientnet_bifpn_feature_extractor.py:150] EfficientDet EfficientNet backbone version: efficientnet-b2\n",
      "I1218 11:30:55.155767 139725484791616 ssd_efficientnet_bifpn_feature_extractor.py:152] EfficientDet BiFPN num filters: 112\n",
      "I1218 11:30:55.155826 139725484791616 ssd_efficientnet_bifpn_feature_extractor.py:153] EfficientDet BiFPN num iterations: 5\n",
      "I1218 11:30:55.157230 139725484791616 efficientnet_model.py:143] round_filter input=32 output=32\n",
      "I1218 11:30:55.168942 139725484791616 efficientnet_model.py:143] round_filter input=32 output=32\n",
      "I1218 11:30:55.169026 139725484791616 efficientnet_model.py:143] round_filter input=16 output=16\n",
      "I1218 11:30:55.257184 139725484791616 efficientnet_model.py:143] round_filter input=16 output=16\n",
      "I1218 11:30:55.257293 139725484791616 efficientnet_model.py:143] round_filter input=24 output=24\n",
      "I1218 11:30:55.428996 139725484791616 efficientnet_model.py:143] round_filter input=24 output=24\n",
      "I1218 11:30:55.429112 139725484791616 efficientnet_model.py:143] round_filter input=40 output=48\n",
      "I1218 11:30:55.742538 139725484791616 efficientnet_model.py:143] round_filter input=40 output=48\n",
      "I1218 11:30:55.742646 139725484791616 efficientnet_model.py:143] round_filter input=80 output=88\n",
      "I1218 11:30:55.993217 139725484791616 efficientnet_model.py:143] round_filter input=80 output=88\n",
      "I1218 11:30:55.993324 139725484791616 efficientnet_model.py:143] round_filter input=112 output=120\n",
      "I1218 11:30:56.232017 139725484791616 efficientnet_model.py:143] round_filter input=112 output=120\n",
      "I1218 11:30:56.232122 139725484791616 efficientnet_model.py:143] round_filter input=192 output=208\n",
      "I1218 11:30:56.540035 139725484791616 efficientnet_model.py:143] round_filter input=192 output=208\n",
      "I1218 11:30:56.540144 139725484791616 efficientnet_model.py:143] round_filter input=320 output=352\n",
      "I1218 11:30:56.676394 139725484791616 efficientnet_model.py:143] round_filter input=1280 output=1408\n",
      "I1218 11:30:56.701148 139725484791616 efficientnet_model.py:453] Building model efficientnet with params ModelConfig(width_coefficient=1.1, depth_coefficient=1.2, resolution=260, dropout_rate=0.3, blocks=(BlockConfig(input_filters=32, output_filters=16, kernel_size=3, num_repeat=1, expand_ratio=1, strides=(1, 1), se_ratio=0.25, id_skip=True, fused_conv=False, conv_type='depthwise'), BlockConfig(input_filters=16, output_filters=24, kernel_size=3, num_repeat=2, expand_ratio=6, strides=(2, 2), se_ratio=0.25, id_skip=True, fused_conv=False, conv_type='depthwise'), BlockConfig(input_filters=24, output_filters=40, kernel_size=5, num_repeat=2, expand_ratio=6, strides=(2, 2), se_ratio=0.25, id_skip=True, fused_conv=False, conv_type='depthwise'), BlockConfig(input_filters=40, output_filters=80, kernel_size=3, num_repeat=3, expand_ratio=6, strides=(2, 2), se_ratio=0.25, id_skip=True, fused_conv=False, conv_type='depthwise'), BlockConfig(input_filters=80, output_filters=112, kernel_size=5, num_repeat=3, expand_ratio=6, strides=(1, 1), se_ratio=0.25, id_skip=True, fused_conv=False, conv_type='depthwise'), BlockConfig(input_filters=112, output_filters=192, kernel_size=5, num_repeat=4, expand_ratio=6, strides=(2, 2), se_ratio=0.25, id_skip=True, fused_conv=False, conv_type='depthwise'), BlockConfig(input_filters=192, output_filters=320, kernel_size=3, num_repeat=1, expand_ratio=6, strides=(1, 1), se_ratio=0.25, id_skip=True, fused_conv=False, conv_type='depthwise')), stem_base_filters=32, top_base_filters=1280, activation='simple_swish', batch_norm='default', bn_momentum=0.99, bn_epsilon=0.001, weight_decay=5e-06, drop_connect_rate=0.2, depth_divisor=8, min_depth=None, use_se=True, input_channels=3, num_classes=1000, model_name='efficientnet', rescale_input=False, data_format='channels_last', dtype='float32')\n",
      "I1218 11:30:56.764373 139725484791616 ssd_efficientnet_bifpn_feature_extractor.py:150] EfficientDet EfficientNet backbone version: efficientnet-b3\n",
      "I1218 11:30:56.764584 139725484791616 ssd_efficientnet_bifpn_feature_extractor.py:152] EfficientDet BiFPN num filters: 160\n",
      "I1218 11:30:56.764638 139725484791616 ssd_efficientnet_bifpn_feature_extractor.py:153] EfficientDet BiFPN num iterations: 6\n",
      "I1218 11:30:56.767090 139725484791616 efficientnet_model.py:143] round_filter input=32 output=40\n",
      "I1218 11:30:56.784952 139725484791616 efficientnet_model.py:143] round_filter input=32 output=40\n",
      "I1218 11:30:56.785106 139725484791616 efficientnet_model.py:143] round_filter input=16 output=24\n",
      "I1218 11:30:56.892191 139725484791616 efficientnet_model.py:143] round_filter input=16 output=24\n",
      "I1218 11:30:56.892294 139725484791616 efficientnet_model.py:143] round_filter input=24 output=32\n",
      "I1218 11:30:57.074604 139725484791616 efficientnet_model.py:143] round_filter input=24 output=32\n",
      "I1218 11:30:57.074746 139725484791616 efficientnet_model.py:143] round_filter input=40 output=48\n",
      "I1218 11:30:57.248968 139725484791616 efficientnet_model.py:143] round_filter input=40 output=48\n",
      "I1218 11:30:57.249072 139725484791616 efficientnet_model.py:143] round_filter input=80 output=96\n",
      "I1218 11:30:57.570266 139725484791616 efficientnet_model.py:143] round_filter input=80 output=96\n",
      "I1218 11:30:57.570372 139725484791616 efficientnet_model.py:143] round_filter input=112 output=136\n",
      "I1218 11:30:57.871456 139725484791616 efficientnet_model.py:143] round_filter input=112 output=136\n",
      "I1218 11:30:57.871574 139725484791616 efficientnet_model.py:143] round_filter input=192 output=232\n",
      "I1218 11:30:58.226513 139725484791616 efficientnet_model.py:143] round_filter input=192 output=232\n",
      "I1218 11:30:58.226624 139725484791616 efficientnet_model.py:143] round_filter input=320 output=384\n",
      "I1218 11:30:58.364552 139725484791616 efficientnet_model.py:143] round_filter input=1280 output=1536\n"
     ]
    },
    {
     "name": "stdout",
     "output_type": "stream",
     "text": [
      "I1218 11:30:58.390800 139725484791616 efficientnet_model.py:453] Building model efficientnet with params ModelConfig(width_coefficient=1.2, depth_coefficient=1.4, resolution=300, dropout_rate=0.3, blocks=(BlockConfig(input_filters=32, output_filters=16, kernel_size=3, num_repeat=1, expand_ratio=1, strides=(1, 1), se_ratio=0.25, id_skip=True, fused_conv=False, conv_type='depthwise'), BlockConfig(input_filters=16, output_filters=24, kernel_size=3, num_repeat=2, expand_ratio=6, strides=(2, 2), se_ratio=0.25, id_skip=True, fused_conv=False, conv_type='depthwise'), BlockConfig(input_filters=24, output_filters=40, kernel_size=5, num_repeat=2, expand_ratio=6, strides=(2, 2), se_ratio=0.25, id_skip=True, fused_conv=False, conv_type='depthwise'), BlockConfig(input_filters=40, output_filters=80, kernel_size=3, num_repeat=3, expand_ratio=6, strides=(2, 2), se_ratio=0.25, id_skip=True, fused_conv=False, conv_type='depthwise'), BlockConfig(input_filters=80, output_filters=112, kernel_size=5, num_repeat=3, expand_ratio=6, strides=(1, 1), se_ratio=0.25, id_skip=True, fused_conv=False, conv_type='depthwise'), BlockConfig(input_filters=112, output_filters=192, kernel_size=5, num_repeat=4, expand_ratio=6, strides=(2, 2), se_ratio=0.25, id_skip=True, fused_conv=False, conv_type='depthwise'), BlockConfig(input_filters=192, output_filters=320, kernel_size=3, num_repeat=1, expand_ratio=6, strides=(1, 1), se_ratio=0.25, id_skip=True, fused_conv=False, conv_type='depthwise')), stem_base_filters=32, top_base_filters=1280, activation='simple_swish', batch_norm='default', bn_momentum=0.99, bn_epsilon=0.001, weight_decay=5e-06, drop_connect_rate=0.2, depth_divisor=8, min_depth=None, use_se=True, input_channels=3, num_classes=1000, model_name='efficientnet', rescale_input=False, data_format='channels_last', dtype='float32')\n",
      "I1218 11:30:58.448810 139725484791616 ssd_efficientnet_bifpn_feature_extractor.py:150] EfficientDet EfficientNet backbone version: efficientnet-b4\n",
      "I1218 11:30:58.448929 139725484791616 ssd_efficientnet_bifpn_feature_extractor.py:152] EfficientDet BiFPN num filters: 224\n",
      "I1218 11:30:58.448967 139725484791616 ssd_efficientnet_bifpn_feature_extractor.py:153] EfficientDet BiFPN num iterations: 7\n",
      "I1218 11:30:58.450336 139725484791616 efficientnet_model.py:143] round_filter input=32 output=48\n",
      "I1218 11:30:58.464360 139725484791616 efficientnet_model.py:143] round_filter input=32 output=48\n",
      "I1218 11:30:58.464470 139725484791616 efficientnet_model.py:143] round_filter input=16 output=24\n",
      "I1218 11:30:58.557066 139725484791616 efficientnet_model.py:143] round_filter input=16 output=24\n",
      "I1218 11:30:58.557172 139725484791616 efficientnet_model.py:143] round_filter input=24 output=32\n",
      "I1218 11:30:58.789287 139725484791616 efficientnet_model.py:143] round_filter input=24 output=32\n",
      "I1218 11:30:58.789394 139725484791616 efficientnet_model.py:143] round_filter input=40 output=56\n",
      "I1218 11:30:59.033265 139725484791616 efficientnet_model.py:143] round_filter input=40 output=56\n",
      "I1218 11:30:59.033372 139725484791616 efficientnet_model.py:143] round_filter input=80 output=112\n",
      "I1218 11:30:59.389389 139725484791616 efficientnet_model.py:143] round_filter input=80 output=112\n",
      "I1218 11:30:59.389499 139725484791616 efficientnet_model.py:143] round_filter input=112 output=160\n",
      "I1218 11:31:00.018525 139725484791616 efficientnet_model.py:143] round_filter input=112 output=160\n",
      "I1218 11:31:00.018655 139725484791616 efficientnet_model.py:143] round_filter input=192 output=272\n",
      "I1218 11:31:00.531406 139725484791616 efficientnet_model.py:143] round_filter input=192 output=272\n",
      "I1218 11:31:00.531571 139725484791616 efficientnet_model.py:143] round_filter input=320 output=448\n",
      "I1218 11:31:00.689209 139725484791616 efficientnet_model.py:143] round_filter input=1280 output=1792\n",
      "I1218 11:31:00.714758 139725484791616 efficientnet_model.py:453] Building model efficientnet with params ModelConfig(width_coefficient=1.4, depth_coefficient=1.8, resolution=380, dropout_rate=0.4, blocks=(BlockConfig(input_filters=32, output_filters=16, kernel_size=3, num_repeat=1, expand_ratio=1, strides=(1, 1), se_ratio=0.25, id_skip=True, fused_conv=False, conv_type='depthwise'), BlockConfig(input_filters=16, output_filters=24, kernel_size=3, num_repeat=2, expand_ratio=6, strides=(2, 2), se_ratio=0.25, id_skip=True, fused_conv=False, conv_type='depthwise'), BlockConfig(input_filters=24, output_filters=40, kernel_size=5, num_repeat=2, expand_ratio=6, strides=(2, 2), se_ratio=0.25, id_skip=True, fused_conv=False, conv_type='depthwise'), BlockConfig(input_filters=40, output_filters=80, kernel_size=3, num_repeat=3, expand_ratio=6, strides=(2, 2), se_ratio=0.25, id_skip=True, fused_conv=False, conv_type='depthwise'), BlockConfig(input_filters=80, output_filters=112, kernel_size=5, num_repeat=3, expand_ratio=6, strides=(1, 1), se_ratio=0.25, id_skip=True, fused_conv=False, conv_type='depthwise'), BlockConfig(input_filters=112, output_filters=192, kernel_size=5, num_repeat=4, expand_ratio=6, strides=(2, 2), se_ratio=0.25, id_skip=True, fused_conv=False, conv_type='depthwise'), BlockConfig(input_filters=192, output_filters=320, kernel_size=3, num_repeat=1, expand_ratio=6, strides=(1, 1), se_ratio=0.25, id_skip=True, fused_conv=False, conv_type='depthwise')), stem_base_filters=32, top_base_filters=1280, activation='simple_swish', batch_norm='default', bn_momentum=0.99, bn_epsilon=0.001, weight_decay=5e-06, drop_connect_rate=0.2, depth_divisor=8, min_depth=None, use_se=True, input_channels=3, num_classes=1000, model_name='efficientnet', rescale_input=False, data_format='channels_last', dtype='float32')\n",
      "I1218 11:31:00.779595 139725484791616 ssd_efficientnet_bifpn_feature_extractor.py:150] EfficientDet EfficientNet backbone version: efficientnet-b5\n",
      "I1218 11:31:00.779700 139725484791616 ssd_efficientnet_bifpn_feature_extractor.py:152] EfficientDet BiFPN num filters: 288\n",
      "I1218 11:31:00.779738 139725484791616 ssd_efficientnet_bifpn_feature_extractor.py:153] EfficientDet BiFPN num iterations: 7\n",
      "I1218 11:31:00.781045 139725484791616 efficientnet_model.py:143] round_filter input=32 output=48\n",
      "I1218 11:31:00.792294 139725484791616 efficientnet_model.py:143] round_filter input=32 output=48\n",
      "I1218 11:31:00.792382 139725484791616 efficientnet_model.py:143] round_filter input=16 output=24\n",
      "I1218 11:31:00.931337 139725484791616 efficientnet_model.py:143] round_filter input=16 output=24\n",
      "I1218 11:31:00.931443 139725484791616 efficientnet_model.py:143] round_filter input=24 output=40\n",
      "I1218 11:31:01.206985 139725484791616 efficientnet_model.py:143] round_filter input=24 output=40\n",
      "I1218 11:31:01.207093 139725484791616 efficientnet_model.py:143] round_filter input=40 output=64\n",
      "I1218 11:31:01.493071 139725484791616 efficientnet_model.py:143] round_filter input=40 output=64\n",
      "I1218 11:31:01.493181 139725484791616 efficientnet_model.py:143] round_filter input=80 output=128\n",
      "I1218 11:31:01.893623 139725484791616 efficientnet_model.py:143] round_filter input=80 output=128\n",
      "I1218 11:31:01.893738 139725484791616 efficientnet_model.py:143] round_filter input=112 output=176\n",
      "I1218 11:31:02.317681 139725484791616 efficientnet_model.py:143] round_filter input=112 output=176\n",
      "I1218 11:31:02.317790 139725484791616 efficientnet_model.py:143] round_filter input=192 output=304\n",
      "I1218 11:31:02.851701 139725484791616 efficientnet_model.py:143] round_filter input=192 output=304\n",
      "I1218 11:31:02.851807 139725484791616 efficientnet_model.py:143] round_filter input=320 output=512\n",
      "I1218 11:31:03.045893 139725484791616 efficientnet_model.py:143] round_filter input=1280 output=2048\n",
      "I1218 11:31:03.072939 139725484791616 efficientnet_model.py:453] Building model efficientnet with params ModelConfig(width_coefficient=1.6, depth_coefficient=2.2, resolution=456, dropout_rate=0.4, blocks=(BlockConfig(input_filters=32, output_filters=16, kernel_size=3, num_repeat=1, expand_ratio=1, strides=(1, 1), se_ratio=0.25, id_skip=True, fused_conv=False, conv_type='depthwise'), BlockConfig(input_filters=16, output_filters=24, kernel_size=3, num_repeat=2, expand_ratio=6, strides=(2, 2), se_ratio=0.25, id_skip=True, fused_conv=False, conv_type='depthwise'), BlockConfig(input_filters=24, output_filters=40, kernel_size=5, num_repeat=2, expand_ratio=6, strides=(2, 2), se_ratio=0.25, id_skip=True, fused_conv=False, conv_type='depthwise'), BlockConfig(input_filters=40, output_filters=80, kernel_size=3, num_repeat=3, expand_ratio=6, strides=(2, 2), se_ratio=0.25, id_skip=True, fused_conv=False, conv_type='depthwise'), BlockConfig(input_filters=80, output_filters=112, kernel_size=5, num_repeat=3, expand_ratio=6, strides=(1, 1), se_ratio=0.25, id_skip=True, fused_conv=False, conv_type='depthwise'), BlockConfig(input_filters=112, output_filters=192, kernel_size=5, num_repeat=4, expand_ratio=6, strides=(2, 2), se_ratio=0.25, id_skip=True, fused_conv=False, conv_type='depthwise'), BlockConfig(input_filters=192, output_filters=320, kernel_size=3, num_repeat=1, expand_ratio=6, strides=(1, 1), se_ratio=0.25, id_skip=True, fused_conv=False, conv_type='depthwise')), stem_base_filters=32, top_base_filters=1280, activation='simple_swish', batch_norm='default', bn_momentum=0.99, bn_epsilon=0.001, weight_decay=5e-06, drop_connect_rate=0.2, depth_divisor=8, min_depth=None, use_se=True, input_channels=3, num_classes=1000, model_name='efficientnet', rescale_input=False, data_format='channels_last', dtype='float32')\n"
     ]
    },
    {
     "name": "stdout",
     "output_type": "stream",
     "text": [
      "I1218 11:31:03.149020 139725484791616 ssd_efficientnet_bifpn_feature_extractor.py:150] EfficientDet EfficientNet backbone version: efficientnet-b6\n",
      "I1218 11:31:03.149127 139725484791616 ssd_efficientnet_bifpn_feature_extractor.py:152] EfficientDet BiFPN num filters: 384\n",
      "I1218 11:31:03.149163 139725484791616 ssd_efficientnet_bifpn_feature_extractor.py:153] EfficientDet BiFPN num iterations: 8\n",
      "I1218 11:31:03.150497 139725484791616 efficientnet_model.py:143] round_filter input=32 output=56\n",
      "I1218 11:31:03.168029 139725484791616 efficientnet_model.py:143] round_filter input=32 output=56\n",
      "I1218 11:31:03.168190 139725484791616 efficientnet_model.py:143] round_filter input=16 output=32\n",
      "I1218 11:31:03.313666 139725484791616 efficientnet_model.py:143] round_filter input=16 output=32\n",
      "I1218 11:31:03.313788 139725484791616 efficientnet_model.py:143] round_filter input=24 output=40\n",
      "I1218 11:31:03.683533 139725484791616 efficientnet_model.py:143] round_filter input=24 output=40\n",
      "I1218 11:31:03.683646 139725484791616 efficientnet_model.py:143] round_filter input=40 output=72\n",
      "I1218 11:31:04.037623 139725484791616 efficientnet_model.py:143] round_filter input=40 output=72\n",
      "I1218 11:31:04.037753 139725484791616 efficientnet_model.py:143] round_filter input=80 output=144\n",
      "I1218 11:31:04.726853 139725484791616 efficientnet_model.py:143] round_filter input=80 output=144\n",
      "I1218 11:31:04.726972 139725484791616 efficientnet_model.py:143] round_filter input=112 output=200\n",
      "I1218 11:31:05.271488 139725484791616 efficientnet_model.py:143] round_filter input=112 output=200\n",
      "I1218 11:31:05.271597 139725484791616 efficientnet_model.py:143] round_filter input=192 output=344\n",
      "I1218 11:31:05.926413 139725484791616 efficientnet_model.py:143] round_filter input=192 output=344\n",
      "I1218 11:31:05.926519 139725484791616 efficientnet_model.py:143] round_filter input=320 output=576\n",
      "I1218 11:31:06.111866 139725484791616 efficientnet_model.py:143] round_filter input=1280 output=2304\n",
      "I1218 11:31:06.134993 139725484791616 efficientnet_model.py:453] Building model efficientnet with params ModelConfig(width_coefficient=1.8, depth_coefficient=2.6, resolution=528, dropout_rate=0.5, blocks=(BlockConfig(input_filters=32, output_filters=16, kernel_size=3, num_repeat=1, expand_ratio=1, strides=(1, 1), se_ratio=0.25, id_skip=True, fused_conv=False, conv_type='depthwise'), BlockConfig(input_filters=16, output_filters=24, kernel_size=3, num_repeat=2, expand_ratio=6, strides=(2, 2), se_ratio=0.25, id_skip=True, fused_conv=False, conv_type='depthwise'), BlockConfig(input_filters=24, output_filters=40, kernel_size=5, num_repeat=2, expand_ratio=6, strides=(2, 2), se_ratio=0.25, id_skip=True, fused_conv=False, conv_type='depthwise'), BlockConfig(input_filters=40, output_filters=80, kernel_size=3, num_repeat=3, expand_ratio=6, strides=(2, 2), se_ratio=0.25, id_skip=True, fused_conv=False, conv_type='depthwise'), BlockConfig(input_filters=80, output_filters=112, kernel_size=5, num_repeat=3, expand_ratio=6, strides=(1, 1), se_ratio=0.25, id_skip=True, fused_conv=False, conv_type='depthwise'), BlockConfig(input_filters=112, output_filters=192, kernel_size=5, num_repeat=4, expand_ratio=6, strides=(2, 2), se_ratio=0.25, id_skip=True, fused_conv=False, conv_type='depthwise'), BlockConfig(input_filters=192, output_filters=320, kernel_size=3, num_repeat=1, expand_ratio=6, strides=(1, 1), se_ratio=0.25, id_skip=True, fused_conv=False, conv_type='depthwise')), stem_base_filters=32, top_base_filters=1280, activation='simple_swish', batch_norm='default', bn_momentum=0.99, bn_epsilon=0.001, weight_decay=5e-06, drop_connect_rate=0.2, depth_divisor=8, min_depth=None, use_se=True, input_channels=3, num_classes=1000, model_name='efficientnet', rescale_input=False, data_format='channels_last', dtype='float32')\n",
      "I1218 11:31:06.215456 139725484791616 ssd_efficientnet_bifpn_feature_extractor.py:150] EfficientDet EfficientNet backbone version: efficientnet-b7\n",
      "I1218 11:31:06.215576 139725484791616 ssd_efficientnet_bifpn_feature_extractor.py:152] EfficientDet BiFPN num filters: 384\n",
      "I1218 11:31:06.215613 139725484791616 ssd_efficientnet_bifpn_feature_extractor.py:153] EfficientDet BiFPN num iterations: 8\n",
      "I1218 11:31:06.216980 139725484791616 efficientnet_model.py:143] round_filter input=32 output=64\n",
      "I1218 11:31:06.229814 139725484791616 efficientnet_model.py:143] round_filter input=32 output=64\n",
      "I1218 11:31:06.229935 139725484791616 efficientnet_model.py:143] round_filter input=16 output=32\n",
      "I1218 11:31:06.415256 139725484791616 efficientnet_model.py:143] round_filter input=16 output=32\n",
      "I1218 11:31:06.415408 139725484791616 efficientnet_model.py:143] round_filter input=24 output=48\n",
      "I1218 11:31:06.836346 139725484791616 efficientnet_model.py:143] round_filter input=24 output=48\n",
      "I1218 11:31:06.836457 139725484791616 efficientnet_model.py:143] round_filter input=40 output=80\n",
      "I1218 11:31:07.247554 139725484791616 efficientnet_model.py:143] round_filter input=40 output=80\n",
      "I1218 11:31:07.247678 139725484791616 efficientnet_model.py:143] round_filter input=80 output=160\n",
      "I1218 11:31:07.854936 139725484791616 efficientnet_model.py:143] round_filter input=80 output=160\n",
      "I1218 11:31:07.855043 139725484791616 efficientnet_model.py:143] round_filter input=112 output=224\n",
      "I1218 11:31:08.449285 139725484791616 efficientnet_model.py:143] round_filter input=112 output=224\n",
      "I1218 11:31:08.449396 139725484791616 efficientnet_model.py:143] round_filter input=192 output=384\n",
      "I1218 11:31:09.360182 139725484791616 efficientnet_model.py:143] round_filter input=192 output=384\n",
      "I1218 11:31:09.360295 139725484791616 efficientnet_model.py:143] round_filter input=320 output=640\n",
      "I1218 11:31:09.596297 139725484791616 efficientnet_model.py:143] round_filter input=1280 output=2560\n",
      "I1218 11:31:09.621912 139725484791616 efficientnet_model.py:453] Building model efficientnet with params ModelConfig(width_coefficient=2.0, depth_coefficient=3.1, resolution=600, dropout_rate=0.5, blocks=(BlockConfig(input_filters=32, output_filters=16, kernel_size=3, num_repeat=1, expand_ratio=1, strides=(1, 1), se_ratio=0.25, id_skip=True, fused_conv=False, conv_type='depthwise'), BlockConfig(input_filters=16, output_filters=24, kernel_size=3, num_repeat=2, expand_ratio=6, strides=(2, 2), se_ratio=0.25, id_skip=True, fused_conv=False, conv_type='depthwise'), BlockConfig(input_filters=24, output_filters=40, kernel_size=5, num_repeat=2, expand_ratio=6, strides=(2, 2), se_ratio=0.25, id_skip=True, fused_conv=False, conv_type='depthwise'), BlockConfig(input_filters=40, output_filters=80, kernel_size=3, num_repeat=3, expand_ratio=6, strides=(2, 2), se_ratio=0.25, id_skip=True, fused_conv=False, conv_type='depthwise'), BlockConfig(input_filters=80, output_filters=112, kernel_size=5, num_repeat=3, expand_ratio=6, strides=(1, 1), se_ratio=0.25, id_skip=True, fused_conv=False, conv_type='depthwise'), BlockConfig(input_filters=112, output_filters=192, kernel_size=5, num_repeat=4, expand_ratio=6, strides=(2, 2), se_ratio=0.25, id_skip=True, fused_conv=False, conv_type='depthwise'), BlockConfig(input_filters=192, output_filters=320, kernel_size=3, num_repeat=1, expand_ratio=6, strides=(1, 1), se_ratio=0.25, id_skip=True, fused_conv=False, conv_type='depthwise')), stem_base_filters=32, top_base_filters=1280, activation='simple_swish', batch_norm='default', bn_momentum=0.99, bn_epsilon=0.001, weight_decay=5e-06, drop_connect_rate=0.2, depth_divisor=8, min_depth=None, use_se=True, input_channels=3, num_classes=1000, model_name='efficientnet', rescale_input=False, data_format='channels_last', dtype='float32')\n",
      "INFO:tensorflow:time(__main__.ModelBuilderTF2Test.test_create_ssd_models_from_config): 17.45s\n",
      "I1218 11:31:09.717956 139725484791616 test_util.py:2457] time(__main__.ModelBuilderTF2Test.test_create_ssd_models_from_config): 17.45s\n",
      "[       OK ] ModelBuilderTF2Test.test_create_ssd_models_from_config\n",
      "[ RUN      ] ModelBuilderTF2Test.test_invalid_faster_rcnn_batchnorm_update\n",
      "INFO:tensorflow:time(__main__.ModelBuilderTF2Test.test_invalid_faster_rcnn_batchnorm_update): 0.0s\n",
      "I1218 11:31:09.737219 139725484791616 test_util.py:2457] time(__main__.ModelBuilderTF2Test.test_invalid_faster_rcnn_batchnorm_update): 0.0s\n",
      "[       OK ] ModelBuilderTF2Test.test_invalid_faster_rcnn_batchnorm_update\n",
      "[ RUN      ] ModelBuilderTF2Test.test_invalid_first_stage_nms_iou_threshold\n",
      "INFO:tensorflow:time(__main__.ModelBuilderTF2Test.test_invalid_first_stage_nms_iou_threshold): 0.0s\n",
      "I1218 11:31:09.738503 139725484791616 test_util.py:2457] time(__main__.ModelBuilderTF2Test.test_invalid_first_stage_nms_iou_threshold): 0.0s\n",
      "[       OK ] ModelBuilderTF2Test.test_invalid_first_stage_nms_iou_threshold\n",
      "[ RUN      ] ModelBuilderTF2Test.test_invalid_model_config_proto\n",
      "INFO:tensorflow:time(__main__.ModelBuilderTF2Test.test_invalid_model_config_proto): 0.0s\n",
      "I1218 11:31:09.738760 139725484791616 test_util.py:2457] time(__main__.ModelBuilderTF2Test.test_invalid_model_config_proto): 0.0s\n",
      "[       OK ] ModelBuilderTF2Test.test_invalid_model_config_proto\n",
      "[ RUN      ] ModelBuilderTF2Test.test_invalid_second_stage_batch_size\n",
      "INFO:tensorflow:time(__main__.ModelBuilderTF2Test.test_invalid_second_stage_batch_size): 0.0s\n",
      "I1218 11:31:09.739784 139725484791616 test_util.py:2457] time(__main__.ModelBuilderTF2Test.test_invalid_second_stage_batch_size): 0.0s\n",
      "[       OK ] ModelBuilderTF2Test.test_invalid_second_stage_batch_size\n",
      "[ RUN      ] ModelBuilderTF2Test.test_session\n",
      "[  SKIPPED ] ModelBuilderTF2Test.test_session\n",
      "[ RUN      ] ModelBuilderTF2Test.test_unknown_faster_rcnn_feature_extractor\n"
     ]
    },
    {
     "name": "stdout",
     "output_type": "stream",
     "text": [
      "INFO:tensorflow:time(__main__.ModelBuilderTF2Test.test_unknown_faster_rcnn_feature_extractor): 0.0s\r\n",
      "I1218 11:31:09.740715 139725484791616 test_util.py:2457] time(__main__.ModelBuilderTF2Test.test_unknown_faster_rcnn_feature_extractor): 0.0s\r\n",
      "[       OK ] ModelBuilderTF2Test.test_unknown_faster_rcnn_feature_extractor\r\n",
      "[ RUN      ] ModelBuilderTF2Test.test_unknown_meta_architecture\r\n",
      "INFO:tensorflow:time(__main__.ModelBuilderTF2Test.test_unknown_meta_architecture): 0.0s\r\n",
      "I1218 11:31:09.740936 139725484791616 test_util.py:2457] time(__main__.ModelBuilderTF2Test.test_unknown_meta_architecture): 0.0s\r\n",
      "[       OK ] ModelBuilderTF2Test.test_unknown_meta_architecture\r\n",
      "[ RUN      ] ModelBuilderTF2Test.test_unknown_ssd_feature_extractor\r\n",
      "INFO:tensorflow:time(__main__.ModelBuilderTF2Test.test_unknown_ssd_feature_extractor): 0.0s\r\n",
      "I1218 11:31:09.741613 139725484791616 test_util.py:2457] time(__main__.ModelBuilderTF2Test.test_unknown_ssd_feature_extractor): 0.0s\r\n",
      "[       OK ] ModelBuilderTF2Test.test_unknown_ssd_feature_extractor\r\n",
      "----------------------------------------------------------------------\r\n",
      "Ran 24 tests in 21.776s\r\n",
      "\r\n",
      "OK (skipped=1)\r\n"
     ]
    }
   ],
   "source": [
    "VERIFICATION_SCRIPT = os.path.join(paths['APIMODEL_PATH'], 'research', 'object_detection', 'builders', 'model_builder_tf2_test.py')\n",
    "# Verify Installation\n",
    "!python {VERIFICATION_SCRIPT}"
   ]
  },
  {
   "cell_type": "code",
   "execution_count": null,
   "metadata": {
    "scrolled": true
   },
   "outputs": [],
   "source": [
    "# !pip install tensorflow --upgrade"
   ]
  },
  {
   "cell_type": "code",
   "execution_count": null,
   "metadata": {
    "scrolled": true
   },
   "outputs": [],
   "source": [
    "# !pip uninstall protobuf matplotlib -y\n",
    "# !pip install protobuf matplotlib==3.2"
   ]
  },
  {
   "cell_type": "code",
   "execution_count": 9,
   "metadata": {},
   "outputs": [],
   "source": [
    "import object_detection\n",
    "## if error\n",
    "# pip install tensorflow-object-detection-api "
   ]
  },
  {
   "cell_type": "code",
   "execution_count": 10,
   "metadata": {
    "colab": {
     "base_uri": "https://localhost:8080/"
    },
    "id": "csofht2npfDE",
    "outputId": "ff5471b2-bed2-43f2-959c-327a706527b6",
    "scrolled": true
   },
   "outputs": [
    {
     "name": "stdout",
     "output_type": "stream",
     "text": [
      "/bin/bash: /home/chanyu/anaconda3/lib/libtinfo.so.6: no version information available (required by /bin/bash)\n",
      "--2022-12-18 11:31:18--  http://download.tensorflow.org/models/object_detection/tf2/20200711/faster_rcnn_resnet50_v1_640x640_coco17_tpu-8.tar.gz\n",
      "Resolving download.tensorflow.org (download.tensorflow.org)... 172.217.163.48, 2404:6800:4012:4::2010\n",
      "Connecting to download.tensorflow.org (download.tensorflow.org)|172.217.163.48|:80... connected.\n",
      "HTTP request sent, awaiting response... 200 OK\n",
      "Length: 211996178 (202M) [application/x-tar]\n",
      "Saving to: ‘faster_rcnn_resnet50_v1_640x640_coco17_tpu-8.tar.gz’\n",
      "\n",
      "faster_rcnn_resnet5 100%[===================>] 202.17M  7.49MB/s    in 28s     \n",
      "\n",
      "2022-12-18 11:31:46 (7.21 MB/s) - ‘faster_rcnn_resnet50_v1_640x640_coco17_tpu-8.tar.gz’ saved [211996178/211996178]\n",
      "\n",
      "/bin/bash: /home/chanyu/anaconda3/lib/libtinfo.so.6: no version information available (required by /bin/bash)\n",
      "/bin/bash: /home/chanyu/anaconda3/lib/libtinfo.so.6: no version information available (required by /bin/bash)\n",
      "faster_rcnn_resnet50_v1_640x640_coco17_tpu-8/\n",
      "faster_rcnn_resnet50_v1_640x640_coco17_tpu-8/checkpoint/\n",
      "faster_rcnn_resnet50_v1_640x640_coco17_tpu-8/checkpoint/ckpt-0.data-00000-of-00001\n",
      "faster_rcnn_resnet50_v1_640x640_coco17_tpu-8/checkpoint/checkpoint\n",
      "faster_rcnn_resnet50_v1_640x640_coco17_tpu-8/checkpoint/ckpt-0.index\n",
      "faster_rcnn_resnet50_v1_640x640_coco17_tpu-8/pipeline.config\n",
      "faster_rcnn_resnet50_v1_640x640_coco17_tpu-8/saved_model/\n",
      "faster_rcnn_resnet50_v1_640x640_coco17_tpu-8/saved_model/saved_model.pb\n",
      "faster_rcnn_resnet50_v1_640x640_coco17_tpu-8/saved_model/variables/\n",
      "faster_rcnn_resnet50_v1_640x640_coco17_tpu-8/saved_model/variables/variables.data-00000-of-00001\n",
      "faster_rcnn_resnet50_v1_640x640_coco17_tpu-8/saved_model/variables/variables.index\n"
     ]
    }
   ],
   "source": [
    "!wget {PRETRAINED_MODEL_URL}\n",
    "!mv {PRETRAINED_MODEL_NAME+'.tar.gz'} {paths['PRETRAINED_MODEL_PATH']}\n",
    "!cd {paths['PRETRAINED_MODEL_PATH']} && tar -zxvf {PRETRAINED_MODEL_NAME+'.tar.gz'}"
   ]
  },
  {
   "cell_type": "code",
   "execution_count": 25,
   "metadata": {},
   "outputs": [
    {
     "data": {
      "text/plain": [
       "'Tensorflow/workspace/pre-trained-models'"
      ]
     },
     "execution_count": 25,
     "metadata": {},
     "output_type": "execute_result"
    }
   ],
   "source": [
    "paths['PRETRAINED_MODEL_PATH']"
   ]
  },
  {
   "cell_type": "markdown",
   "metadata": {
    "id": "M5KJTnkfpfDC"
   },
   "source": [
    "# 2. Create Label Map"
   ]
  },
  {
   "cell_type": "code",
   "execution_count": null,
   "metadata": {},
   "outputs": [],
   "source": [
    "#labels = [{'name':'wc', 'id':1}, {'name':'show', 'id':2}, {'name':'sister', 'id':3}]\n"
   ]
  },
  {
   "cell_type": "code",
   "execution_count": 11,
   "metadata": {
    "id": "p1BVDWo7pfDC"
   },
   "outputs": [],
   "source": [
    "labels = [{'name':'wc', 'id':1}, {'name':'show', 'id':2}, {'name':'sister', 'id':3}, \n",
    "         {'name':'zero', 'id':4}, {'name':'no', 'id':5}, {'name':'ok', 'id':6} ]\n",
    "\n",
    "with open(files['LABELMAP'], 'w') as f:\n",
    "    for label in labels:\n",
    "        f.write('item { \\n')\n",
    "        f.write('\\tname:\\'{}\\'\\n'.format(label['name']))\n",
    "        f.write('\\tid:{}\\n'.format(label['id']))\n",
    "        f.write('}\\n')"
   ]
  },
  {
   "cell_type": "code",
   "execution_count": null,
   "metadata": {},
   "outputs": [],
   "source": [
    "# files['LABELMAP']"
   ]
  },
  {
   "cell_type": "markdown",
   "metadata": {
    "id": "C88zyVELpfDC"
   },
   "source": [
    "# 3. Create TF records"
   ]
  },
  {
   "cell_type": "code",
   "execution_count": 12,
   "metadata": {
    "colab": {
     "base_uri": "https://localhost:8080/"
    },
    "id": "kvf5WccwrFGq",
    "outputId": "49902aeb-0bd7-4298-e1a0-5b4a64eb2064"
   },
   "outputs": [],
   "source": [
    "# OPTIONAL IF RUNNING ON COLAB\n",
    "ARCHIVE_FILES = os.path.join(paths['IMAGE_PATH'], 'archive.tar.gz')\n",
    "if os.path.exists(ARCHIVE_FILES):\n",
    "  !tar -zxvf {ARCHIVE_FILES}"
   ]
  },
  {
   "cell_type": "code",
   "execution_count": 13,
   "metadata": {
    "colab": {
     "base_uri": "https://localhost:8080/"
    },
    "id": "KWpb_BVUpfDD",
    "outputId": "56ce2a3f-3933-4ee6-8a9d-d5ec65f7d73c"
   },
   "outputs": [],
   "source": [
    "if not os.path.exists(files['TF_RECORD_SCRIPT']):\n",
    "    !git clone https://github.com/nicknochnack/GenerateTFRecord {paths['SCRIPTS_PATH']}"
   ]
  },
  {
   "cell_type": "code",
   "execution_count": 14,
   "metadata": {
    "colab": {
     "base_uri": "https://localhost:8080/"
    },
    "id": "UPFToGZqpfDD",
    "outputId": "0ebb456f-aadc-4a1f-96e6-fbfec1923e1c",
    "scrolled": true
   },
   "outputs": [
    {
     "name": "stdout",
     "output_type": "stream",
     "text": [
      "/bin/bash: /home/chanyu/anaconda3/lib/libtinfo.so.6: no version information available (required by /bin/bash)\n",
      "bash: /home/chanyu/anaconda3/lib/libtinfo.so.6: no version information available (required by bash)\n",
      "bash: /home/chanyu/anaconda3/lib/libtinfo.so.6: no version information available (required by bash)\n",
      "bash: /home/chanyu/anaconda3/lib/libtinfo.so.6: no version information available (required by bash)\n",
      "bash: /home/chanyu/anaconda3/lib/libtinfo.so.6: no version information available (required by bash)\n",
      "bash: /home/chanyu/anaconda3/lib/libtinfo.so.6: no version information available (required by bash)\n",
      "bash: /home/chanyu/anaconda3/lib/libtinfo.so.6: no version information available (required by bash)\n",
      "bash: /home/chanyu/anaconda3/lib/libtinfo.so.6: no version information available (required by bash)\n",
      "bash: /home/chanyu/anaconda3/lib/libtinfo.so.6: no version information available (required by bash)\n",
      "bash: /home/chanyu/anaconda3/lib/libtinfo.so.6: no version information available (required by bash)\n",
      "bash: /home/chanyu/anaconda3/lib/libtinfo.so.6: no version information available (required by bash)\n",
      "Successfully created the TFRecord file: Tensorflow/workspace/annotations/train.record\n",
      "/bin/bash: /home/chanyu/anaconda3/lib/libtinfo.so.6: no version information available (required by /bin/bash)\n",
      "bash: /home/chanyu/anaconda3/lib/libtinfo.so.6: no version information available (required by bash)\n",
      "bash: /home/chanyu/anaconda3/lib/libtinfo.so.6: no version information available (required by bash)\n",
      "bash: /home/chanyu/anaconda3/lib/libtinfo.so.6: no version information available (required by bash)\n",
      "bash: /home/chanyu/anaconda3/lib/libtinfo.so.6: no version information available (required by bash)\n",
      "bash: /home/chanyu/anaconda3/lib/libtinfo.so.6: no version information available (required by bash)\n",
      "bash: /home/chanyu/anaconda3/lib/libtinfo.so.6: no version information available (required by bash)\n",
      "bash: /home/chanyu/anaconda3/lib/libtinfo.so.6: no version information available (required by bash)\n",
      "bash: /home/chanyu/anaconda3/lib/libtinfo.so.6: no version information available (required by bash)\n",
      "bash: /home/chanyu/anaconda3/lib/libtinfo.so.6: no version information available (required by bash)\n",
      "bash: /home/chanyu/anaconda3/lib/libtinfo.so.6: no version information available (required by bash)\n",
      "Successfully created the TFRecord file: Tensorflow/workspace/annotations/test.record\n"
     ]
    }
   ],
   "source": [
    "!python {files['TF_RECORD_SCRIPT']} -x {os.path.join(paths['IMAGE_PATH'], 'train')} -l {files['LABELMAP']} -o {os.path.join(paths['ANNOTATION_PATH'], 'train.record')} \n",
    "!python {files['TF_RECORD_SCRIPT']} -x {os.path.join(paths['IMAGE_PATH'], 'test')} -l {files['LABELMAP']} -o {os.path.join(paths['ANNOTATION_PATH'], 'test.record')} "
   ]
  },
  {
   "cell_type": "markdown",
   "metadata": {
    "id": "qT4QU7pLpfDE"
   },
   "source": [
    "# 4. Copy Model Config to Training Folder"
   ]
  },
  {
   "cell_type": "code",
   "execution_count": 15,
   "metadata": {
    "id": "cOjuTFbwpfDF"
   },
   "outputs": [
    {
     "name": "stdout",
     "output_type": "stream",
     "text": [
      "/bin/bash: /home/chanyu/anaconda3/lib/libtinfo.so.6: no version information available (required by /bin/bash)\r\n"
     ]
    }
   ],
   "source": [
    "!cp {os.path.join(paths['PRETRAINED_MODEL_PATH'], PRETRAINED_MODEL_NAME, 'pipeline.config')} {os.path.join(paths['CHECKPOINT_PATH'])}"
   ]
  },
  {
   "cell_type": "markdown",
   "metadata": {
    "id": "Ga8gpNslpfDF"
   },
   "source": [
    "# 5. Update Config For Transfer Learning"
   ]
  },
  {
   "cell_type": "code",
   "execution_count": 16,
   "metadata": {
    "id": "Z9hRrO_ppfDF"
   },
   "outputs": [
    {
     "name": "stderr",
     "output_type": "stream",
     "text": [
      "2022-12-18 11:33:22.131042: I tensorflow/core/platform/cpu_feature_guard.cc:193] This TensorFlow binary is optimized with oneAPI Deep Neural Network Library (oneDNN) to use the following CPU instructions in performance-critical operations:  AVX2 FMA\n",
      "To enable them in other operations, rebuild TensorFlow with the appropriate compiler flags.\n",
      "2022-12-18 11:33:23.761433: W tensorflow/compiler/xla/stream_executor/platform/default/dso_loader.cc:64] Could not load dynamic library 'libnvinfer.so.7'; dlerror: libnvinfer.so.7: cannot open shared object file: No such file or directory; LD_LIBRARY_PATH: /usr/local/cuda/lib64:/home/chanyu/anaconda3/lib/\n",
      "2022-12-18 11:33:23.761481: W tensorflow/compiler/xla/stream_executor/platform/default/dso_loader.cc:64] Could not load dynamic library 'libnvinfer_plugin.so.7'; dlerror: libnvinfer_plugin.so.7: cannot open shared object file: No such file or directory; LD_LIBRARY_PATH: /usr/local/cuda/lib64:/home/chanyu/anaconda3/lib/\n",
      "2022-12-18 11:33:23.761486: W tensorflow/compiler/tf2tensorrt/utils/py_utils.cc:38] TF-TRT Warning: Cannot dlopen some TensorRT libraries. If you would like to use Nvidia GPU with TensorRT, please make sure the missing libraries mentioned above are installed properly.\n"
     ]
    }
   ],
   "source": [
    "import tensorflow as tf\n",
    "from object_detection.utils import config_util\n",
    "from object_detection.protos import pipeline_pb2\n",
    "from google.protobuf import text_format"
   ]
  },
  {
   "cell_type": "code",
   "execution_count": 22,
   "metadata": {
    "id": "c2A0mn4ipfDF",
    "scrolled": true
   },
   "outputs": [],
   "source": [
    "config = config_util.get_configs_from_pipeline_file(files['PIPELINE_CONFIG'])\n",
    "# version proplem"
   ]
  },
  {
   "cell_type": "code",
   "execution_count": 22,
   "metadata": {},
   "outputs": [],
   "source": [
    "# files['PIPELINE_CONFIG']"
   ]
  },
  {
   "cell_type": "code",
   "execution_count": 23,
   "metadata": {
    "colab": {
     "base_uri": "https://localhost:8080/"
    },
    "collapsed": true,
    "id": "uQA13-afpfDF",
    "outputId": "907496a4-a39d-4b13-8c2c-e5978ecb1f10"
   },
   "outputs": [
    {
     "data": {
      "text/plain": [
       "{'model': ssd {\n",
       "   num_classes: 6\n",
       " },\n",
       " 'train_config': batch_size: 3\n",
       " data_augmentation_options {\n",
       "   random_horizontal_flip {\n",
       "   }\n",
       " }\n",
       " sync_replicas: true\n",
       " optimizer {\n",
       "   momentum_optimizer {\n",
       "     learning_rate {\n",
       "       cosine_decay_learning_rate {\n",
       "         learning_rate_base: 0.03999999910593033\n",
       "         total_steps: 25000\n",
       "         warmup_learning_rate: 0.013333000242710114\n",
       "         warmup_steps: 2000\n",
       "       }\n",
       "     }\n",
       "     momentum_optimizer_value: 0.8999999761581421\n",
       "   }\n",
       "   use_moving_average: false\n",
       " }\n",
       " fine_tune_checkpoint: \"Tensorflow/workspace/pre-trained-models/faster_rcnn_resnet50_v1_640x640_coco17_tpu-8/checkpoint/ckpt-0\"\n",
       " num_steps: 25000\n",
       " startup_delay_steps: 0.0\n",
       " replicas_to_aggregate: 8\n",
       " max_number_of_boxes: 100\n",
       " unpad_groundtruth_tensors: false\n",
       " fine_tune_checkpoint_type: \"detection\"\n",
       " use_bfloat16: true\n",
       " fine_tune_checkpoint_version: V2,\n",
       " 'train_input_config': label_map_path: \"Tensorflow/workspace/annotations/label_map.pbtxt\"\n",
       " tf_record_input_reader {\n",
       "   input_path: \"Tensorflow/workspace/annotations/train.record\"\n",
       " },\n",
       " 'eval_config': metrics_set: \"coco_detection_metrics\"\n",
       " use_moving_averages: false\n",
       " batch_size: 1,\n",
       " 'eval_input_configs': [label_map_path: \"Tensorflow/workspace/annotations/label_map.pbtxt\"\n",
       " shuffle: false\n",
       " num_epochs: 1\n",
       " tf_record_input_reader {\n",
       "   input_path: \"Tensorflow/workspace/annotations/test.record\"\n",
       " }\n",
       " ],\n",
       " 'eval_input_config': label_map_path: \"Tensorflow/workspace/annotations/label_map.pbtxt\"\n",
       " shuffle: false\n",
       " num_epochs: 1\n",
       " tf_record_input_reader {\n",
       "   input_path: \"Tensorflow/workspace/annotations/test.record\"\n",
       " }}"
      ]
     },
     "execution_count": 23,
     "metadata": {},
     "output_type": "execute_result"
    }
   ],
   "source": [
    "config"
   ]
  },
  {
   "cell_type": "code",
   "execution_count": 19,
   "metadata": {
    "id": "9vK5lotDpfDF"
   },
   "outputs": [],
   "source": [
    "pipeline_config = pipeline_pb2.TrainEvalPipelineConfig()\n",
    "with tf.io.gfile.GFile(files['PIPELINE_CONFIG'], \"r\") as f:                                                                                                                                                                                                                     \n",
    "    proto_str = f.read()                                                                                                                                                                                                                                          \n",
    "    text_format.Merge(proto_str, pipeline_config)  "
   ]
  },
  {
   "cell_type": "code",
   "execution_count": 20,
   "metadata": {
    "id": "rP43Ph0JpfDG"
   },
   "outputs": [],
   "source": [
    "pipeline_config.model.ssd.num_classes = len(labels)\n",
    "pipeline_config.train_config.batch_size = 3\n",
    "pipeline_config.train_config.fine_tune_checkpoint = os.path.join(paths['PRETRAINED_MODEL_PATH'], PRETRAINED_MODEL_NAME, 'checkpoint', 'ckpt-0')\n",
    "pipeline_config.train_config.fine_tune_checkpoint_type = \"detection\"\n",
    "pipeline_config.train_input_reader.label_map_path= files['LABELMAP']\n",
    "pipeline_config.train_input_reader.tf_record_input_reader.input_path[:] = [os.path.join(paths['ANNOTATION_PATH'], 'train.record')]\n",
    "pipeline_config.eval_input_reader[0].label_map_path = files['LABELMAP']\n",
    "pipeline_config.eval_input_reader[0].tf_record_input_reader.input_path[:] = [os.path.join(paths['ANNOTATION_PATH'], 'test.record')]"
   ]
  },
  {
   "cell_type": "code",
   "execution_count": 21,
   "metadata": {
    "id": "oJvfgwWqpfDG"
   },
   "outputs": [],
   "source": [
    "config_text = text_format.MessageToString(pipeline_config)                                                                                                                                                                                                        \n",
    "with tf.io.gfile.GFile(files['PIPELINE_CONFIG'], \"wb\") as f:                                                                                                                                                                                                                     \n",
    "    f.write(config_text)   "
   ]
  },
  {
   "cell_type": "markdown",
   "metadata": {
    "id": "Zr3ON7xMpfDG"
   },
   "source": [
    "# 6. Train the model"
   ]
  },
  {
   "cell_type": "code",
   "execution_count": 26,
   "metadata": {
    "id": "B-Y2UQmQpfDG"
   },
   "outputs": [],
   "source": [
    "TRAINING_SCRIPT = os.path.join(paths['APIMODEL_PATH'], 'research', 'object_detection', 'model_main_tf2.py')"
   ]
  },
  {
   "cell_type": "code",
   "execution_count": 27,
   "metadata": {
    "id": "jMP2XDfQpfDH"
   },
   "outputs": [],
   "source": [
    "command = \"python {} --model_dir={} --pipeline_config_path={} --num_train_steps=3500\".format(TRAINING_SCRIPT, paths['CHECKPOINT_PATH'],files['PIPELINE_CONFIG'])"
   ]
  },
  {
   "cell_type": "code",
   "execution_count": 26,
   "metadata": {
    "colab": {
     "base_uri": "https://localhost:8080/"
    },
    "id": "A4OXXi-ApfDH",
    "outputId": "117a0e83-012b-466e-b7a6-ccaa349ac5ab"
   },
   "outputs": [
    {
     "name": "stdout",
     "output_type": "stream",
     "text": [
      "python Tensorflow/models/research/object_detection/model_main_tf2.py --model_dir=Tensorflow/workspace/models/my_ssd_mobnet_final --pipeline_config_path=Tensorflow/workspace/models/my_ssd_mobnet_final/pipeline.config --num_train_steps=3500\n"
     ]
    }
   ],
   "source": [
    "print(command)"
   ]
  },
  {
   "cell_type": "code",
   "execution_count": 25,
   "metadata": {},
   "outputs": [
    {
     "name": "stdout",
     "output_type": "stream",
     "text": [
      "/bin/bash: /home/chanyu/anaconda3/lib/libtinfo.so.6: no version information available (required by /bin/bash)\n",
      "[sudo] password for chanyu: \n"
     ]
    }
   ],
   "source": [
    "# turn on gpu \n",
    "!sudo nvidia-smi -pm 1"
   ]
  },
  {
   "cell_type": "code",
   "execution_count": null,
   "metadata": {
    "scrolled": true
   },
   "outputs": [],
   "source": [
    "# !pip install IPython"
   ]
  },
  {
   "cell_type": "code",
   "execution_count": 30,
   "metadata": {
    "colab": {
     "base_uri": "https://localhost:8080/"
    },
    "id": "i3ZsJR-qpfDH",
    "outputId": "cabec5e1-45e6-4f2f-d9cf-297d9c1d0225",
    "scrolled": true
   },
   "outputs": [
    {
     "name": "stdout",
     "output_type": "stream",
     "text": [
      "/bin/bash: /home/chanyu/anaconda3/lib/libtinfo.so.6: no version information available (required by /bin/bash)\n",
      "bash: /home/chanyu/anaconda3/lib/libtinfo.so.6: no version information available (required by bash)\n",
      "bash: /home/chanyu/anaconda3/lib/libtinfo.so.6: no version information available (required by bash)\n",
      "bash: /home/chanyu/anaconda3/lib/libtinfo.so.6: no version information available (required by bash)\n",
      "bash: /home/chanyu/anaconda3/lib/libtinfo.so.6: no version information available (required by bash)\n",
      "bash: /home/chanyu/anaconda3/lib/libtinfo.so.6: no version information available (required by bash)\n",
      "bash: /home/chanyu/anaconda3/lib/libtinfo.so.6: no version information available (required by bash)\n",
      "bash: /home/chanyu/anaconda3/lib/libtinfo.so.6: no version information available (required by bash)\n",
      "bash: /home/chanyu/anaconda3/lib/libtinfo.so.6: no version information available (required by bash)\n",
      "bash: /home/chanyu/anaconda3/lib/libtinfo.so.6: no version information available (required by bash)\n",
      "bash: /home/chanyu/anaconda3/lib/libtinfo.so.6: no version information available (required by bash)\n",
      "2022-12-15 12:42:11.552551: I tensorflow/core/platform/cpu_feature_guard.cc:193] This TensorFlow binary is optimized with oneAPI Deep Neural Network Library (oneDNN) to use the following CPU instructions in performance-critical operations:  AVX2 FMA\n",
      "To enable them in other operations, rebuild TensorFlow with the appropriate compiler flags.\n",
      "2022-12-15 12:42:12.236695: W tensorflow/compiler/xla/stream_executor/platform/default/dso_loader.cc:64] Could not load dynamic library 'libnvinfer.so.7'; dlerror: libnvinfer.so.7: cannot open shared object file: No such file or directory; LD_LIBRARY_PATH: /usr/local/cuda/lib64:/home/chanyu/anaconda3/lib/\n",
      "2022-12-15 12:42:12.236745: W tensorflow/compiler/xla/stream_executor/platform/default/dso_loader.cc:64] Could not load dynamic library 'libnvinfer_plugin.so.7'; dlerror: libnvinfer_plugin.so.7: cannot open shared object file: No such file or directory; LD_LIBRARY_PATH: /usr/local/cuda/lib64:/home/chanyu/anaconda3/lib/\n",
      "2022-12-15 12:42:12.236752: W tensorflow/compiler/tf2tensorrt/utils/py_utils.cc:38] TF-TRT Warning: Cannot dlopen some TensorRT libraries. If you would like to use Nvidia GPU with TensorRT, please make sure the missing libraries mentioned above are installed properly.\n",
      "/home/chanyu/.pyenv/versions/3.8.10/lib/python3.8/site-packages/tensorflow_addons/utils/ensure_tf_install.py:53: UserWarning: Tensorflow Addons supports using Python ops for all Tensorflow versions above or equal to 2.8.0 and strictly below 2.11.0 (nightly versions are not supported). \n",
      " The versions of TensorFlow you are currently using is 2.11.0 and is not supported. \n",
      "Some things might work, some things might not.\n",
      "If you were to encounter a bug, do not file an issue.\n",
      "If you want to make sure you're using a tested and supported configuration, either change the TensorFlow version or the TensorFlow Addons's version. \n",
      "You can find the compatibility matrix in TensorFlow Addon's readme:\n",
      "https://github.com/tensorflow/addons\n",
      "  warnings.warn(\n",
      "2022-12-15 12:42:13.630323: I tensorflow/compiler/xla/stream_executor/cuda/cuda_gpu_executor.cc:981] successful NUMA node read from SysFS had negative value (-1), but there must be at least one NUMA node, so returning NUMA node zero\n",
      "2022-12-15 12:42:13.633723: I tensorflow/compiler/xla/stream_executor/cuda/cuda_gpu_executor.cc:981] successful NUMA node read from SysFS had negative value (-1), but there must be at least one NUMA node, so returning NUMA node zero\n",
      "2022-12-15 12:42:13.633888: I tensorflow/compiler/xla/stream_executor/cuda/cuda_gpu_executor.cc:981] successful NUMA node read from SysFS had negative value (-1), but there must be at least one NUMA node, so returning NUMA node zero\n",
      "2022-12-15 12:42:13.634443: I tensorflow/core/platform/cpu_feature_guard.cc:193] This TensorFlow binary is optimized with oneAPI Deep Neural Network Library (oneDNN) to use the following CPU instructions in performance-critical operations:  AVX2 FMA\n",
      "To enable them in other operations, rebuild TensorFlow with the appropriate compiler flags.\n",
      "2022-12-15 12:42:13.635001: I tensorflow/compiler/xla/stream_executor/cuda/cuda_gpu_executor.cc:981] successful NUMA node read from SysFS had negative value (-1), but there must be at least one NUMA node, so returning NUMA node zero\n",
      "2022-12-15 12:42:13.635157: I tensorflow/compiler/xla/stream_executor/cuda/cuda_gpu_executor.cc:981] successful NUMA node read from SysFS had negative value (-1), but there must be at least one NUMA node, so returning NUMA node zero\n",
      "2022-12-15 12:42:13.635296: I tensorflow/compiler/xla/stream_executor/cuda/cuda_gpu_executor.cc:981] successful NUMA node read from SysFS had negative value (-1), but there must be at least one NUMA node, so returning NUMA node zero\n",
      "2022-12-15 12:42:14.008056: I tensorflow/compiler/xla/stream_executor/cuda/cuda_gpu_executor.cc:981] successful NUMA node read from SysFS had negative value (-1), but there must be at least one NUMA node, so returning NUMA node zero\n",
      "2022-12-15 12:42:14.008258: I tensorflow/compiler/xla/stream_executor/cuda/cuda_gpu_executor.cc:981] successful NUMA node read from SysFS had negative value (-1), but there must be at least one NUMA node, so returning NUMA node zero\n",
      "2022-12-15 12:42:14.008406: I tensorflow/compiler/xla/stream_executor/cuda/cuda_gpu_executor.cc:981] successful NUMA node read from SysFS had negative value (-1), but there must be at least one NUMA node, so returning NUMA node zero\n",
      "2022-12-15 12:42:14.008541: I tensorflow/core/common_runtime/gpu/gpu_device.cc:1613] Created device /job:localhost/replica:0/task:0/device:GPU:0 with 3510 MB memory:  -> device: 0, name: NVIDIA GeForce RTX 2060, pci bus id: 0000:08:00.0, compute capability: 7.5\n",
      "INFO:tensorflow:Using MirroredStrategy with devices ('/job:localhost/replica:0/task:0/device:GPU:0',)\n",
      "I1215 12:42:14.052853 140047479187264 mirrored_strategy.py:374] Using MirroredStrategy with devices ('/job:localhost/replica:0/task:0/device:GPU:0',)\n",
      "INFO:tensorflow:Maybe overwriting train_steps: 3500\n",
      "I1215 12:42:14.055972 140047479187264 config_util.py:552] Maybe overwriting train_steps: 3500\n",
      "INFO:tensorflow:Maybe overwriting use_bfloat16: False\n",
      "I1215 12:42:14.056036 140047479187264 config_util.py:552] Maybe overwriting use_bfloat16: False\n",
      "WARNING:tensorflow:From /home/chanyu/Desktop/gesture_detection_3.8/TFODCourse/Tensorflow/models/research/object_detection/model_lib_v2.py:563: StrategyBase.experimental_distribute_datasets_from_function (from tensorflow.python.distribute.distribute_lib) is deprecated and will be removed in a future version.\n",
      "Instructions for updating:\n",
      "rename to distribute_datasets_from_function\n",
      "W1215 12:42:14.074946 140047479187264 deprecation.py:350] From /home/chanyu/Desktop/gesture_detection_3.8/TFODCourse/Tensorflow/models/research/object_detection/model_lib_v2.py:563: StrategyBase.experimental_distribute_datasets_from_function (from tensorflow.python.distribute.distribute_lib) is deprecated and will be removed in a future version.\n",
      "Instructions for updating:\n",
      "rename to distribute_datasets_from_function\n",
      "INFO:tensorflow:Reading unweighted datasets: ['Tensorflow/workspace/annotations/train.record']\n",
      "I1215 12:42:14.080078 140047479187264 dataset_builder.py:162] Reading unweighted datasets: ['Tensorflow/workspace/annotations/train.record']\n",
      "INFO:tensorflow:Reading record datasets for input file: ['Tensorflow/workspace/annotations/train.record']\n",
      "I1215 12:42:14.080186 140047479187264 dataset_builder.py:79] Reading record datasets for input file: ['Tensorflow/workspace/annotations/train.record']\n",
      "INFO:tensorflow:Number of filenames to read: 1\n",
      "I1215 12:42:14.080228 140047479187264 dataset_builder.py:80] Number of filenames to read: 1\n",
      "WARNING:tensorflow:num_readers has been reduced to 1 to match input file shards.\n",
      "W1215 12:42:14.080264 140047479187264 dataset_builder.py:86] num_readers has been reduced to 1 to match input file shards.\n",
      "WARNING:tensorflow:From /home/chanyu/.pyenv/versions/3.8.10/lib/python3.8/site-packages/object_detection/builders/dataset_builder.py:100: parallel_interleave (from tensorflow.python.data.experimental.ops.interleave_ops) is deprecated and will be removed in a future version.\n",
      "Instructions for updating:\n",
      "Use `tf.data.Dataset.interleave(map_func, cycle_length, block_length, num_parallel_calls=tf.data.AUTOTUNE)` instead. If sloppy execution is desired, use `tf.data.Options.deterministic`.\n",
      "W1215 12:42:14.084223 140047479187264 deprecation.py:350] From /home/chanyu/.pyenv/versions/3.8.10/lib/python3.8/site-packages/object_detection/builders/dataset_builder.py:100: parallel_interleave (from tensorflow.python.data.experimental.ops.interleave_ops) is deprecated and will be removed in a future version.\n",
      "Instructions for updating:\n",
      "Use `tf.data.Dataset.interleave(map_func, cycle_length, block_length, num_parallel_calls=tf.data.AUTOTUNE)` instead. If sloppy execution is desired, use `tf.data.Options.deterministic`.\n",
      "WARNING:tensorflow:From /home/chanyu/.pyenv/versions/3.8.10/lib/python3.8/site-packages/object_detection/builders/dataset_builder.py:235: DatasetV1.map_with_legacy_function (from tensorflow.python.data.ops.dataset_ops) is deprecated and will be removed in a future version.\n",
      "Instructions for updating:\n",
      "Use `tf.data.Dataset.map()\n",
      "W1215 12:42:14.095540 140047479187264 deprecation.py:350] From /home/chanyu/.pyenv/versions/3.8.10/lib/python3.8/site-packages/object_detection/builders/dataset_builder.py:235: DatasetV1.map_with_legacy_function (from tensorflow.python.data.ops.dataset_ops) is deprecated and will be removed in a future version.\n",
      "Instructions for updating:\n",
      "Use `tf.data.Dataset.map()\n"
     ]
    },
    {
     "name": "stdout",
     "output_type": "stream",
     "text": [
      "WARNING:tensorflow:From /home/chanyu/.pyenv/versions/3.8.10/lib/python3.8/site-packages/tensorflow/python/autograph/pyct/static_analysis/liveness.py:83: Analyzer.lamba_check (from tensorflow.python.autograph.pyct.static_analysis.liveness) is deprecated and will be removed after 2023-09-23.\n",
      "Instructions for updating:\n",
      "Lambda fuctions will be no more assumed to be used in the statement where they are used, or at least in the same block. https://github.com/tensorflow/tensorflow/issues/56089\n",
      "W1215 12:42:14.602770 140047479187264 deprecation.py:350] From /home/chanyu/.pyenv/versions/3.8.10/lib/python3.8/site-packages/tensorflow/python/autograph/pyct/static_analysis/liveness.py:83: Analyzer.lamba_check (from tensorflow.python.autograph.pyct.static_analysis.liveness) is deprecated and will be removed after 2023-09-23.\n",
      "Instructions for updating:\n",
      "Lambda fuctions will be no more assumed to be used in the statement where they are used, or at least in the same block. https://github.com/tensorflow/tensorflow/issues/56089\n",
      "WARNING:tensorflow:From /home/chanyu/.pyenv/versions/3.8.10/lib/python3.8/site-packages/tensorflow/python/util/dispatch.py:1176: sparse_to_dense (from tensorflow.python.ops.sparse_ops) is deprecated and will be removed in a future version.\n",
      "Instructions for updating:\n",
      "Create a `tf.sparse.SparseTensor` and use `tf.sparse.to_dense` instead.\n",
      "W1215 12:42:19.746827 140047479187264 deprecation.py:350] From /home/chanyu/.pyenv/versions/3.8.10/lib/python3.8/site-packages/tensorflow/python/util/dispatch.py:1176: sparse_to_dense (from tensorflow.python.ops.sparse_ops) is deprecated and will be removed in a future version.\n",
      "Instructions for updating:\n",
      "Create a `tf.sparse.SparseTensor` and use `tf.sparse.to_dense` instead.\n",
      "WARNING:tensorflow:From /home/chanyu/.pyenv/versions/3.8.10/lib/python3.8/site-packages/tensorflow/python/util/dispatch.py:1176: sample_distorted_bounding_box (from tensorflow.python.ops.image_ops_impl) is deprecated and will be removed in a future version.\n",
      "Instructions for updating:\n",
      "`seed2` arg is deprecated.Use sample_distorted_bounding_box_v2 instead.\n",
      "W1215 12:42:22.277044 140047479187264 deprecation.py:350] From /home/chanyu/.pyenv/versions/3.8.10/lib/python3.8/site-packages/tensorflow/python/util/dispatch.py:1176: sample_distorted_bounding_box (from tensorflow.python.ops.image_ops_impl) is deprecated and will be removed in a future version.\n",
      "Instructions for updating:\n",
      "`seed2` arg is deprecated.Use sample_distorted_bounding_box_v2 instead.\n",
      "WARNING:tensorflow:From /home/chanyu/.pyenv/versions/3.8.10/lib/python3.8/site-packages/tensorflow/python/util/dispatch.py:1176: to_float (from tensorflow.python.ops.math_ops) is deprecated and will be removed in a future version.\n",
      "Instructions for updating:\n",
      "Use `tf.cast` instead.\n",
      "W1215 12:42:23.595245 140047479187264 deprecation.py:350] From /home/chanyu/.pyenv/versions/3.8.10/lib/python3.8/site-packages/tensorflow/python/util/dispatch.py:1176: to_float (from tensorflow.python.ops.math_ops) is deprecated and will be removed in a future version.\n",
      "Instructions for updating:\n",
      "Use `tf.cast` instead.\n",
      "/home/chanyu/.pyenv/versions/3.8.10/lib/python3.8/site-packages/keras/backend.py:451: UserWarning: `tf.keras.backend.set_learning_phase` is deprecated and will be removed after 2020-10-11. To update it, simply pass a True/False value to the `training` argument of the `__call__` method of your layer or model.\n",
      "  warnings.warn(\n",
      "2022-12-15 12:42:39.416120: I tensorflow/compiler/xla/stream_executor/cuda/cuda_dnn.cc:428] Loaded cuDNN version 8100\n",
      "2022-12-15 12:42:39.749329: W tensorflow/compiler/xla/stream_executor/gpu/asm_compiler.cc:115] *** WARNING *** You are using ptxas 11.0.194, which is older than 11.1. ptxas before 11.1 is known to miscompile XLA code, leading to incorrect results or invalid-address errors.\n",
      "\n",
      "You may not need to update to CUDA 11.1; cherry-picking the ptxas binary is often sufficient.\n",
      "ERROR:tensorflow:Couldn't match files for checkpoint Tensorflow/workspace/models/my_ssd_mobnet_final/ckpt-5\n",
      "E1215 12:42:41.282099 140047479187264 checkpoint_management.py:361] Couldn't match files for checkpoint Tensorflow/workspace/models/my_ssd_mobnet_final/ckpt-5\n",
      "INFO:tensorflow:Reduce to /job:localhost/replica:0/task:0/device:CPU:0 then broadcast to ('/job:localhost/replica:0/task:0/device:CPU:0',).\n",
      "I1215 12:42:41.630333 140047479187264 cross_device_ops.py:616] Reduce to /job:localhost/replica:0/task:0/device:CPU:0 then broadcast to ('/job:localhost/replica:0/task:0/device:CPU:0',).\n",
      "INFO:tensorflow:Reduce to /job:localhost/replica:0/task:0/device:CPU:0 then broadcast to ('/job:localhost/replica:0/task:0/device:CPU:0',).\n",
      "I1215 12:42:41.632019 140047479187264 cross_device_ops.py:616] Reduce to /job:localhost/replica:0/task:0/device:CPU:0 then broadcast to ('/job:localhost/replica:0/task:0/device:CPU:0',).\n",
      "INFO:tensorflow:Reduce to /job:localhost/replica:0/task:0/device:CPU:0 then broadcast to ('/job:localhost/replica:0/task:0/device:CPU:0',).\n",
      "I1215 12:42:41.632575 140047479187264 cross_device_ops.py:616] Reduce to /job:localhost/replica:0/task:0/device:CPU:0 then broadcast to ('/job:localhost/replica:0/task:0/device:CPU:0',).\n",
      "INFO:tensorflow:Reduce to /job:localhost/replica:0/task:0/device:CPU:0 then broadcast to ('/job:localhost/replica:0/task:0/device:CPU:0',).\n",
      "I1215 12:42:41.633092 140047479187264 cross_device_ops.py:616] Reduce to /job:localhost/replica:0/task:0/device:CPU:0 then broadcast to ('/job:localhost/replica:0/task:0/device:CPU:0',).\n",
      "INFO:tensorflow:Reduce to /job:localhost/replica:0/task:0/device:CPU:0 then broadcast to ('/job:localhost/replica:0/task:0/device:CPU:0',).\n",
      "I1215 12:42:41.635086 140047479187264 cross_device_ops.py:616] Reduce to /job:localhost/replica:0/task:0/device:CPU:0 then broadcast to ('/job:localhost/replica:0/task:0/device:CPU:0',).\n",
      "INFO:tensorflow:Reduce to /job:localhost/replica:0/task:0/device:CPU:0 then broadcast to ('/job:localhost/replica:0/task:0/device:CPU:0',).\n",
      "I1215 12:42:41.635601 140047479187264 cross_device_ops.py:616] Reduce to /job:localhost/replica:0/task:0/device:CPU:0 then broadcast to ('/job:localhost/replica:0/task:0/device:CPU:0',).\n",
      "INFO:tensorflow:Reduce to /job:localhost/replica:0/task:0/device:CPU:0 then broadcast to ('/job:localhost/replica:0/task:0/device:CPU:0',).\n",
      "I1215 12:42:41.636125 140047479187264 cross_device_ops.py:616] Reduce to /job:localhost/replica:0/task:0/device:CPU:0 then broadcast to ('/job:localhost/replica:0/task:0/device:CPU:0',).\n",
      "INFO:tensorflow:Reduce to /job:localhost/replica:0/task:0/device:CPU:0 then broadcast to ('/job:localhost/replica:0/task:0/device:CPU:0',).\n",
      "I1215 12:42:41.636628 140047479187264 cross_device_ops.py:616] Reduce to /job:localhost/replica:0/task:0/device:CPU:0 then broadcast to ('/job:localhost/replica:0/task:0/device:CPU:0',).\n",
      "INFO:tensorflow:Reduce to /job:localhost/replica:0/task:0/device:CPU:0 then broadcast to ('/job:localhost/replica:0/task:0/device:CPU:0',).\n",
      "I1215 12:42:41.639080 140047479187264 cross_device_ops.py:616] Reduce to /job:localhost/replica:0/task:0/device:CPU:0 then broadcast to ('/job:localhost/replica:0/task:0/device:CPU:0',).\n",
      "INFO:tensorflow:Reduce to /job:localhost/replica:0/task:0/device:CPU:0 then broadcast to ('/job:localhost/replica:0/task:0/device:CPU:0',).\n",
      "I1215 12:42:41.639589 140047479187264 cross_device_ops.py:616] Reduce to /job:localhost/replica:0/task:0/device:CPU:0 then broadcast to ('/job:localhost/replica:0/task:0/device:CPU:0',).\n",
      "WARNING:tensorflow:From /home/chanyu/.pyenv/versions/3.8.10/lib/python3.8/site-packages/tensorflow/python/util/deprecation.py:629: calling map_fn_v2 (from tensorflow.python.ops.map_fn) with dtype is deprecated and will be removed in a future version.\n",
      "Instructions for updating:\n",
      "Use fn_output_signature instead\n",
      "W1215 12:42:42.532392 140035219252800 deprecation.py:554] From /home/chanyu/.pyenv/versions/3.8.10/lib/python3.8/site-packages/tensorflow/python/util/deprecation.py:629: calling map_fn_v2 (from tensorflow.python.ops.map_fn) with dtype is deprecated and will be removed in a future version.\n",
      "Instructions for updating:\n",
      "Use fn_output_signature instead\n",
      "2022-12-15 12:43:02.895141: W tensorflow/compiler/xla/stream_executor/gpu/asm_compiler.cc:115] *** WARNING *** You are using ptxas 11.0.194, which is older than 11.1. ptxas before 11.1 is known to miscompile XLA code, leading to incorrect results or invalid-address errors.\n",
      "\n",
      "You may not need to update to CUDA 11.1; cherry-picking the ptxas binary is often sufficient.\n",
      "2022-12-15 12:43:02.895250: W tensorflow/compiler/xla/stream_executor/gpu/asm_compiler.cc:115] *** WARNING *** You are using ptxas 11.0.194, which is older than 11.1. ptxas before 11.1 is known to miscompile XLA code, leading to incorrect results or invalid-address errors.\n",
      "\n",
      "You may not need to update to CUDA 11.1; cherry-picking the ptxas binary is often sufficient.\n",
      "2022-12-15 12:43:02.895384: W tensorflow/compiler/xla/stream_executor/gpu/asm_compiler.cc:115] *** WARNING *** You are using ptxas 11.0.194, which is older than 11.1. ptxas before 11.1 is known to miscompile XLA code, leading to incorrect results or invalid-address errors.\n",
      "\n",
      "You may not need to update to CUDA 11.1; cherry-picking the ptxas binary is often sufficient.\n",
      "2022-12-15 12:43:02.895429: W tensorflow/compiler/xla/stream_executor/gpu/asm_compiler.cc:115] *** WARNING *** You are using ptxas 11.0.194, which is older than 11.1. ptxas before 11.1 is known to miscompile XLA code, leading to incorrect results or invalid-address errors.\n",
      "\n",
      "You may not need to update to CUDA 11.1; cherry-picking the ptxas binary is often sufficient.\n",
      "2022-12-15 12:43:02.895493: W tensorflow/compiler/xla/stream_executor/gpu/asm_compiler.cc:115] *** WARNING *** You are using ptxas 11.0.194, which is older than 11.1. ptxas before 11.1 is known to miscompile XLA code, leading to incorrect results or invalid-address errors.\n",
      "\n",
      "You may not need to update to CUDA 11.1; cherry-picking the ptxas binary is often sufficient.\n",
      "2022-12-15 12:43:02.895507: W tensorflow/compiler/xla/stream_executor/gpu/asm_compiler.cc:115] *** WARNING *** You are using ptxas 11.0.194, which is older than 11.1. ptxas before 11.1 is known to miscompile XLA code, leading to incorrect results or invalid-address errors.\n",
      "\n",
      "You may not need to update to CUDA 11.1; cherry-picking the ptxas binary is often sufficient.\n",
      "2022-12-15 12:43:02.895556: W tensorflow/compiler/xla/stream_executor/gpu/asm_compiler.cc:115] *** WARNING *** You are using ptxas 11.0.194, which is older than 11.1. ptxas before 11.1 is known to miscompile XLA code, leading to incorrect results or invalid-address errors.\n",
      "\n",
      "You may not need to update to CUDA 11.1; cherry-picking the ptxas binary is often sufficient.\n",
      "2022-12-15 12:43:02.895595: W tensorflow/compiler/xla/stream_executor/gpu/asm_compiler.cc:115] *** WARNING *** You are using ptxas 11.0.194, which is older than 11.1. ptxas before 11.1 is known to miscompile XLA code, leading to incorrect results or invalid-address errors.\n",
      "\n",
      "You may not need to update to CUDA 11.1; cherry-picking the ptxas binary is often sufficient.\n",
      "2022-12-15 12:43:02.895633: W tensorflow/compiler/xla/stream_executor/gpu/asm_compiler.cc:115] *** WARNING *** You are using ptxas 11.0.194, which is older than 11.1. ptxas before 11.1 is known to miscompile XLA code, leading to incorrect results or invalid-address errors.\n",
      "\n",
      "You may not need to update to CUDA 11.1; cherry-picking the ptxas binary is often sufficient.\n",
      "2022-12-15 12:43:02.895666: W tensorflow/compiler/xla/stream_executor/gpu/asm_compiler.cc:115] *** WARNING *** You are using ptxas 11.0.194, which is older than 11.1. ptxas before 11.1 is known to miscompile XLA code, leading to incorrect results or invalid-address errors.\n",
      "\n",
      "You may not need to update to CUDA 11.1; cherry-picking the ptxas binary is often sufficient.\n",
      "2022-12-15 12:43:02.895702: W tensorflow/compiler/xla/stream_executor/gpu/asm_compiler.cc:115] *** WARNING *** You are using ptxas 11.0.194, which is older than 11.1. ptxas before 11.1 is known to miscompile XLA code, leading to incorrect results or invalid-address errors.\n",
      "\n",
      "You may not need to update to CUDA 11.1; cherry-picking the ptxas binary is often sufficient.\n",
      "2022-12-15 12:43:02.895810: W tensorflow/compiler/xla/stream_executor/gpu/asm_compiler.cc:115] *** WARNING *** You are using ptxas 11.0.194, which is older than 11.1. ptxas before 11.1 is known to miscompile XLA code, leading to incorrect results or invalid-address errors.\n",
      "\n",
      "You may not need to update to CUDA 11.1; cherry-picking the ptxas binary is often sufficient.\n",
      "2022-12-15 12:43:02.896053: W tensorflow/compiler/xla/stream_executor/gpu/asm_compiler.cc:115] *** WARNING *** You are using ptxas 11.0.194, which is older than 11.1. ptxas before 11.1 is known to miscompile XLA code, leading to incorrect results or invalid-address errors.\n",
      "\n",
      "You may not need to update to CUDA 11.1; cherry-picking the ptxas binary is often sufficient.\n"
     ]
    },
    {
     "name": "stdout",
     "output_type": "stream",
     "text": [
      "INFO:tensorflow:Step 100 per-step time 0.295s\n",
      "I1215 12:43:11.823120 140047479187264 model_lib_v2.py:705] Step 100 per-step time 0.295s\n",
      "INFO:tensorflow:{'Loss/classification_loss': 0.33900025,\n",
      " 'Loss/localization_loss': 0.3823287,\n",
      " 'Loss/regularization_loss': 0.15408137,\n",
      " 'Loss/total_loss': 0.8754103,\n",
      " 'learning_rate': 0.0319994}\n",
      "I1215 12:43:11.823765 140047479187264 model_lib_v2.py:708] {'Loss/classification_loss': 0.33900025,\n",
      " 'Loss/localization_loss': 0.3823287,\n",
      " 'Loss/regularization_loss': 0.15408137,\n",
      " 'Loss/total_loss': 0.8754103,\n",
      " 'learning_rate': 0.0319994}\n",
      "INFO:tensorflow:Step 200 per-step time 0.062s\n",
      "I1215 12:43:17.933984 140047479187264 model_lib_v2.py:705] Step 200 per-step time 0.062s\n",
      "INFO:tensorflow:{'Loss/classification_loss': 0.26965398,\n",
      " 'Loss/localization_loss': 0.23709537,\n",
      " 'Loss/regularization_loss': 0.1542914,\n",
      " 'Loss/total_loss': 0.6610407,\n",
      " 'learning_rate': 0.0373328}\n",
      "I1215 12:43:17.934365 140047479187264 model_lib_v2.py:708] {'Loss/classification_loss': 0.26965398,\n",
      " 'Loss/localization_loss': 0.23709537,\n",
      " 'Loss/regularization_loss': 0.1542914,\n",
      " 'Loss/total_loss': 0.6610407,\n",
      " 'learning_rate': 0.0373328}\n",
      "INFO:tensorflow:Step 300 per-step time 0.058s\n",
      "I1215 12:43:23.690733 140047479187264 model_lib_v2.py:705] Step 300 per-step time 0.058s\n",
      "INFO:tensorflow:{'Loss/classification_loss': 0.30716428,\n",
      " 'Loss/localization_loss': 0.10033758,\n",
      " 'Loss/regularization_loss': 0.15419024,\n",
      " 'Loss/total_loss': 0.5616921,\n",
      " 'learning_rate': 0.0426662}\n",
      "I1215 12:43:23.691028 140047479187264 model_lib_v2.py:708] {'Loss/classification_loss': 0.30716428,\n",
      " 'Loss/localization_loss': 0.10033758,\n",
      " 'Loss/regularization_loss': 0.15419024,\n",
      " 'Loss/total_loss': 0.5616921,\n",
      " 'learning_rate': 0.0426662}\n",
      "INFO:tensorflow:Step 400 per-step time 0.059s\n",
      "I1215 12:43:29.583806 140047479187264 model_lib_v2.py:705] Step 400 per-step time 0.059s\n",
      "INFO:tensorflow:{'Loss/classification_loss': 0.4350565,\n",
      " 'Loss/localization_loss': 0.33483362,\n",
      " 'Loss/regularization_loss': 0.1540478,\n",
      " 'Loss/total_loss': 0.9239379,\n",
      " 'learning_rate': 0.047999598}\n",
      "I1215 12:43:29.584108 140047479187264 model_lib_v2.py:708] {'Loss/classification_loss': 0.4350565,\n",
      " 'Loss/localization_loss': 0.33483362,\n",
      " 'Loss/regularization_loss': 0.1540478,\n",
      " 'Loss/total_loss': 0.9239379,\n",
      " 'learning_rate': 0.047999598}\n",
      "INFO:tensorflow:Step 500 per-step time 0.059s\n",
      "I1215 12:43:35.435361 140047479187264 model_lib_v2.py:705] Step 500 per-step time 0.059s\n",
      "INFO:tensorflow:{'Loss/classification_loss': 0.43776304,\n",
      " 'Loss/localization_loss': 0.110625245,\n",
      " 'Loss/regularization_loss': 0.1537638,\n",
      " 'Loss/total_loss': 0.70215213,\n",
      " 'learning_rate': 0.053333}\n",
      "I1215 12:43:35.435648 140047479187264 model_lib_v2.py:708] {'Loss/classification_loss': 0.43776304,\n",
      " 'Loss/localization_loss': 0.110625245,\n",
      " 'Loss/regularization_loss': 0.1537638,\n",
      " 'Loss/total_loss': 0.70215213,\n",
      " 'learning_rate': 0.053333}\n",
      "INFO:tensorflow:Step 600 per-step time 0.057s\n",
      "I1215 12:43:41.166076 140047479187264 model_lib_v2.py:705] Step 600 per-step time 0.057s\n",
      "INFO:tensorflow:{'Loss/classification_loss': 0.17709024,\n",
      " 'Loss/localization_loss': 0.09790796,\n",
      " 'Loss/regularization_loss': 0.15350688,\n",
      " 'Loss/total_loss': 0.42850506,\n",
      " 'learning_rate': 0.0586664}\n",
      "I1215 12:43:41.166391 140047479187264 model_lib_v2.py:708] {'Loss/classification_loss': 0.17709024,\n",
      " 'Loss/localization_loss': 0.09790796,\n",
      " 'Loss/regularization_loss': 0.15350688,\n",
      " 'Loss/total_loss': 0.42850506,\n",
      " 'learning_rate': 0.0586664}\n",
      "INFO:tensorflow:Step 700 per-step time 0.057s\n",
      "I1215 12:43:46.930648 140047479187264 model_lib_v2.py:705] Step 700 per-step time 0.057s\n",
      "INFO:tensorflow:{'Loss/classification_loss': 0.2964917,\n",
      " 'Loss/localization_loss': 0.19218566,\n",
      " 'Loss/regularization_loss': 0.15336792,\n",
      " 'Loss/total_loss': 0.6420453,\n",
      " 'learning_rate': 0.0639998}\n",
      "I1215 12:43:46.931427 140047479187264 model_lib_v2.py:708] {'Loss/classification_loss': 0.2964917,\n",
      " 'Loss/localization_loss': 0.19218566,\n",
      " 'Loss/regularization_loss': 0.15336792,\n",
      " 'Loss/total_loss': 0.6420453,\n",
      " 'learning_rate': 0.0639998}\n",
      "INFO:tensorflow:Step 800 per-step time 0.058s\n",
      "I1215 12:43:52.702951 140047479187264 model_lib_v2.py:705] Step 800 per-step time 0.058s\n",
      "INFO:tensorflow:{'Loss/classification_loss': 0.14122443,\n",
      " 'Loss/localization_loss': 0.045969836,\n",
      " 'Loss/regularization_loss': 0.15331146,\n",
      " 'Loss/total_loss': 0.34050572,\n",
      " 'learning_rate': 0.069333196}\n",
      "I1215 12:43:52.703278 140047479187264 model_lib_v2.py:708] {'Loss/classification_loss': 0.14122443,\n",
      " 'Loss/localization_loss': 0.045969836,\n",
      " 'Loss/regularization_loss': 0.15331146,\n",
      " 'Loss/total_loss': 0.34050572,\n",
      " 'learning_rate': 0.069333196}\n",
      "INFO:tensorflow:Step 900 per-step time 0.059s\n",
      "I1215 12:43:58.624322 140047479187264 model_lib_v2.py:705] Step 900 per-step time 0.059s\n",
      "INFO:tensorflow:{'Loss/classification_loss': 0.17685677,\n",
      " 'Loss/localization_loss': 0.10088657,\n",
      " 'Loss/regularization_loss': 0.15328957,\n",
      " 'Loss/total_loss': 0.4310329,\n",
      " 'learning_rate': 0.074666604}\n",
      "I1215 12:43:58.624653 140047479187264 model_lib_v2.py:708] {'Loss/classification_loss': 0.17685677,\n",
      " 'Loss/localization_loss': 0.10088657,\n",
      " 'Loss/regularization_loss': 0.15328957,\n",
      " 'Loss/total_loss': 0.4310329,\n",
      " 'learning_rate': 0.074666604}\n",
      "INFO:tensorflow:Step 1000 per-step time 0.060s\n",
      "I1215 12:44:04.649953 140047479187264 model_lib_v2.py:705] Step 1000 per-step time 0.060s\n",
      "INFO:tensorflow:{'Loss/classification_loss': 0.35030857,\n",
      " 'Loss/localization_loss': 0.1931465,\n",
      " 'Loss/regularization_loss': 0.15313356,\n",
      " 'Loss/total_loss': 0.69658864,\n",
      " 'learning_rate': 0.08}\n",
      "I1215 12:44:04.650316 140047479187264 model_lib_v2.py:708] {'Loss/classification_loss': 0.35030857,\n",
      " 'Loss/localization_loss': 0.1931465,\n",
      " 'Loss/regularization_loss': 0.15313356,\n",
      " 'Loss/total_loss': 0.69658864,\n",
      " 'learning_rate': 0.08}\n",
      "INFO:tensorflow:Step 1100 per-step time 0.065s\n",
      "I1215 12:44:11.139785 140047479187264 model_lib_v2.py:705] Step 1100 per-step time 0.065s\n",
      "INFO:tensorflow:{'Loss/classification_loss': 0.16107258,\n",
      " 'Loss/localization_loss': 0.07450245,\n",
      " 'Loss/regularization_loss': 0.15301678,\n",
      " 'Loss/total_loss': 0.38859183,\n",
      " 'learning_rate': 0.07999918}\n",
      "I1215 12:44:11.140094 140047479187264 model_lib_v2.py:708] {'Loss/classification_loss': 0.16107258,\n",
      " 'Loss/localization_loss': 0.07450245,\n",
      " 'Loss/regularization_loss': 0.15301678,\n",
      " 'Loss/total_loss': 0.38859183,\n",
      " 'learning_rate': 0.07999918}\n",
      "INFO:tensorflow:Step 1200 per-step time 0.061s\n",
      "I1215 12:44:17.222249 140047479187264 model_lib_v2.py:705] Step 1200 per-step time 0.061s\n",
      "INFO:tensorflow:{'Loss/classification_loss': 0.22172597,\n",
      " 'Loss/localization_loss': 0.15578173,\n",
      " 'Loss/regularization_loss': 0.1528149,\n",
      " 'Loss/total_loss': 0.53032255,\n",
      " 'learning_rate': 0.079996705}\n",
      "I1215 12:44:17.222657 140047479187264 model_lib_v2.py:708] {'Loss/classification_loss': 0.22172597,\n",
      " 'Loss/localization_loss': 0.15578173,\n",
      " 'Loss/regularization_loss': 0.1528149,\n",
      " 'Loss/total_loss': 0.53032255,\n",
      " 'learning_rate': 0.079996705}\n",
      "INFO:tensorflow:Step 1300 per-step time 0.060s\n",
      "I1215 12:44:23.200836 140047479187264 model_lib_v2.py:705] Step 1300 per-step time 0.060s\n",
      "INFO:tensorflow:{'Loss/classification_loss': 0.10445707,\n",
      " 'Loss/localization_loss': 0.07955604,\n",
      " 'Loss/regularization_loss': 0.15261881,\n",
      " 'Loss/total_loss': 0.33663192,\n",
      " 'learning_rate': 0.0799926}\n",
      "I1215 12:44:23.201149 140047479187264 model_lib_v2.py:708] {'Loss/classification_loss': 0.10445707,\n",
      " 'Loss/localization_loss': 0.07955604,\n",
      " 'Loss/regularization_loss': 0.15261881,\n",
      " 'Loss/total_loss': 0.33663192,\n",
      " 'learning_rate': 0.0799926}\n",
      "INFO:tensorflow:Step 1400 per-step time 0.059s\n",
      "I1215 12:44:29.054947 140047479187264 model_lib_v2.py:705] Step 1400 per-step time 0.059s\n",
      "INFO:tensorflow:{'Loss/classification_loss': 0.16656074,\n",
      " 'Loss/localization_loss': 0.0834237,\n",
      " 'Loss/regularization_loss': 0.15241748,\n",
      " 'Loss/total_loss': 0.40240192,\n",
      " 'learning_rate': 0.07998685}\n",
      "I1215 12:44:29.055459 140047479187264 model_lib_v2.py:708] {'Loss/classification_loss': 0.16656074,\n",
      " 'Loss/localization_loss': 0.0834237,\n",
      " 'Loss/regularization_loss': 0.15241748,\n",
      " 'Loss/total_loss': 0.40240192,\n",
      " 'learning_rate': 0.07998685}\n",
      "INFO:tensorflow:Step 1500 per-step time 0.058s\n",
      "I1215 12:44:34.858167 140047479187264 model_lib_v2.py:705] Step 1500 per-step time 0.058s\n",
      "INFO:tensorflow:{'Loss/classification_loss': 0.19690882,\n",
      " 'Loss/localization_loss': 0.09867696,\n",
      " 'Loss/regularization_loss': 0.15204881,\n",
      " 'Loss/total_loss': 0.44763458,\n",
      " 'learning_rate': 0.07997945}\n",
      "I1215 12:44:34.858463 140047479187264 model_lib_v2.py:708] {'Loss/classification_loss': 0.19690882,\n",
      " 'Loss/localization_loss': 0.09867696,\n",
      " 'Loss/regularization_loss': 0.15204881,\n",
      " 'Loss/total_loss': 0.44763458,\n",
      " 'learning_rate': 0.07997945}\n"
     ]
    },
    {
     "name": "stdout",
     "output_type": "stream",
     "text": [
      "INFO:tensorflow:Step 1600 per-step time 0.057s\n",
      "I1215 12:44:40.608823 140047479187264 model_lib_v2.py:705] Step 1600 per-step time 0.057s\n",
      "INFO:tensorflow:{'Loss/classification_loss': 0.13971226,\n",
      " 'Loss/localization_loss': 0.112244256,\n",
      " 'Loss/regularization_loss': 0.15159434,\n",
      " 'Loss/total_loss': 0.40355086,\n",
      " 'learning_rate': 0.079970405}\n",
      "I1215 12:44:40.609127 140047479187264 model_lib_v2.py:708] {'Loss/classification_loss': 0.13971226,\n",
      " 'Loss/localization_loss': 0.112244256,\n",
      " 'Loss/regularization_loss': 0.15159434,\n",
      " 'Loss/total_loss': 0.40355086,\n",
      " 'learning_rate': 0.079970405}\n",
      "INFO:tensorflow:Step 1700 per-step time 0.060s\n",
      "I1215 12:44:46.565011 140047479187264 model_lib_v2.py:705] Step 1700 per-step time 0.060s\n",
      "INFO:tensorflow:{'Loss/classification_loss': 0.15164189,\n",
      " 'Loss/localization_loss': 0.04711648,\n",
      " 'Loss/regularization_loss': 0.15132397,\n",
      " 'Loss/total_loss': 0.35008234,\n",
      " 'learning_rate': 0.07995972}\n",
      "I1215 12:44:46.565448 140047479187264 model_lib_v2.py:708] {'Loss/classification_loss': 0.15164189,\n",
      " 'Loss/localization_loss': 0.04711648,\n",
      " 'Loss/regularization_loss': 0.15132397,\n",
      " 'Loss/total_loss': 0.35008234,\n",
      " 'learning_rate': 0.07995972}\n",
      "INFO:tensorflow:Step 1800 per-step time 0.058s\n",
      "I1215 12:44:52.355677 140047479187264 model_lib_v2.py:705] Step 1800 per-step time 0.058s\n",
      "INFO:tensorflow:{'Loss/classification_loss': 0.105915934,\n",
      " 'Loss/localization_loss': 0.042911325,\n",
      " 'Loss/regularization_loss': 0.15083657,\n",
      " 'Loss/total_loss': 0.29966384,\n",
      " 'learning_rate': 0.0799474}\n",
      "I1215 12:44:52.355950 140047479187264 model_lib_v2.py:708] {'Loss/classification_loss': 0.105915934,\n",
      " 'Loss/localization_loss': 0.042911325,\n",
      " 'Loss/regularization_loss': 0.15083657,\n",
      " 'Loss/total_loss': 0.29966384,\n",
      " 'learning_rate': 0.0799474}\n",
      "INFO:tensorflow:Step 1900 per-step time 0.059s\n",
      "I1215 12:44:58.235029 140047479187264 model_lib_v2.py:705] Step 1900 per-step time 0.059s\n",
      "INFO:tensorflow:{'Loss/classification_loss': 0.14590394,\n",
      " 'Loss/localization_loss': 0.041348588,\n",
      " 'Loss/regularization_loss': 0.15022545,\n",
      " 'Loss/total_loss': 0.33747798,\n",
      " 'learning_rate': 0.07993342}\n",
      "I1215 12:44:58.235335 140047479187264 model_lib_v2.py:708] {'Loss/classification_loss': 0.14590394,\n",
      " 'Loss/localization_loss': 0.041348588,\n",
      " 'Loss/regularization_loss': 0.15022545,\n",
      " 'Loss/total_loss': 0.33747798,\n",
      " 'learning_rate': 0.07993342}\n",
      "INFO:tensorflow:Step 2000 per-step time 0.058s\n",
      "I1215 12:45:04.029544 140047479187264 model_lib_v2.py:705] Step 2000 per-step time 0.058s\n",
      "INFO:tensorflow:{'Loss/classification_loss': 0.09964259,\n",
      " 'Loss/localization_loss': 0.035284955,\n",
      " 'Loss/regularization_loss': 0.14989482,\n",
      " 'Loss/total_loss': 0.28482234,\n",
      " 'learning_rate': 0.07991781}\n",
      "I1215 12:45:04.029808 140047479187264 model_lib_v2.py:708] {'Loss/classification_loss': 0.09964259,\n",
      " 'Loss/localization_loss': 0.035284955,\n",
      " 'Loss/regularization_loss': 0.14989482,\n",
      " 'Loss/total_loss': 0.28482234,\n",
      " 'learning_rate': 0.07991781}\n",
      "INFO:tensorflow:Step 2100 per-step time 0.065s\n",
      "I1215 12:45:10.508971 140047479187264 model_lib_v2.py:705] Step 2100 per-step time 0.065s\n",
      "INFO:tensorflow:{'Loss/classification_loss': 0.18360078,\n",
      " 'Loss/localization_loss': 0.0741506,\n",
      " 'Loss/regularization_loss': 0.1493422,\n",
      " 'Loss/total_loss': 0.40709358,\n",
      " 'learning_rate': 0.07990056}\n",
      "I1215 12:45:10.509389 140047479187264 model_lib_v2.py:708] {'Loss/classification_loss': 0.18360078,\n",
      " 'Loss/localization_loss': 0.0741506,\n",
      " 'Loss/regularization_loss': 0.1493422,\n",
      " 'Loss/total_loss': 0.40709358,\n",
      " 'learning_rate': 0.07990056}\n",
      "INFO:tensorflow:Step 2200 per-step time 0.059s\n",
      "I1215 12:45:16.458279 140047479187264 model_lib_v2.py:705] Step 2200 per-step time 0.059s\n",
      "INFO:tensorflow:{'Loss/classification_loss': 0.17169654,\n",
      " 'Loss/localization_loss': 0.07769061,\n",
      " 'Loss/regularization_loss': 0.14872512,\n",
      " 'Loss/total_loss': 0.39811227,\n",
      " 'learning_rate': 0.07988167}\n",
      "I1215 12:45:16.458726 140047479187264 model_lib_v2.py:708] {'Loss/classification_loss': 0.17169654,\n",
      " 'Loss/localization_loss': 0.07769061,\n",
      " 'Loss/regularization_loss': 0.14872512,\n",
      " 'Loss/total_loss': 0.39811227,\n",
      " 'learning_rate': 0.07988167}\n",
      "INFO:tensorflow:Step 2300 per-step time 0.058s\n",
      "I1215 12:45:22.268980 140047479187264 model_lib_v2.py:705] Step 2300 per-step time 0.058s\n",
      "INFO:tensorflow:{'Loss/classification_loss': 0.08286415,\n",
      " 'Loss/localization_loss': 0.030702634,\n",
      " 'Loss/regularization_loss': 0.14838524,\n",
      " 'Loss/total_loss': 0.26195204,\n",
      " 'learning_rate': 0.07986114}\n",
      "I1215 12:45:22.269169 140047479187264 model_lib_v2.py:708] {'Loss/classification_loss': 0.08286415,\n",
      " 'Loss/localization_loss': 0.030702634,\n",
      " 'Loss/regularization_loss': 0.14838524,\n",
      " 'Loss/total_loss': 0.26195204,\n",
      " 'learning_rate': 0.07986114}\n",
      "INFO:tensorflow:Step 2400 per-step time 0.059s\n",
      "I1215 12:45:28.211412 140047479187264 model_lib_v2.py:705] Step 2400 per-step time 0.059s\n",
      "INFO:tensorflow:{'Loss/classification_loss': 0.054211423,\n",
      " 'Loss/localization_loss': 0.029166702,\n",
      " 'Loss/regularization_loss': 0.14777584,\n",
      " 'Loss/total_loss': 0.23115396,\n",
      " 'learning_rate': 0.07983897}\n",
      "I1215 12:45:28.211711 140047479187264 model_lib_v2.py:708] {'Loss/classification_loss': 0.054211423,\n",
      " 'Loss/localization_loss': 0.029166702,\n",
      " 'Loss/regularization_loss': 0.14777584,\n",
      " 'Loss/total_loss': 0.23115396,\n",
      " 'learning_rate': 0.07983897}\n",
      "INFO:tensorflow:Step 2500 per-step time 0.058s\n",
      "I1215 12:45:33.965708 140047479187264 model_lib_v2.py:705] Step 2500 per-step time 0.058s\n",
      "INFO:tensorflow:{'Loss/classification_loss': 0.1254033,\n",
      " 'Loss/localization_loss': 0.03234827,\n",
      " 'Loss/regularization_loss': 0.14708011,\n",
      " 'Loss/total_loss': 0.30483168,\n",
      " 'learning_rate': 0.079815164}\n",
      "I1215 12:45:33.965905 140047479187264 model_lib_v2.py:708] {'Loss/classification_loss': 0.1254033,\n",
      " 'Loss/localization_loss': 0.03234827,\n",
      " 'Loss/regularization_loss': 0.14708011,\n",
      " 'Loss/total_loss': 0.30483168,\n",
      " 'learning_rate': 0.079815164}\n",
      "INFO:tensorflow:Step 2600 per-step time 0.059s\n",
      "I1215 12:45:39.874506 140047479187264 model_lib_v2.py:705] Step 2600 per-step time 0.059s\n",
      "INFO:tensorflow:{'Loss/classification_loss': 0.07589651,\n",
      " 'Loss/localization_loss': 0.03585715,\n",
      " 'Loss/regularization_loss': 0.14677317,\n",
      " 'Loss/total_loss': 0.25852683,\n",
      " 'learning_rate': 0.07978972}\n",
      "I1215 12:45:39.874803 140047479187264 model_lib_v2.py:708] {'Loss/classification_loss': 0.07589651,\n",
      " 'Loss/localization_loss': 0.03585715,\n",
      " 'Loss/regularization_loss': 0.14677317,\n",
      " 'Loss/total_loss': 0.25852683,\n",
      " 'learning_rate': 0.07978972}\n",
      "INFO:tensorflow:Step 2700 per-step time 0.059s\n",
      "I1215 12:45:45.781027 140047479187264 model_lib_v2.py:705] Step 2700 per-step time 0.059s\n",
      "INFO:tensorflow:{'Loss/classification_loss': 0.13259315,\n",
      " 'Loss/localization_loss': 0.08980496,\n",
      " 'Loss/regularization_loss': 0.14653072,\n",
      " 'Loss/total_loss': 0.36892885,\n",
      " 'learning_rate': 0.07976264}\n",
      "I1215 12:45:45.781544 140047479187264 model_lib_v2.py:708] {'Loss/classification_loss': 0.13259315,\n",
      " 'Loss/localization_loss': 0.08980496,\n",
      " 'Loss/regularization_loss': 0.14653072,\n",
      " 'Loss/total_loss': 0.36892885,\n",
      " 'learning_rate': 0.07976264}\n",
      "INFO:tensorflow:Step 2800 per-step time 0.060s\n",
      "I1215 12:45:51.758465 140047479187264 model_lib_v2.py:705] Step 2800 per-step time 0.060s\n",
      "INFO:tensorflow:{'Loss/classification_loss': 0.14103557,\n",
      " 'Loss/localization_loss': 0.078292176,\n",
      " 'Loss/regularization_loss': 0.14599249,\n",
      " 'Loss/total_loss': 0.36532024,\n",
      " 'learning_rate': 0.07973392}\n",
      "I1215 12:45:51.758842 140047479187264 model_lib_v2.py:708] {'Loss/classification_loss': 0.14103557,\n",
      " 'Loss/localization_loss': 0.078292176,\n",
      " 'Loss/regularization_loss': 0.14599249,\n",
      " 'Loss/total_loss': 0.36532024,\n",
      " 'learning_rate': 0.07973392}\n",
      "INFO:tensorflow:Step 2900 per-step time 0.060s\n",
      "I1215 12:45:57.711397 140047479187264 model_lib_v2.py:705] Step 2900 per-step time 0.060s\n",
      "INFO:tensorflow:{'Loss/classification_loss': 0.15982316,\n",
      " 'Loss/localization_loss': 0.032649465,\n",
      " 'Loss/regularization_loss': 0.14529996,\n",
      " 'Loss/total_loss': 0.3377726,\n",
      " 'learning_rate': 0.07970358}\n",
      "I1215 12:45:57.711808 140047479187264 model_lib_v2.py:708] {'Loss/classification_loss': 0.15982316,\n",
      " 'Loss/localization_loss': 0.032649465,\n",
      " 'Loss/regularization_loss': 0.14529996,\n",
      " 'Loss/total_loss': 0.3377726,\n",
      " 'learning_rate': 0.07970358}\n",
      "INFO:tensorflow:Step 3000 per-step time 0.058s\n",
      "I1215 12:46:03.478506 140047479187264 model_lib_v2.py:705] Step 3000 per-step time 0.058s\n",
      "INFO:tensorflow:{'Loss/classification_loss': 0.07810908,\n",
      " 'Loss/localization_loss': 0.020074949,\n",
      " 'Loss/regularization_loss': 0.14466885,\n",
      " 'Loss/total_loss': 0.24285287,\n",
      " 'learning_rate': 0.0796716}\n",
      "I1215 12:46:03.478795 140047479187264 model_lib_v2.py:708] {'Loss/classification_loss': 0.07810908,\n",
      " 'Loss/localization_loss': 0.020074949,\n",
      " 'Loss/regularization_loss': 0.14466885,\n",
      " 'Loss/total_loss': 0.24285287,\n",
      " 'learning_rate': 0.0796716}\n"
     ]
    },
    {
     "name": "stdout",
     "output_type": "stream",
     "text": [
      "INFO:tensorflow:Step 3100 per-step time 0.063s\n",
      "I1215 12:46:09.807722 140047479187264 model_lib_v2.py:705] Step 3100 per-step time 0.063s\n",
      "INFO:tensorflow:{'Loss/classification_loss': 0.08662943,\n",
      " 'Loss/localization_loss': 0.024835972,\n",
      " 'Loss/regularization_loss': 0.14398876,\n",
      " 'Loss/total_loss': 0.25545415,\n",
      " 'learning_rate': 0.07963799}\n",
      "I1215 12:46:09.807995 140047479187264 model_lib_v2.py:708] {'Loss/classification_loss': 0.08662943,\n",
      " 'Loss/localization_loss': 0.024835972,\n",
      " 'Loss/regularization_loss': 0.14398876,\n",
      " 'Loss/total_loss': 0.25545415,\n",
      " 'learning_rate': 0.07963799}\n",
      "INFO:tensorflow:Step 3200 per-step time 0.060s\n",
      "I1215 12:46:15.857155 140047479187264 model_lib_v2.py:705] Step 3200 per-step time 0.060s\n",
      "INFO:tensorflow:{'Loss/classification_loss': 0.05413112,\n",
      " 'Loss/localization_loss': 0.023973187,\n",
      " 'Loss/regularization_loss': 0.1434702,\n",
      " 'Loss/total_loss': 0.22157452,\n",
      " 'learning_rate': 0.07960275}\n",
      "I1215 12:46:15.857562 140047479187264 model_lib_v2.py:708] {'Loss/classification_loss': 0.05413112,\n",
      " 'Loss/localization_loss': 0.023973187,\n",
      " 'Loss/regularization_loss': 0.1434702,\n",
      " 'Loss/total_loss': 0.22157452,\n",
      " 'learning_rate': 0.07960275}\n",
      "INFO:tensorflow:Step 3300 per-step time 0.058s\n",
      "I1215 12:46:21.620831 140047479187264 model_lib_v2.py:705] Step 3300 per-step time 0.058s\n",
      "INFO:tensorflow:{'Loss/classification_loss': 0.097896345,\n",
      " 'Loss/localization_loss': 0.018916877,\n",
      " 'Loss/regularization_loss': 0.14296556,\n",
      " 'Loss/total_loss': 0.25977877,\n",
      " 'learning_rate': 0.07956588}\n",
      "I1215 12:46:21.621111 140047479187264 model_lib_v2.py:708] {'Loss/classification_loss': 0.097896345,\n",
      " 'Loss/localization_loss': 0.018916877,\n",
      " 'Loss/regularization_loss': 0.14296556,\n",
      " 'Loss/total_loss': 0.25977877,\n",
      " 'learning_rate': 0.07956588}\n",
      "INFO:tensorflow:Step 3400 per-step time 0.060s\n",
      "I1215 12:46:27.586997 140047479187264 model_lib_v2.py:705] Step 3400 per-step time 0.060s\n",
      "INFO:tensorflow:{'Loss/classification_loss': 0.05828738,\n",
      " 'Loss/localization_loss': 0.013290282,\n",
      " 'Loss/regularization_loss': 0.14229462,\n",
      " 'Loss/total_loss': 0.21387228,\n",
      " 'learning_rate': 0.079527386}\n",
      "I1215 12:46:27.587188 140047479187264 model_lib_v2.py:708] {'Loss/classification_loss': 0.05828738,\n",
      " 'Loss/localization_loss': 0.013290282,\n",
      " 'Loss/regularization_loss': 0.14229462,\n",
      " 'Loss/total_loss': 0.21387228,\n",
      " 'learning_rate': 0.079527386}\n",
      "INFO:tensorflow:Step 3500 per-step time 0.058s\n",
      "I1215 12:46:33.416921 140047479187264 model_lib_v2.py:705] Step 3500 per-step time 0.058s\n",
      "INFO:tensorflow:{'Loss/classification_loss': 0.055107575,\n",
      " 'Loss/localization_loss': 0.028090019,\n",
      " 'Loss/regularization_loss': 0.14156997,\n",
      " 'Loss/total_loss': 0.22476757,\n",
      " 'learning_rate': 0.07948727}\n",
      "I1215 12:46:33.417195 140047479187264 model_lib_v2.py:708] {'Loss/classification_loss': 0.055107575,\n",
      " 'Loss/localization_loss': 0.028090019,\n",
      " 'Loss/regularization_loss': 0.14156997,\n",
      " 'Loss/total_loss': 0.22476757,\n",
      " 'learning_rate': 0.07948727}\n"
     ]
    }
   ],
   "source": [
    "!{command}"
   ]
  },
  {
   "cell_type": "markdown",
   "metadata": {
    "id": "4_YRZu7npfDH"
   },
   "source": [
    "# 7. Evaluate the Model"
   ]
  },
  {
   "cell_type": "code",
   "execution_count": null,
   "metadata": {},
   "outputs": [],
   "source": [
    "!sudo apt install --allow-change-held-packages libcudnn8=8.1.0.77-1+cuda11.3"
   ]
  },
  {
   "cell_type": "code",
   "execution_count": null,
   "metadata": {
    "id": "80L7-fdPpfDH"
   },
   "outputs": [],
   "source": [
    "command = \"python {} --model_dir={} --pipeline_config_path={} --checkpoint_dir={}\".format(TRAINING_SCRIPT, paths['CHECKPOINT_PATH'],files['PIPELINE_CONFIG'], paths['CHECKPOINT_PATH'])"
   ]
  },
  {
   "cell_type": "code",
   "execution_count": null,
   "metadata": {
    "colab": {
     "base_uri": "https://localhost:8080/"
    },
    "id": "lYsgEPx9pfDH",
    "outputId": "8632d48b-91d2-45d9-bcb8-c1b172bf6eed"
   },
   "outputs": [],
   "source": [
    "print(command)"
   ]
  },
  {
   "cell_type": "code",
   "execution_count": null,
   "metadata": {
    "id": "lqTV2jGBpfDH",
    "scrolled": true
   },
   "outputs": [],
   "source": [
    "!{command} # fix me"
   ]
  },
  {
   "cell_type": "markdown",
   "metadata": {},
   "source": [
    "# Tensorboard"
   ]
  },
  {
   "cell_type": "code",
   "execution_count": null,
   "metadata": {},
   "outputs": [],
   "source": [
    "!cd {os.path.join(paths['CHECKPOINT_PATH'], 'train')} && tensorboard --logdir=."
   ]
  },
  {
   "cell_type": "markdown",
   "metadata": {},
   "source": [
    "![tensorboard](./tensorboard.csv)"
   ]
  },
  {
   "cell_type": "markdown",
   "metadata": {
    "id": "orvRk02UpfDI"
   },
   "source": [
    "# 8. Load Train Model From Checkpoint"
   ]
  },
  {
   "cell_type": "code",
   "execution_count": null,
   "metadata": {},
   "outputs": [],
   "source": [
    "!pip install tf_slim"
   ]
  },
  {
   "cell_type": "code",
   "execution_count": 31,
   "metadata": {
    "id": "8TYk4_oIpfDI"
   },
   "outputs": [],
   "source": [
    "# \n",
    "import os\n",
    "import tensorflow as tf"
   ]
  },
  {
   "cell_type": "code",
   "execution_count": 32,
   "metadata": {},
   "outputs": [],
   "source": [
    "from object_detection.utils import label_map_util"
   ]
  },
  {
   "cell_type": "code",
   "execution_count": 33,
   "metadata": {},
   "outputs": [],
   "source": [
    "from object_detection.utils import visualization_utils as viz_utils"
   ]
  },
  {
   "cell_type": "code",
   "execution_count": 34,
   "metadata": {
    "scrolled": true
   },
   "outputs": [
    {
     "name": "stderr",
     "output_type": "stream",
     "text": [
      "/home/chanyu/Desktop/gesture_detection_3.8/tfod/lib/python3.8/site-packages/tensorflow_addons-0.18.0-py3.8-linux-x86_64.egg/tensorflow_addons/utils/ensure_tf_install.py:53: UserWarning: Tensorflow Addons supports using Python ops for all Tensorflow versions above or equal to 2.8.0 and strictly below 2.11.0 (nightly versions are not supported). \n",
      " The versions of TensorFlow you are currently using is 2.11.0 and is not supported. \n",
      "Some things might work, some things might not.\n",
      "If you were to encounter a bug, do not file an issue.\n",
      "If you want to make sure you're using a tested and supported configuration, either change the TensorFlow version or the TensorFlow Addons's version. \n",
      "You can find the compatibility matrix in TensorFlow Addon's readme:\n",
      "https://github.com/tensorflow/addons\n",
      "  warnings.warn(\n"
     ]
    }
   ],
   "source": [
    "from object_detection.builders import model_builder # fix me"
   ]
  },
  {
   "cell_type": "code",
   "execution_count": null,
   "metadata": {},
   "outputs": [],
   "source": [
    "# import object_detection.builders"
   ]
  },
  {
   "cell_type": "code",
   "execution_count": null,
   "metadata": {},
   "outputs": [],
   "source": [
    "# !pip install nets"
   ]
  },
  {
   "cell_type": "code",
   "execution_count": 35,
   "metadata": {},
   "outputs": [],
   "source": [
    "from object_detection.utils import config_util"
   ]
  },
  {
   "cell_type": "code",
   "execution_count": null,
   "metadata": {},
   "outputs": [],
   "source": [
    "paths['CHECKPOINT_PATH']"
   ]
  },
  {
   "cell_type": "code",
   "execution_count": 43,
   "metadata": {
    "id": "tDnQg-cYpfDI"
   },
   "outputs": [],
   "source": [
    "# Load pipeline config and build a detection model\n",
    "configs = config_util.get_configs_from_pipeline_file(files['PIPELINE_CONFIG'])\n",
    "detection_model = model_builder.build(model_config=configs['model'], is_training=False)\n",
    "\n",
    "# Restore checkpoint\n",
    "ckpt = tf.compat.v2.train.Checkpoint(model=detection_model)\n",
    "ckpt.restore(os.path.join(paths['CHECKPOINT_PATH'], 'ckpt-4')).expect_partial()\n",
    "\n",
    "@tf.function\n",
    "def detect_fn(image):\n",
    "    image, shapes = detection_model.preprocess(image)\n",
    "    prediction_dict = detection_model.predict(image, shapes)\n",
    "    detections = detection_model.postprocess(prediction_dict, shapes)\n",
    "    return detections"
   ]
  },
  {
   "cell_type": "markdown",
   "metadata": {
    "id": "0EmsmbBZpfDI"
   },
   "source": [
    "# 9. Detect from an Image"
   ]
  },
  {
   "cell_type": "code",
   "execution_count": 37,
   "metadata": {
    "id": "Y_MKiuZ4pfDI"
   },
   "outputs": [],
   "source": [
    "import cv2 \n",
    "import numpy as np\n",
    "from matplotlib import pyplot as plt\n",
    "%matplotlib inline"
   ]
  },
  {
   "cell_type": "code",
   "execution_count": 38,
   "metadata": {
    "id": "cBDbIhNapfDI"
   },
   "outputs": [],
   "source": [
    "category_index = label_map_util.create_category_index_from_labelmap(files['LABELMAP'])"
   ]
  },
  {
   "cell_type": "code",
   "execution_count": 39,
   "metadata": {
    "id": "Lx3crOhOzITB"
   },
   "outputs": [],
   "source": [
    "IMAGE_PATH = os.path.join(paths['IMAGE_PATH'], 'test', 'show_37.jpg')"
   ]
  },
  {
   "cell_type": "code",
   "execution_count": 40,
   "metadata": {
    "colab": {
     "base_uri": "https://localhost:8080/",
     "height": 269
    },
    "collapsed": true,
    "id": "Tpzn1SMry1yK",
    "outputId": "c392a2c5-10fe-4fc4-9998-a1d4c7db2bd3"
   },
   "outputs": [
    {
     "name": "stdout",
     "output_type": "stream",
     "text": [
      "WARNING:tensorflow:From /home/chanyu/Desktop/gesture_detection_3.8/tfod/lib/python3.8/site-packages/tensorflow/python/autograph/pyct/static_analysis/liveness.py:83: Analyzer.lamba_check (from tensorflow.python.autograph.pyct.static_analysis.liveness) is deprecated and will be removed after 2023-09-23.\n",
      "Instructions for updating:\n",
      "Lambda fuctions will be no more assumed to be used in the statement where they are used, or at least in the same block. https://github.com/tensorflow/tensorflow/issues/56089\n"
     ]
    },
    {
     "name": "stderr",
     "output_type": "stream",
     "text": [
      "2022-12-15 12:47:02.329718: I tensorflow/compiler/xla/stream_executor/cuda/cuda_dnn.cc:428] Loaded cuDNN version 8100\n",
      "2022-12-15 12:47:02.696674: W tensorflow/compiler/xla/stream_executor/gpu/asm_compiler.cc:115] *** WARNING *** You are using ptxas 11.0.194, which is older than 11.1. ptxas before 11.1 is known to miscompile XLA code, leading to incorrect results or invalid-address errors.\n",
      "\n",
      "You may not need to update to CUDA 11.1; cherry-picking the ptxas binary is often sufficient.\n"
     ]
    },
    {
     "data": {
      "image/png": "[encoded data removed]",
      "text/plain": [
       "<Figure size 640x480 with 1 Axes>"
      ]
     },
     "metadata": {},
     "output_type": "display_data"
    }
   ],
   "source": [
    "img = cv2.imread(IMAGE_PATH)\n",
    "image_np = np.array(img)\n",
    "\n",
    "input_tensor = tf.convert_to_tensor(np.expand_dims(image_np, 0), dtype=tf.float32)\n",
    "detections = detect_fn(input_tensor)\n",
    "\n",
    "num_detections = int(detections.pop('num_detections'))\n",
    "detections = {key: value[0, :num_detections].numpy()\n",
    "              for key, value in detections.items()}\n",
    "detections['num_detections'] = num_detections\n",
    "\n",
    "# detection_classes should be ints.\n",
    "detections['detection_classes'] = detections['detection_classes'].astype(np.int64)\n",
    "\n",
    "label_id_offset = 1\n",
    "image_np_with_detections = image_np.copy()\n",
    "\n",
    "viz_utils.visualize_boxes_and_labels_on_image_array(\n",
    "            image_np_with_detections,\n",
    "            detections['detection_boxes'],\n",
    "            detections['detection_classes']+label_id_offset,\n",
    "            detections['detection_scores'],\n",
    "            category_index,\n",
    "            use_normalized_coordinates=True,\n",
    "            max_boxes_to_draw=5,\n",
    "            min_score_thresh=.8,\n",
    "            agnostic_mode=False)\n",
    "\n",
    "plt.imshow(cv2.cvtColor(image_np_with_detections, cv2.COLOR_BGR2RGB))\n",
    "plt.show()"
   ]
  },
  {
   "cell_type": "markdown",
   "metadata": {
    "id": "IsNAaYAo0WVL"
   },
   "source": [
    "# 10. Real Time Detections from your Webcam"
   ]
  },
  {
   "cell_type": "code",
   "execution_count": 41,
   "metadata": {
    "collapsed": true
   },
   "outputs": [
    {
     "name": "stdout",
     "output_type": "stream",
     "text": [
      "/bin/bash: /home/chanyu/anaconda3/lib/libtinfo.so.6: no version information available (required by /bin/bash)\n",
      "bash: /home/chanyu/anaconda3/lib/libtinfo.so.6: no version information available (required by bash)\n",
      "bash: /home/chanyu/anaconda3/lib/libtinfo.so.6: no version information available (required by bash)\n",
      "bash: /home/chanyu/anaconda3/lib/libtinfo.so.6: no version information available (required by bash)\n",
      "bash: /home/chanyu/anaconda3/lib/libtinfo.so.6: no version information available (required by bash)\n",
      "bash: /home/chanyu/anaconda3/lib/libtinfo.so.6: no version information available (required by bash)\n",
      "bash: /home/chanyu/anaconda3/lib/libtinfo.so.6: no version information available (required by bash)\n",
      "bash: /home/chanyu/anaconda3/lib/libtinfo.so.6: no version information available (required by bash)\n",
      "bash: /home/chanyu/anaconda3/lib/libtinfo.so.6: no version information available (required by bash)\n",
      "bash: /home/chanyu/anaconda3/lib/libtinfo.so.6: no version information available (required by bash)\n",
      "bash: /home/chanyu/anaconda3/lib/libtinfo.so.6: no version information available (required by bash)\n",
      "bash: /home/chanyu/anaconda3/lib/libtinfo.so.6: no version information available (required by bash)\n",
      "bash: /home/chanyu/anaconda3/lib/libtinfo.so.6: no version information available (required by bash)\n",
      "bash: /home/chanyu/anaconda3/lib/libtinfo.so.6: no version information available (required by bash)\n",
      "Requirement already satisfied: opencv-python-headless in /home/chanyu/.pyenv/versions/3.8.10/lib/python3.8/site-packages (4.5.2.52)\n",
      "Requirement already satisfied: numpy>=1.17.3 in /home/chanyu/.pyenv/versions/3.8.10/lib/python3.8/site-packages (from opencv-python-headless) (1.22.4)\n",
      "\u001b[33mWARNING: You are using pip version 21.1.1; however, version 22.3.1 is available.\n",
      "You should consider upgrading via the '/home/chanyu/.pyenv/versions/3.8.10/bin/python3.8 -m pip install --upgrade pip' command.\u001b[0m\n",
      "bash: /home/chanyu/anaconda3/lib/libtinfo.so.6: no version information available (required by bash)\n",
      "bash: /home/chanyu/anaconda3/lib/libtinfo.so.6: no version information available (required by bash)\n",
      "bash: /home/chanyu/anaconda3/lib/libtinfo.so.6: no version information available (required by bash)\n"
     ]
    }
   ],
   "source": [
    " # !pip install opencv-python-headless"
   ]
  },
  {
   "cell_type": "code",
   "execution_count": 44,
   "metadata": {
    "id": "o_grs6OGpfDJ"
   },
   "outputs": [],
   "source": [
    "cap = cv2.VideoCapture(0)\n",
    "width = int(cap.get(cv2.CAP_PROP_FRAME_WIDTH))\n",
    "height = int(cap.get(cv2.CAP_PROP_FRAME_HEIGHT))\n",
    "\n",
    "while cap.isOpened(): \n",
    "    ret, frame = cap.read()\n",
    "    image_np = np.array(frame)\n",
    "    \n",
    "    input_tensor = tf.convert_to_tensor(np.expand_dims(image_np, 0), dtype=tf.float32)\n",
    "    detections = detect_fn(input_tensor)\n",
    "    \n",
    "    num_detections = int(detections.pop('num_detections'))\n",
    "    detections = {key: value[0, :num_detections].numpy()\n",
    "                  for key, value in detections.items()}\n",
    "    detections['num_detections'] = num_detections\n",
    "\n",
    "    # detection_classes should be ints.\n",
    "    detections['detection_classes'] = detections['detection_classes'].astype(np.int64)\n",
    "\n",
    "    label_id_offset = 1\n",
    "    image_np_with_detections = image_np.copy()\n",
    "\n",
    "    viz_utils.visualize_boxes_and_labels_on_image_array(\n",
    "                image_np_with_detections,\n",
    "                detections['detection_boxes'],\n",
    "                detections['detection_classes']+label_id_offset,\n",
    "                detections['detection_scores'],\n",
    "                category_index,\n",
    "                use_normalized_coordinates=True,\n",
    "                max_boxes_to_draw=5,\n",
    "                min_score_thresh=.8,\n",
    "                agnostic_mode=False)\n",
    "\n",
    "    cv2.imshow('object detection',  cv2.resize(image_np_with_detections, (800, 600)))\n",
    "    \n",
    "    if cv2.waitKey(10) & 0xFF == ord('q'):\n",
    "        cap.release()\n",
    "        cv2.destroyAllWindows()\n",
    "        break"
   ]
  },
  {
   "cell_type": "markdown",
   "metadata": {
    "id": "rzlM4jt0pfDJ"
   },
   "source": [
    "# 10. Freezing the Graph"
   ]
  },
  {
   "cell_type": "code",
   "execution_count": null,
   "metadata": {
    "id": "n4olHB2npfDJ"
   },
   "outputs": [],
   "source": [
    "FREEZE_SCRIPT = os.path.join(paths['APIMODEL_PATH'], 'research', 'object_detection', 'exporter_main_v2.py ')"
   ]
  },
  {
   "cell_type": "code",
   "execution_count": null,
   "metadata": {
    "id": "0AjO93QDpfDJ"
   },
   "outputs": [],
   "source": [
    "command = \"python {} --input_type=image_tensor --pipeline_config_path={} --trained_checkpoint_dir={} --output_directory={}\".format(FREEZE_SCRIPT ,files['PIPELINE_CONFIG'], paths['CHECKPOINT_PATH'], paths['OUTPUT_PATH'])"
   ]
  },
  {
   "cell_type": "code",
   "execution_count": null,
   "metadata": {
    "colab": {
     "base_uri": "https://localhost:8080/"
    },
    "id": "F6Lsp3tCpfDJ",
    "outputId": "c3828529-bf06-4df5-d7f3-145890ec3edd"
   },
   "outputs": [],
   "source": [
    "print(command)"
   ]
  },
  {
   "cell_type": "code",
   "execution_count": null,
   "metadata": {
    "colab": {
     "base_uri": "https://localhost:8080/"
    },
    "id": "1Sw1ULgHpfDJ",
    "outputId": "6fd441e1-9fc9-4889-d072-3395c21e40b6"
   },
   "outputs": [],
   "source": [
    "!{command}"
   ]
  },
  {
   "cell_type": "markdown",
   "metadata": {
    "id": "wTPmdqaXpfDK"
   },
   "source": [
    "# 11. Conversion to TFJS"
   ]
  },
  {
   "cell_type": "code",
   "execution_count": null,
   "metadata": {
    "colab": {
     "base_uri": "https://localhost:8080/"
    },
    "id": "gZ6UzY_fpfDK",
    "outputId": "0c84722e-1c2b-4002-d857-80827ade828a",
    "scrolled": true
   },
   "outputs": [],
   "source": [
    "!pip install tensorflowjs"
   ]
  },
  {
   "cell_type": "code",
   "execution_count": null,
   "metadata": {
    "id": "0oxbVynHpfDK"
   },
   "outputs": [],
   "source": [
    "command = \"tensorflowjs_converter --input_format=tf_saved_model --output_node_names='detection_boxes,detection_classes,detection_features,detection_multiclass_scores,detection_scores,num_detections,raw_detection_boxes,raw_detection_scores' --output_format=tfjs_graph_model --signature_name=serving_default {} {}\".format(os.path.join(paths['OUTPUT_PATH'], 'saved_model'), paths['TFJS_PATH'])"
   ]
  },
  {
   "cell_type": "code",
   "execution_count": null,
   "metadata": {
    "colab": {
     "base_uri": "https://localhost:8080/"
    },
    "id": "DB2AGNmJpfDK",
    "outputId": "fbc9f747-f511-47e8-df8f-5ea65cef0374"
   },
   "outputs": [],
   "source": [
    "print(command)"
   ]
  },
  {
   "cell_type": "code",
   "execution_count": null,
   "metadata": {
    "colab": {
     "base_uri": "https://localhost:8080/"
    },
    "id": "K7rfT4-hpfDK",
    "outputId": "532707fd-6feb-4bc6-84a3-325b5d16303c"
   },
   "outputs": [],
   "source": [
    "!{command}"
   ]
  },
  {
   "cell_type": "code",
   "execution_count": null,
   "metadata": {
    "id": "o8_hm-itpfDK"
   },
   "outputs": [],
   "source": [
    "# Test Code: https://github.com/nicknochnack/RealTimeSignLanguageDetectionwithTFJS"
   ]
  },
  {
   "cell_type": "markdown",
   "metadata": {
    "id": "VtUw73FHpfDK"
   },
   "source": [
    "# 12. Conversion to TFLite"
   ]
  },
  {
   "cell_type": "code",
   "execution_count": null,
   "metadata": {
    "id": "XviMtewLpfDK"
   },
   "outputs": [],
   "source": [
    "TFLITE_SCRIPT = os.path.join(paths['APIMODEL_PATH'], 'research', 'object_detection', 'export_tflite_graph_tf2.py ')"
   ]
  },
  {
   "cell_type": "code",
   "execution_count": null,
   "metadata": {
    "id": "us86cjC4pfDL"
   },
   "outputs": [],
   "source": [
    "command = \"python {} --pipeline_config_path={} --trained_checkpoint_dir={} --output_directory={}\".format(TFLITE_SCRIPT ,files['PIPELINE_CONFIG'], paths['CHECKPOINT_PATH'], paths['TFLITE_PATH'])"
   ]
  },
  {
   "cell_type": "code",
   "execution_count": null,
   "metadata": {
    "colab": {
     "base_uri": "https://localhost:8080/"
    },
    "id": "n1r5YO3rpfDL",
    "outputId": "5fcdf7a4-eee2-4365-f1ca-1751968379ea"
   },
   "outputs": [],
   "source": [
    "print(command)"
   ]
  },
  {
   "cell_type": "code",
   "execution_count": null,
   "metadata": {
    "colab": {
     "base_uri": "https://localhost:8080/"
    },
    "id": "I-xWpHN8pfDL",
    "outputId": "7f6bacd8-d077-43b5-c131-5b081fba24a4"
   },
   "outputs": [],
   "source": [
    "!{command}"
   ]
  },
  {
   "cell_type": "code",
   "execution_count": null,
   "metadata": {
    "id": "iJfYMbN6pfDL"
   },
   "outputs": [],
   "source": [
    "FROZEN_TFLITE_PATH = os.path.join(paths['TFLITE_PATH'], 'saved_model')\n",
    "TFLITE_MODEL = os.path.join(paths['TFLITE_PATH'], 'saved_model', 'detect.tflite')"
   ]
  },
  {
   "cell_type": "code",
   "execution_count": null,
   "metadata": {},
   "outputs": [],
   "source": [
    "command = \"tflite_convert \\\n",
    "--saved_model_dir={} \\\n",
    "--output_file={} \\\n",
    "--input_shapes=1,300,300,3 \\\n",
    "--input_arrays=normalized_input_image_tensor \\\n",
    "--output_arrays='TFLite_Detection_PostProcess','TFLite_Detection_PostProcess:1','TFLite_Detection_PostProcess:2','TFLite_Detection_PostProcess:3' \\\n",
    "--inference_type=FLOAT \\\n",
    "--allow_custom_ops\".format(FROZEN_TFLITE_PATH, TFLITE_MODEL, )"
   ]
  },
  {
   "cell_type": "code",
   "execution_count": null,
   "metadata": {
    "colab": {
     "base_uri": "https://localhost:8080/"
    },
    "id": "E8GwUeoFpfDL",
    "outputId": "fac43ea4-cc85-471b-a362-e994b06fd583"
   },
   "outputs": [],
   "source": [
    "print(command)"
   ]
  },
  {
   "cell_type": "code",
   "execution_count": null,
   "metadata": {
    "colab": {
     "base_uri": "https://localhost:8080/"
    },
    "id": "Nbd7gqHMpfDL",
    "outputId": "7c8fe6d5-2415-4641-8548-39d425c202f7"
   },
   "outputs": [],
   "source": [
    "!{command}"
   ]
  },
  {
   "cell_type": "markdown",
   "metadata": {
    "id": "5NQqZRdA21Uc"
   },
   "source": [
    "# 13. Zip and Export Models "
   ]
  },
  {
   "cell_type": "code",
   "execution_count": null,
   "metadata": {
    "id": "tTVTGCQp2ZJJ"
   },
   "outputs": [],
   "source": [
    "!tar -czf models.tar.gz {paths['CHECKPOINT_PATH']}"
   ]
  },
  {
   "cell_type": "code",
   "execution_count": null,
   "metadata": {
    "colab": {
     "base_uri": "https://localhost:8080/"
    },
    "id": "whShhB0x3PYJ",
    "outputId": "b773201d-35c9-46a8-b893-4a76bd4d5d97"
   },
   "outputs": [],
   "source": [
    "from google.colab import drive\n",
    "drive.mount('/content/drive')"
   ]
  }
 ],
 "metadata": {
  "accelerator": "GPU",
  "colab": {
   "name": "3. Training and Detection.ipynb",
   "provenance": []
  },
  "kernelspec": {
   "display_name": "tfod_3.8",
   "language": "python",
   "name": "tfod_3.8"
  },
  "language_info": {
   "codemirror_mode": {
    "name": "ipython",
    "version": 3
   },
   "file_extension": ".py",
   "mimetype": "text/x-python",
   "name": "python",
   "nbconvert_exporter": "python",
   "pygments_lexer": "ipython3",
   "version": "3.8.10"
  }
 },
 "nbformat": 4,
 "nbformat_minor": 1
}
