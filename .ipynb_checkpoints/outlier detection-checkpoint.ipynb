{
 "cells": [
  {
   "cell_type": "code",
   "execution_count": null,
   "id": "8c47bfb8",
   "metadata": {},
   "outputs": [],
   "source": [
    "using CSV\n",
    "using DataFrames \n",
    "using Pipe\n",
    "using OutlierDetection"
   ]
  },
  {
   "cell_type": "code",
   "execution_count": null,
   "id": "cb896a30",
   "metadata": {},
   "outputs": [],
   "source": [
    "ls_loc = \"../dataset/dataset/last_year/\"\n",
    "ls_tp = CSV.File(ls_loc*\"LastYear_tp.csv\") |> DataFrame\n",
    "ls_ks = CSV.File(ls_loc*\"LastYear_ks.csv\") |> DataFrame\n",
    "ls_nt = CSV.File(ls_loc*\"LastYear_nt.csv\") |> DataFrame\n",
    "ls_tc = CSV.File(ls_loc*\"LastYear_tc.csv\") |> DataFrame\n",
    "ls_tn = CSV.File(ls_loc*\"LastYear_tn.csv\") |> DataFrame\n",
    "ls_ty = CSV.File(ls_loc*\"LastYear_ty.csv\") |> DataFrame\n",
    "println(\"\")"
   ]
  }
 ],
 "metadata": {
  "kernelspec": {
   "display_name": "Julia 1.7.2",
   "language": "julia",
   "name": "julia-1.7"
  },
  "language_info": {
   "file_extension": ".jl",
   "mimetype": "application/julia",
   "name": "julia",
   "version": "1.7.2"
  }
 },
 "nbformat": 4,
 "nbformat_minor": 5
}
