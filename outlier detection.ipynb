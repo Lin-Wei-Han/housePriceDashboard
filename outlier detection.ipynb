{
 "cells": [
  {
   "cell_type": "code",
   "execution_count": null,
   "id": "8c47bfb8",
   "metadata": {},
   "outputs": [],
   "source": [
    "using CSV\n",
    "using DataFrames \n",
    "using Pipe"
   ]
  },
  {
   "cell_type": "code",
   "execution_count": null,
   "id": "f34c092f",
   "metadata": {},
   "outputs": [],
   "source": [
    "using MLJ\n",
    "using OutlierDetection\n",
    "using OutlierDetectionNeighbors: KNNDetector\n",
    "using OutlierDetectionData: ODDS"
   ]
  },
  {
   "cell_type": "code",
   "execution_count": null,
   "id": "f88092f4",
   "metadata": {},
   "outputs": [],
   "source": [
    "ENV[\"LINES\"], ENV[\"COLUMNS\"] = 15, 200"
   ]
  },
  {
   "cell_type": "code",
   "execution_count": 77,
   "id": "cb896a30",
   "metadata": {},
   "outputs": [
    {
     "data": {
      "text/plain": [
       "\"../dataset/dataset/last_year/\""
      ]
     },
     "execution_count": 77,
     "metadata": {},
     "output_type": "execute_result"
    }
   ],
   "source": [
    "ls_loc = \"../dataset/dataset/last_year/\""
   ]
  },
  {
   "cell_type": "code",
   "execution_count": 109,
   "id": "6aa34790",
   "metadata": {},
   "outputs": [
    {
     "name": "stdout",
     "output_type": "stream",
     "text": [
      "\n"
     ]
    }
   ],
   "source": [
    "exc = [\"Column1\", \"土地位置建物門牌\", \"編號\", \"非都市土地使用分區\", \"非都市土地使用編定\", \n",
    "    \"交易年月日\", \"建築完成年月\", \"備註\", \"移轉編號\", \"period\"]\n",
    "println(\"\")"
   ]
  },
  {
   "cell_type": "code",
   "execution_count": 113,
   "id": "8072c9d5",
   "metadata": {},
   "outputs": [
    {
     "name": "stdout",
     "output_type": "stream",
     "text": [
      "\n"
     ]
    }
   ],
   "source": [
    "ls_tp = @pipe CSV.File(ls_loc*\"LastYear_tp.csv\") |> \n",
    "    DataFrame |>\n",
    "    select(_, Not(exc))\n",
    "println(\"\")"
   ]
  },
  {
   "cell_type": "code",
   "execution_count": 114,
   "id": "59940676",
   "metadata": {},
   "outputs": [
    {
     "name": "stdout",
     "output_type": "stream",
     "text": [
      "\n"
     ]
    }
   ],
   "source": [
    "ls_ks = @pipe CSV.File(ls_loc*\"LastYear_ks.csv\") |> \n",
    "    DataFrame |>\n",
    "    select(_, Not(exc))\n",
    "println(\"\")"
   ]
  },
  {
   "cell_type": "code",
   "execution_count": 115,
   "id": "adfec2f3",
   "metadata": {},
   "outputs": [
    {
     "name": "stdout",
     "output_type": "stream",
     "text": [
      "\n"
     ]
    }
   ],
   "source": [
    "ls_nt = @pipe CSV.File(ls_loc*\"LastYear_nt.csv\")  |> \n",
    "    DataFrame |>\n",
    "    select(_, Not(exc))\n",
    "println(\"\")"
   ]
  },
  {
   "cell_type": "code",
   "execution_count": 116,
   "id": "c52d6f09",
   "metadata": {},
   "outputs": [
    {
     "name": "stdout",
     "output_type": "stream",
     "text": [
      "\n"
     ]
    }
   ],
   "source": [
    "ls_tc = @pipe CSV.File(ls_loc*\"LastYear_tc.csv\") |> \n",
    "    DataFrame |>\n",
    "    select(_, Not(exc))\n",
    "println(\"\")"
   ]
  },
  {
   "cell_type": "code",
   "execution_count": 117,
   "id": "e1a9bffe",
   "metadata": {},
   "outputs": [
    {
     "name": "stdout",
     "output_type": "stream",
     "text": [
      "\n"
     ]
    }
   ],
   "source": [
    "ls_tn = @pipe CSV.File(ls_loc*\"LastYear_tn.csv\")  |> \n",
    "    DataFrame |>\n",
    "    select(_, Not(exc))\n",
    "println(\"\")"
   ]
  },
  {
   "cell_type": "code",
   "execution_count": 118,
   "id": "999faf78",
   "metadata": {},
   "outputs": [
    {
     "name": "stdout",
     "output_type": "stream",
     "text": [
      "\n"
     ]
    }
   ],
   "source": [
    "ls_ty = @pipe CSV.File(ls_loc*\"LastYear_ty.csv\") |> \n",
    "    DataFrame |>\n",
    "    select(_, Not(exc))\n",
    "println(\"\")"
   ]
  },
  {
   "cell_type": "code",
   "execution_count": null,
   "id": "81b67349",
   "metadata": {},
   "outputs": [],
   "source": []
  }
 ],
 "metadata": {
  "kernelspec": {
   "display_name": "Julia 1.7.2",
   "language": "julia",
   "name": "julia-1.7"
  },
  "language_info": {
   "file_extension": ".jl",
   "mimetype": "application/julia",
   "name": "julia",
   "version": "1.7.2"
  }
 },
 "nbformat": 4,
 "nbformat_minor": 5
}
