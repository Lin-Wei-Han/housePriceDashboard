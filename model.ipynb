{
 "cells": [
  {
   "cell_type": "code",
   "execution_count": 57,
   "id": "8c47bfb8",
   "metadata": {},
   "outputs": [],
   "source": [
    "using CSV\n",
    "using DataFrames\n",
    "using Pipe\n",
    "using Statistics\n",
    "using LinearAlgebra\n",
    "using RCall"
   ]
  },
  {
   "cell_type": "code",
   "execution_count": 58,
   "id": "f34c092f",
   "metadata": {},
   "outputs": [],
   "source": [
    "using MLJ\n",
    "using StatsBase"
   ]
  },
  {
   "cell_type": "code",
   "execution_count": 59,
   "id": "f88092f4",
   "metadata": {},
   "outputs": [
    {
     "data": {
      "text/plain": [
       "(10, 200)"
      ]
     },
     "execution_count": 59,
     "metadata": {},
     "output_type": "execute_result"
    }
   ],
   "source": [
    "ENV[\"LINES\"], ENV[\"COLUMNS\"] = 10, 200"
   ]
  },
  {
   "cell_type": "code",
   "execution_count": 42,
   "id": "a62e3fd0",
   "metadata": {},
   "outputs": [
    {
     "data": {
      "text/plain": [
       "false"
      ]
     },
     "execution_count": 42,
     "metadata": {},
     "output_type": "execute_result"
    }
   ],
   "source": [
    "ENV[\"JULIA_GR_REBUILD\"] = false"
   ]
  },
  {
   "cell_type": "code",
   "execution_count": 60,
   "id": "cb896a30",
   "metadata": {
    "scrolled": true
   },
   "outputs": [
    {
     "data": {
      "text/plain": [
       "\"../dataset/dataset/last_year/\""
      ]
     },
     "execution_count": 60,
     "metadata": {},
     "output_type": "execute_result"
    }
   ],
   "source": [
    "ls_loc = \"../dataset/dataset/last_year/\""
   ]
  },
  {
   "cell_type": "code",
   "execution_count": 61,
   "id": "6aa34790",
   "metadata": {},
   "outputs": [],
   "source": [
    "exc = [\"Column1\", \"土地位置建物門牌\", \"編號\", \"非都市土地使用分區\", \"非都市土地使用編定\", \n",
    "    \"都市土地使用分區\", \"交易筆棟數\", \"交易年月日\", \"建築完成年月\", \"備註\", \"移轉編號\", \"period\"]\n",
    "return "
   ]
  },
  {
   "cell_type": "code",
   "execution_count": 74,
   "id": "8072c9d5",
   "metadata": {},
   "outputs": [],
   "source": [
    "ls_tp = @pipe CSV.File(ls_loc*\"LastYear_tp.csv\") |> \n",
    "    DataFrame |>\n",
    "    DataFrames.select(_, Not(exc)) |>\n",
    "    rename(_,\n",
    "    :\"建物現況格局.房\" => :建物現況格局_房,\n",
    "    :\"建物現況格局.廳\" => :建物現況格局_廳,\n",
    "    :\"建物現況格局.衛\" => :建物現況格局_衛,\n",
    "    :\"建物現況格局.隔間\" => :建物現況格局_隔間,\n",
    "    :\"車位移轉總面積.平方公尺.\" => :車位移轉總面積_平方公尺\n",
    "    )\n",
    "ls_tp[!, :city] .= \"tp\"\n",
    "return "
   ]
  },
  {
   "cell_type": "code",
   "execution_count": 75,
   "id": "59940676",
   "metadata": {},
   "outputs": [],
   "source": [
    "ls_ks = @pipe CSV.File(ls_loc*\"LastYear_ks.csv\") |> \n",
    "    DataFrame |>\n",
    "    DataFrames.select(_, Not(exc)) |>\n",
    "    rename(_,\n",
    "    :\"建物現況格局.房\" => :建物現況格局_房,\n",
    "    :\"建物現況格局.廳\" => :建物現況格局_廳,\n",
    "    :\"建物現況格局.衛\" => :建物現況格局_衛,\n",
    "    :\"建物現況格局.隔間\" => :建物現況格局_隔間,\n",
    "    :\"車位移轉總面積.平方公尺.\" => :車位移轉總面積_平方公尺\n",
    "    )\n",
    "ls_ks[!, :city] .= \"ks\"\n",
    "return "
   ]
  },
  {
   "cell_type": "code",
   "execution_count": 77,
   "id": "adfec2f3",
   "metadata": {},
   "outputs": [],
   "source": [
    "ls_nt = @pipe CSV.File(ls_loc*\"LastYear_nt.csv\")  |> \n",
    "    DataFrame |>\n",
    "    DataFrames.select(_, Not(exc)) |>\n",
    "    rename(_,\n",
    "    :\"建物現況格局.房\" => :建物現況格局_房,\n",
    "    :\"建物現況格局.廳\" => :建物現況格局_廳,\n",
    "    :\"建物現況格局.衛\" => :建物現況格局_衛,\n",
    "    :\"建物現況格局.隔間\" => :建物現況格局_隔間,\n",
    "    :\"車位移轉總面積.平方公尺.\" => :車位移轉總面積_平方公尺\n",
    "    )\n",
    "ls_nt[!, :city] .= \"nt\"\n",
    "return "
   ]
  },
  {
   "cell_type": "code",
   "execution_count": 78,
   "id": "c52d6f09",
   "metadata": {},
   "outputs": [],
   "source": [
    "ls_tc = @pipe CSV.File(ls_loc*\"LastYear_tc.csv\") |> \n",
    "    DataFrame |>\n",
    "    DataFrames.select(_, Not(exc)) |>\n",
    "    rename(_,\n",
    "    :\"建物現況格局.房\" => :建物現況格局_房,\n",
    "    :\"建物現況格局.廳\" => :建物現況格局_廳,\n",
    "    :\"建物現況格局.衛\" => :建物現況格局_衛,\n",
    "    :\"建物現況格局.隔間\" => :建物現況格局_隔間,\n",
    "    :\"車位移轉總面積.平方公尺.\" => :車位移轉總面積_平方公尺\n",
    "    )\n",
    "ls_tc[!, :city] .= \"tc\"\n",
    "return "
   ]
  },
  {
   "cell_type": "code",
   "execution_count": 79,
   "id": "e1a9bffe",
   "metadata": {},
   "outputs": [],
   "source": [
    "ls_tn = @pipe CSV.File(ls_loc*\"LastYear_tn.csv\")  |> \n",
    "    DataFrame |>\n",
    "    DataFrames.select(_, Not(exc)) |>\n",
    "    rename(_,\n",
    "    :\"建物現況格局.房\" => :建物現況格局_房,\n",
    "    :\"建物現況格局.廳\" => :建物現況格局_廳,\n",
    "    :\"建物現況格局.衛\" => :建物現況格局_衛,\n",
    "    :\"建物現況格局.隔間\" => :建物現況格局_隔間,\n",
    "    :\"車位移轉總面積.平方公尺.\" => :車位移轉總面積_平方公尺\n",
    "    )\n",
    "ls_tn[!, :city] .= \"tn\"\n",
    "return "
   ]
  },
  {
   "cell_type": "code",
   "execution_count": 80,
   "id": "999faf78",
   "metadata": {},
   "outputs": [],
   "source": [
    "ls_ty = @pipe CSV.File(ls_loc*\"LastYear_ty.csv\") |> \n",
    "    DataFrame |>\n",
    "    DataFrames.select(_, Not(exc)) |>\n",
    "    rename(_,\n",
    "    :\"建物現況格局.房\" => :建物現況格局_房,\n",
    "    :\"建物現況格局.廳\" => :建物現況格局_廳,\n",
    "    :\"建物現況格局.衛\" => :建物現況格局_衛,\n",
    "    :\"建物現況格局.隔間\" => :建物現況格局_隔間,\n",
    "    :\"車位移轉總面積.平方公尺.\" => :車位移轉總面積_平方公尺\n",
    "    )\n",
    "ls_ty[!, :city] .= \"ty\"\n",
    "return "
   ]
  },
  {
   "cell_type": "code",
   "execution_count": 68,
   "id": "62a96b19",
   "metadata": {},
   "outputs": [],
   "source": [
    "# CSV.write(\"./ls_tp.csv\", ls_tp)\n",
    "# CSV.write(\"./ls_ks.csv\", ls_ks)\n",
    "# CSV.write(\"./ls_nt.csv\", ls_nt)\n",
    "# CSV.write(\"./ls_tc.csv\", ls_tc)\n",
    "# CSV.write(\"./ls_tn.csv\", ls_tn)\n",
    "# CSV.write(\"./ls_ty.csv\", ls_ty)"
   ]
  },
  {
   "cell_type": "code",
   "execution_count": 69,
   "id": "f43de979",
   "metadata": {},
   "outputs": [
    {
     "data": {
      "text/plain": [
       "prob (generic function with 1 method)"
      ]
     },
     "execution_count": 69,
     "metadata": {},
     "output_type": "execute_result"
    }
   ],
   "source": [
    "function prob(x, df)\n",
    "    nrow(x) / sum(nrow(df))\n",
    "end"
   ]
  },
  {
   "cell_type": "code",
   "execution_count": 14,
   "id": "3a8b4f94",
   "metadata": {},
   "outputs": [
    {
     "data": {
      "text/plain": [
       "cate_table (generic function with 1 method)"
      ]
     },
     "execution_count": 14,
     "metadata": {},
     "output_type": "execute_result"
    }
   ],
   "source": [
    "# create the \"table\" function in r\n",
    "function cate_table(df)\n",
    "    # find cate var\n",
    "    int =  [eltype.(eachcol(df)) .== Int] + \n",
    "        [eltype.(eachcol(df)) .== Union{Missing, Int}]\n",
    "    flo = [eltype.(eachcol(df)) .== Float64] \n",
    "    num_var = Bool.((int + flo)[1])\n",
    "    cat_var = .!num_var\n",
    "    cat_df = df[:, cat_var]\n",
    "    for i in 1:length(names(cat_df))\n",
    "        var = names(cat_df)[i]\n",
    "        tdf = @pipe groupby(cat_df, var) |>\n",
    "            combine(_, nrow)\n",
    "        total = sum(tdf[:, 2])\n",
    "        @pipe tdf |>\n",
    "            transform!(_, :nrow => x -> x / total * 100) |>\n",
    "            rename!(_, [:nrow, :nrow_function] .=> [:n, :prob])\n",
    "        @show tdf\n",
    "    end\n",
    "    println(\"-----------------------\")\n",
    "end"
   ]
  },
  {
   "cell_type": "code",
   "execution_count": 15,
   "id": "6cbf0f84",
   "metadata": {},
   "outputs": [],
   "source": [
    "# @show cate_table(ls_tp)\n",
    "# @show cate_table(ls_ks)\n",
    "# @show cate_table(ls_nt)\n",
    "# @show cate_table(ls_tc)\n",
    "# @show cate_table(ls_tn)\n",
    "# @show cate_table(ls_ty)"
   ]
  },
  {
   "cell_type": "code",
   "execution_count": 15,
   "id": "82252de4",
   "metadata": {},
   "outputs": [
    {
     "data": {
      "text/plain": [
       "splitdf (generic function with 1 method)"
      ]
     },
     "execution_count": 15,
     "metadata": {},
     "output_type": "execute_result"
    }
   ],
   "source": [
    "function splitdf(df, pct)\n",
    "    @assert 0 <= pct <= 1\n",
    "    ids = collect(axes(df, 1))\n",
    "    MLJ.shuffle!(ids)\n",
    "    sel = ids .<= nrow(df) .* pct\n",
    "    train = df[sel, :]\n",
    "    test = df[.!sel, :]\n",
    "    return train, test\n",
    "end"
   ]
  },
  {
   "cell_type": "code",
   "execution_count": 17,
   "id": "2fe0992f",
   "metadata": {},
   "outputs": [],
   "source": [
    "train_tp, test_tp = splitdf(ls_tp, 0.7)\n",
    "train_ks, test_ks = splitdf(ls_ks, 0.7)\n",
    "train_nt, test_nt = splitdf(ls_nt, 0.7)\n",
    "train_tc, test_tc = splitdf(ls_tc, 0.7)\n",
    "train_tn, test_tn = splitdf(ls_tn, 0.7)\n",
    "train_ty, test_ty = splitdf(ls_ty, 0.7)\n",
    "return "
   ]
  },
  {
   "cell_type": "code",
   "execution_count": 12,
   "id": "f0e1e8ce",
   "metadata": {},
   "outputs": [
    {
     "data": {
      "text/plain": [
       "type_split (generic function with 1 method)"
      ]
     },
     "execution_count": 12,
     "metadata": {},
     "output_type": "execute_result"
    }
   ],
   "source": [
    "function type_split(df::DataFrame)\n",
    "    int =  [eltype.(eachcol(df)) .== Int] + \n",
    "           [eltype.(eachcol(df)) .== Union{Missing, Int}]\n",
    "    flo = [eltype.(eachcol(df)) .== Float64] \n",
    "    num_var = Bool.((int + flo)[1])\n",
    "    return df[:, num_var], df[:, .!num_var]\n",
    "end"
   ]
  },
  {
   "cell_type": "code",
   "execution_count": 81,
   "id": "2ab15149",
   "metadata": {},
   "outputs": [],
   "source": [
    "cont_tp, cate_tp = type_split(ls_tp)\n",
    "cont_ks, cate_ks = type_split(ls_ks)\n",
    "cont_nt, cate_nt = type_split(ls_nt)\n",
    "cont_tc, cate_tc = type_split(ls_tc)\n",
    "cont_tn, cate_tn = type_split(ls_tn)\n",
    "cont_ty, cate_ty = type_split(ls_ty)\n",
    "return "
   ]
  },
  {
   "cell_type": "markdown",
   "id": "f8e5f64e",
   "metadata": {},
   "source": [
    "### Imputation "
   ]
  },
  {
   "cell_type": "code",
   "execution_count": null,
   "id": "e583051a",
   "metadata": {},
   "outputs": [],
   "source": [
    "using Impute"
   ]
  },
  {
   "cell_type": "code",
   "execution_count": null,
   "id": "5de8648f",
   "metadata": {},
   "outputs": [],
   "source": [
    "cate_df = [cate_tp; cate_ks; cate_nt; cate_tc; cate_ty; cate_tn]\n",
    "return "
   ]
  },
  {
   "cell_type": "code",
   "execution_count": null,
   "id": "55bef6a7",
   "metadata": {},
   "outputs": [],
   "source": [
    "cont_df = [cont_tp; cont_ks; cont_nt; cont_tc; cont_ty; cont_tn] \n",
    "cont_mat = Matrix(cont_df)"
   ]
  },
  {
   "cell_type": "code",
   "execution_count": null,
   "id": "b7bd9740",
   "metadata": {},
   "outputs": [],
   "source": [
    "colnames = names(cont_df)"
   ]
  },
  {
   "cell_type": "code",
   "execution_count": null,
   "id": "ff3a4051",
   "metadata": {},
   "outputs": [],
   "source": [
    "cont_knn = Impute.knn(cont_mat, k = 5)\n",
    "cont_knndf = DataFrame(cont_knn, :auto)\n",
    "rename!(cont_knndf, colnames)"
   ]
  },
  {
   "cell_type": "code",
   "execution_count": null,
   "id": "3017eb78",
   "metadata": {},
   "outputs": [],
   "source": [
    "df_knn = hcat(cont_knndf, cate_df)\n",
    "return "
   ]
  },
  {
   "cell_type": "markdown",
   "id": "0bafd3d8",
   "metadata": {},
   "source": [
    "### Finding outliers"
   ]
  },
  {
   "cell_type": "code",
   "execution_count": 40,
   "id": "8150cb76",
   "metadata": {
    "collapsed": true
   },
   "outputs": [
    {
     "name": "stderr",
     "output_type": "stream",
     "text": [
      "┌ Info: Precompiling LinRegOutliers [6d4de0fb-32d9-4c65-aac1-cc9ed8b94b1a]\n",
      "└ @ Base loading.jl:1662\n",
      "\u001b[91m\u001b[1mERROR: \u001b[22m\u001b[39mLoadError: InitError: UndefVarError: GR_jll not defined\n",
      "Stacktrace:\n",
      "  [1] \u001b[0m\u001b[1m__init__\u001b[22m\u001b[0m\u001b[1m(\u001b[22m\u001b[0m\u001b[1m)\u001b[22m\n",
      "\u001b[90m    @ \u001b[39m\u001b[35mGR.GRPreferences\u001b[39m \u001b[90m~/.julia/packages/GR/nh8fF/src/\u001b[39m\u001b[90m\u001b[4mpreferences.jl:50\u001b[24m\u001b[39m\n",
      "  [2] \u001b[0m\u001b[1m_include_from_serialized\u001b[22m\u001b[0m\u001b[1m(\u001b[22m\u001b[90mpkg\u001b[39m::\u001b[0mBase.PkgId, \u001b[90mpath\u001b[39m::\u001b[0mString, \u001b[90mdepmods\u001b[39m::\u001b[0mVector\u001b[90m{Any}\u001b[39m\u001b[0m\u001b[1m)\u001b[22m\n",
      "\u001b[90m    @ \u001b[39m\u001b[90mBase\u001b[39m \u001b[90m./\u001b[39m\u001b[90m\u001b[4mloading.jl:831\u001b[24m\u001b[39m\n",
      "  [3] \u001b[0m\u001b[1m_require_search_from_serialized\u001b[22m\u001b[0m\u001b[1m(\u001b[22m\u001b[90mpkg\u001b[39m::\u001b[0mBase.PkgId, \u001b[90msourcepath\u001b[39m::\u001b[0mString, \u001b[90mbuild_id\u001b[39m::\u001b[0mUInt64\u001b[0m\u001b[1m)\u001b[22m\n",
      "\u001b[90m    @ \u001b[39m\u001b[90mBase\u001b[39m \u001b[90m./\u001b[39m\u001b[90m\u001b[4mloading.jl:1039\u001b[24m\u001b[39m\n",
      "  [4] \u001b[0m\u001b[1m_require\u001b[22m\u001b[0m\u001b[1m(\u001b[22m\u001b[90mpkg\u001b[39m::\u001b[0mBase.PkgId\u001b[0m\u001b[1m)\u001b[22m\n",
      "\u001b[90m    @ \u001b[39m\u001b[90mBase\u001b[39m \u001b[90m./\u001b[39m\u001b[90m\u001b[4mloading.jl:1315\u001b[24m\u001b[39m\n",
      "  [5] \u001b[0m\u001b[1m_require_prelocked\u001b[22m\u001b[0m\u001b[1m(\u001b[22m\u001b[90muuidkey\u001b[39m::\u001b[0mBase.PkgId\u001b[0m\u001b[1m)\u001b[22m\n",
      "\u001b[90m    @ \u001b[39m\u001b[90mBase\u001b[39m \u001b[90m./\u001b[39m\u001b[90m\u001b[4mloading.jl:1200\u001b[24m\u001b[39m\n",
      "  [6] \u001b[0m\u001b[1mmacro expansion\u001b[22m\n",
      "\u001b[90m    @ \u001b[39m\u001b[90m./\u001b[39m\u001b[90m\u001b[4mloading.jl:1180\u001b[24m\u001b[39m\u001b[90m [inlined]\u001b[39m\n",
      "  [7] \u001b[0m\u001b[1mmacro expansion\u001b[22m\n",
      "\u001b[90m    @ \u001b[39m\u001b[90m./\u001b[39m\u001b[90m\u001b[4mlock.jl:223\u001b[24m\u001b[39m\u001b[90m [inlined]\u001b[39m\n",
      "  [8] \u001b[0m\u001b[1mrequire\u001b[22m\u001b[0m\u001b[1m(\u001b[22m\u001b[90minto\u001b[39m::\u001b[0mModule, \u001b[90mmod\u001b[39m::\u001b[0mSymbol\u001b[0m\u001b[1m)\u001b[22m\n",
      "\u001b[90m    @ \u001b[39m\u001b[90mBase\u001b[39m \u001b[90m./\u001b[39m\u001b[90m\u001b[4mloading.jl:1144\u001b[24m\u001b[39m\n",
      "  [9] top-level scope\n",
      "\u001b[90m    @ \u001b[39m\u001b[90m~/.julia/packages/Plots/Hxe7H/src/\u001b[39m\u001b[90m\u001b[4mbackends.jl:395\u001b[24m\u001b[39m\n",
      " [10] \u001b[0m\u001b[1meval\u001b[22m\n",
      "\u001b[90m    @ \u001b[39m\u001b[90m./\u001b[39m\u001b[90m\u001b[4mboot.jl:368\u001b[24m\u001b[39m\u001b[90m [inlined]\u001b[39m\n",
      " [11] \u001b[0m\u001b[1m_initialize_backend\u001b[22m\u001b[0m\u001b[1m(\u001b[22m\u001b[90mpkg\u001b[39m::\u001b[0mPlots.GRBackend\u001b[0m\u001b[1m)\u001b[22m\n",
      "\u001b[90m    @ \u001b[39m\u001b[36mPlots\u001b[39m \u001b[90m~/.julia/packages/Plots/Hxe7H/src/\u001b[39m\u001b[90m\u001b[4mbackends.jl:394\u001b[24m\u001b[39m\n",
      " [12] \u001b[0m\u001b[1mbackend\u001b[22m\u001b[0m\u001b[1m(\u001b[22m\u001b[90mpkg\u001b[39m::\u001b[0mPlots.GRBackend\u001b[0m\u001b[1m)\u001b[22m\n",
      "\u001b[90m    @ \u001b[39m\u001b[36mPlots\u001b[39m \u001b[90m~/.julia/packages/Plots/Hxe7H/src/\u001b[39m\u001b[90m\u001b[4mbackends.jl:260\u001b[24m\u001b[39m\n",
      " [13] \u001b[0m\u001b[1mbackend\u001b[22m\u001b[0m\u001b[1m(\u001b[22m\u001b[90msym\u001b[39m::\u001b[0mSymbol\u001b[0m\u001b[1m)\u001b[22m\n",
      "\u001b[90m    @ \u001b[39m\u001b[36mPlots\u001b[39m \u001b[90m~/.julia/packages/Plots/Hxe7H/src/\u001b[39m\u001b[90m\u001b[4mbackends.jl:270\u001b[24m\u001b[39m\n",
      " [14] \u001b[0m\u001b[1mload_default_backend\u001b[22m\u001b[0m\u001b[1m(\u001b[22m\u001b[0m\u001b[1m)\u001b[22m\n",
      "\u001b[90m    @ \u001b[39m\u001b[36mPlots\u001b[39m \u001b[90m~/.julia/packages/Plots/Hxe7H/src/\u001b[39m\u001b[90m\u001b[4mbackends.jl:201\u001b[24m\u001b[39m\n",
      " [15] \u001b[0m\u001b[1mbackend\u001b[22m\u001b[0m\u001b[1m(\u001b[22m\u001b[0m\u001b[1m)\u001b[22m\n",
      "\u001b[90m    @ \u001b[39m\u001b[36mPlots\u001b[39m \u001b[90m~/.julia/packages/Plots/Hxe7H/src/\u001b[39m\u001b[90m\u001b[4mbackends.jl:248\u001b[24m\u001b[39m\n",
      " [16] top-level scope\n",
      "\u001b[90m    @ \u001b[39m\u001b[90m~/.julia/packages/Plots/Hxe7H/src/\u001b[39m\u001b[90m\u001b[4minit.jl:123\u001b[24m\u001b[39m\n",
      " [17] \u001b[0m\u001b[1minclude\u001b[22m\u001b[0m\u001b[1m(\u001b[22m\u001b[90mmod\u001b[39m::\u001b[0mModule, \u001b[90m_path\u001b[39m::\u001b[0mString\u001b[0m\u001b[1m)\u001b[22m\n",
      "\u001b[90m    @ \u001b[39m\u001b[90mBase\u001b[39m \u001b[90m./\u001b[39m\u001b[90m\u001b[4mBase.jl:419\u001b[24m\u001b[39m\n",
      " [18] \u001b[0m\u001b[1minclude\u001b[22m\u001b[0m\u001b[1m(\u001b[22m\u001b[90mx\u001b[39m::\u001b[0mString\u001b[0m\u001b[1m)\u001b[22m\n",
      "\u001b[90m    @ \u001b[39m\u001b[36mPlots\u001b[39m \u001b[90m~/.julia/packages/Plots/Hxe7H/src/\u001b[39m\u001b[90m\u001b[4mPlots.jl:1\u001b[24m\u001b[39m\n",
      " [19] top-level scope\n",
      "\u001b[90m    @ \u001b[39m\u001b[90m~/.julia/packages/Plots/Hxe7H/src/\u001b[39m\u001b[90m\u001b[4mPlots.jl:176\u001b[24m\u001b[39m\n",
      " [20] \u001b[0m\u001b[1minclude\u001b[22m\n",
      "\u001b[90m    @ \u001b[39m\u001b[90m./\u001b[39m\u001b[90m\u001b[4mBase.jl:419\u001b[24m\u001b[39m\u001b[90m [inlined]\u001b[39m\n",
      " [21] \u001b[0m\u001b[1minclude_package_for_output\u001b[22m\u001b[0m\u001b[1m(\u001b[22m\u001b[90mpkg\u001b[39m::\u001b[0mBase.PkgId, \u001b[90minput\u001b[39m::\u001b[0mString, \u001b[90mdepot_path\u001b[39m::\u001b[0mVector\u001b[90m{String}\u001b[39m, \u001b[90mdl_load_path\u001b[39m::\u001b[0mVector\u001b[90m{String}\u001b[39m, \u001b[90mload_path\u001b[39m::\u001b[0mVector\u001b[90m{String}\u001b[39m, \u001b[90mconcrete_deps\u001b[39m::\u001b[0mVector\u001b[90m{Pair{Base.PkgId, UInt64}}\u001b[39m, \u001b[90msource\u001b[39m::\u001b[0mString\u001b[0m\u001b[1m)\u001b[22m\n",
      "\u001b[90m    @ \u001b[39m\u001b[90mBase\u001b[39m \u001b[90m./\u001b[39m\u001b[90m\u001b[4mloading.jl:1554\u001b[24m\u001b[39m\n",
      " [22] top-level scope\n",
      "\u001b[90m    @ \u001b[39m\u001b[90m\u001b[4mstdin:1\u001b[24m\u001b[39m\n",
      "during initialization of module GRPreferences\n",
      "in expression starting at /home/chanyu/.julia/packages/Plots/Hxe7H/src/init.jl:123\n",
      "in expression starting at /home/chanyu/.julia/packages/Plots/Hxe7H/src/Plots.jl:1\n",
      "in expression starting at stdin:1\n",
      "\u001b[91m\u001b[1mERROR: \u001b[22m\u001b[39mLoadError: Failed to precompile Plots [91a5bcdd-55d7-5caf-9e0b-520d859cae80] to /home/chanyu/.julia/compiled/v1.8/Plots/jl_utvM8f.\n",
      "Stacktrace:\n",
      "  [1] \u001b[0m\u001b[1merror\u001b[22m\u001b[0m\u001b[1m(\u001b[22m\u001b[90ms\u001b[39m::\u001b[0mString\u001b[0m\u001b[1m)\u001b[22m\n",
      "\u001b[90m    @ \u001b[39m\u001b[90mBase\u001b[39m \u001b[90m./\u001b[39m\u001b[90m\u001b[4merror.jl:35\u001b[24m\u001b[39m\n",
      "  [2] \u001b[0m\u001b[1mcompilecache\u001b[22m\u001b[0m\u001b[1m(\u001b[22m\u001b[90mpkg\u001b[39m::\u001b[0mBase.PkgId, \u001b[90mpath\u001b[39m::\u001b[0mString, \u001b[90minternal_stderr\u001b[39m::\u001b[0mIO, \u001b[90minternal_stdout\u001b[39m::\u001b[0mIO, \u001b[90mkeep_loaded_modules\u001b[39m::\u001b[0mBool\u001b[0m\u001b[1m)\u001b[22m\n",
      "\u001b[90m    @ \u001b[39m\u001b[90mBase\u001b[39m \u001b[90m./\u001b[39m\u001b[90m\u001b[4mloading.jl:1705\u001b[24m\u001b[39m\n",
      "  [3] \u001b[0m\u001b[1mcompilecache\u001b[22m\n",
      "\u001b[90m    @ \u001b[39m\u001b[90m./\u001b[39m\u001b[90m\u001b[4mloading.jl:1649\u001b[24m\u001b[39m\u001b[90m [inlined]\u001b[39m\n",
      "  [4] \u001b[0m\u001b[1m_require\u001b[22m\u001b[0m\u001b[1m(\u001b[22m\u001b[90mpkg\u001b[39m::\u001b[0mBase.PkgId\u001b[0m\u001b[1m)\u001b[22m\n",
      "\u001b[90m    @ \u001b[39m\u001b[90mBase\u001b[39m \u001b[90m./\u001b[39m\u001b[90m\u001b[4mloading.jl:1337\u001b[24m\u001b[39m\n",
      "  [5] \u001b[0m\u001b[1m_require_prelocked\u001b[22m\u001b[0m\u001b[1m(\u001b[22m\u001b[90muuidkey\u001b[39m::\u001b[0mBase.PkgId\u001b[0m\u001b[1m)\u001b[22m\n",
      "\u001b[90m    @ \u001b[39m\u001b[90mBase\u001b[39m \u001b[90m./\u001b[39m\u001b[90m\u001b[4mloading.jl:1200\u001b[24m\u001b[39m\n",
      "  [6] \u001b[0m\u001b[1mmacro expansion\u001b[22m\n",
      "\u001b[90m    @ \u001b[39m\u001b[90m./\u001b[39m\u001b[90m\u001b[4mloading.jl:1180\u001b[24m\u001b[39m\u001b[90m [inlined]\u001b[39m\n",
      "  [7] \u001b[0m\u001b[1mmacro expansion\u001b[22m\n",
      "\u001b[90m    @ \u001b[39m\u001b[90m./\u001b[39m\u001b[90m\u001b[4mlock.jl:223\u001b[24m\u001b[39m\u001b[90m [inlined]\u001b[39m\n",
      "  [8] \u001b[0m\u001b[1mrequire\u001b[22m\u001b[0m\u001b[1m(\u001b[22m\u001b[90minto\u001b[39m::\u001b[0mModule, \u001b[90mmod\u001b[39m::\u001b[0mSymbol\u001b[0m\u001b[1m)\u001b[22m\n",
      "\u001b[90m    @ \u001b[39m\u001b[90mBase\u001b[39m \u001b[90m./\u001b[39m\u001b[90m\u001b[4mloading.jl:1144\u001b[24m\u001b[39m\n",
      "  [9] \u001b[0m\u001b[1minclude\u001b[22m\u001b[0m\u001b[1m(\u001b[22m\u001b[90mmod\u001b[39m::\u001b[0mModule, \u001b[90m_path\u001b[39m::\u001b[0mString\u001b[0m\u001b[1m)\u001b[22m\n",
      "\u001b[90m    @ \u001b[39m\u001b[90mBase\u001b[39m \u001b[90m./\u001b[39m\u001b[90m\u001b[4mBase.jl:419\u001b[24m\u001b[39m\n",
      " [10] \u001b[0m\u001b[1minclude\u001b[22m\u001b[0m\u001b[1m(\u001b[22m\u001b[90mx\u001b[39m::\u001b[0mString\u001b[0m\u001b[1m)\u001b[22m\n",
      "\u001b[90m    @ \u001b[39m\u001b[35mLinRegOutliers\u001b[39m \u001b[90m~/.julia/packages/LinRegOutliers/3f6eM/src/\u001b[39m\u001b[90m\u001b[4mLinRegOutliers.jl:1\u001b[24m\u001b[39m\n",
      " [11] top-level scope\n",
      "\u001b[90m    @ \u001b[39m\u001b[90m~/.julia/packages/LinRegOutliers/3f6eM/src/\u001b[39m\u001b[90m\u001b[4mLinRegOutliers.jl:82\u001b[24m\u001b[39m\n",
      " [12] \u001b[0m\u001b[1minclude\u001b[22m\n",
      "\u001b[90m    @ \u001b[39m\u001b[90m./\u001b[39m\u001b[90m\u001b[4mBase.jl:419\u001b[24m\u001b[39m\u001b[90m [inlined]\u001b[39m\n",
      " [13] \u001b[0m\u001b[1minclude_package_for_output\u001b[22m\u001b[0m\u001b[1m(\u001b[22m\u001b[90mpkg\u001b[39m::\u001b[0mBase.PkgId, \u001b[90minput\u001b[39m::\u001b[0mString, \u001b[90mdepot_path\u001b[39m::\u001b[0mVector\u001b[90m{String}\u001b[39m, \u001b[90mdl_load_path\u001b[39m::\u001b[0mVector\u001b[90m{String}\u001b[39m, \u001b[90mload_path\u001b[39m::\u001b[0mVector\u001b[90m{String}\u001b[39m, \u001b[90mconcrete_deps\u001b[39m::\u001b[0mVector\u001b[90m{Pair{Base.PkgId, UInt64}}\u001b[39m, \u001b[90msource\u001b[39m::\u001b[0mNothing\u001b[0m\u001b[1m)\u001b[22m\n",
      "\u001b[90m    @ \u001b[39m\u001b[90mBase\u001b[39m \u001b[90m./\u001b[39m\u001b[90m\u001b[4mloading.jl:1554\u001b[24m\u001b[39m\n",
      " [14] top-level scope\n",
      "\u001b[90m    @ \u001b[39m\u001b[90m\u001b[4mstdin:1\u001b[24m\u001b[39m\n",
      "in expression starting at /home/chanyu/.julia/packages/LinRegOutliers/3f6eM/src/mveltsplot.jl:1\n",
      "in expression starting at /home/chanyu/.julia/packages/LinRegOutliers/3f6eM/src/LinRegOutliers.jl:1\n",
      "in expression starting at stdin:1\n"
     ]
    },
    {
     "ename": "LoadError",
     "evalue": "Failed to precompile LinRegOutliers [6d4de0fb-32d9-4c65-aac1-cc9ed8b94b1a] to /home/chanyu/.julia/compiled/v1.8/LinRegOutliers/jl_8RHQsk.",
     "output_type": "error",
     "traceback": [
      "Failed to precompile LinRegOutliers [6d4de0fb-32d9-4c65-aac1-cc9ed8b94b1a] to /home/chanyu/.julia/compiled/v1.8/LinRegOutliers/jl_8RHQsk.",
      "",
      "Stacktrace:",
      "  [1] error(s::String)",
      "    @ Base ./error.jl:35",
      "  [2] compilecache(pkg::Base.PkgId, path::String, internal_stderr::IO, internal_stdout::IO, keep_loaded_modules::Bool)",
      "    @ Base ./loading.jl:1705",
      "  [3] compilecache",
      "    @ ./loading.jl:1649 [inlined]",
      "  [4] _require(pkg::Base.PkgId)",
      "    @ Base ./loading.jl:1337",
      "  [5] _require_prelocked(uuidkey::Base.PkgId)",
      "    @ Base ./loading.jl:1200",
      "  [6] macro expansion",
      "    @ ./loading.jl:1180 [inlined]",
      "  [7] macro expansion",
      "    @ ./lock.jl:223 [inlined]",
      "  [8] require(into::Module, mod::Symbol)",
      "    @ Base ./loading.jl:1144",
      "  [9] eval",
      "    @ ./boot.jl:368 [inlined]",
      " [10] include_string(mapexpr::typeof(REPL.softscope), mod::Module, code::String, filename::String)",
      "    @ Base ./loading.jl:1428"
     ]
    }
   ],
   "source": [
    "using LinRegOutliers\n",
    "using StatsModels"
   ]
  },
  {
   "cell_type": "code",
   "execution_count": 38,
   "id": "5f828bc8",
   "metadata": {
    "collapsed": true
   },
   "outputs": [
    {
     "data": {
      "text/plain": [
       "FormulaTerm\n",
       "Response:\n",
       "  總價元(unknown)\n",
       "Predictors:\n",
       "  土地移轉總面積平方公尺(unknown)\n",
       "  建物移轉總面積平方公尺(unknown)\n",
       "  建物現況格局_房(unknown)\n",
       "  建物現況格局_廳(unknown)\n",
       "  建物現況格局_衛(unknown)\n",
       "  建物現況格局_隔間(unknown)\n",
       "  單價元平方公尺(unknown)\n",
       "  車位移轉總面積_平方公尺(unknown)\n",
       "  車位總價元(unknown)\n",
       "  主建物面積(unknown)\n",
       "  附屬建物面積(unknown)\n",
       "  陽台面積(unknown)\n",
       "  電梯(unknown)"
      ]
     },
     "execution_count": 38,
     "metadata": {},
     "output_type": "execute_result"
    }
   ],
   "source": [
    "formula = @formula(總價元 ~ 土地移轉總面積平方公尺 + 建物移轉總面積平方公尺 +\n",
    "    建物現況格局_房 + 建物現況格局_廳 + 建物現況格局_衛 + 建物現況格局_隔間 +\n",
    "    單價元平方公尺 + 車位移轉總面積_平方公尺 + 車位總價元 + 主建物面積 +\n",
    "    附屬建物面積 + 陽台面積 + 電梯)"
   ]
  },
  {
   "cell_type": "code",
   "execution_count": 39,
   "id": "72d8e2c1",
   "metadata": {},
   "outputs": [
    {
     "ename": "LoadError",
     "evalue": "UndefVarError: createRegressionSetting not defined",
     "output_type": "error",
     "traceback": [
      "UndefVarError: createRegressionSetting not defined",
      "",
      "Stacktrace:",
      " [1] top-level scope",
      "   @ In[39]:1",
      " [2] eval",
      "   @ ./boot.jl:368 [inlined]",
      " [3] include_string(mapexpr::typeof(REPL.softscope), mod::Module, code::String, filename::String)",
      "   @ Base ./loading.jl:1428"
     ]
    }
   ],
   "source": [
    "reg_tp = createRegressionSetting(formula, cont_tp_knn)\n",
    "outsmr = studentizedResiduals(reg_tp)"
   ]
  },
  {
   "cell_type": "code",
   "execution_count": 1,
   "id": "60bbabec",
   "metadata": {},
   "outputs": [
    {
     "name": "stderr",
     "output_type": "stream",
     "text": [
      "┌ Info: For silent loading, specify `verbosity=0`. \n",
      "└ @ Main /home/chanyu/.julia/packages/MLJModels/47nZM/src/loading.jl:159\n"
     ]
    },
    {
     "name": "stdout",
     "output_type": "stream",
     "text": [
      "import OutlierDetectionNeighbors ✔\n",
      "import OutlierDetectionNeighbors ✔\n"
     ]
    },
    {
     "name": "stderr",
     "output_type": "stream",
     "text": [
      "┌ Info: For silent loading, specify `verbosity=0`. \n",
      "└ @ Main /home/chanyu/.julia/packages/MLJModels/47nZM/src/loading.jl:159\n"
     ]
    },
    {
     "data": {
      "text/plain": [
       "OutlierDetectionNeighbors.LOFDetector"
      ]
     },
     "execution_count": 1,
     "metadata": {},
     "output_type": "execute_result"
    }
   ],
   "source": [
    "#########\n",
    "using MLJ\n",
    "using OutlierDetection\n",
    "using MLJBase\n",
    "KNN = @iload KNNDetector pkg=OutlierDetectionNeighbors\n",
    "LOF = @iload LOFDetector pkg=OutlierDetectionNeighbors"
   ]
  },
  {
   "cell_type": "code",
   "execution_count": 2,
   "id": "1ecd8794",
   "metadata": {},
   "outputs": [
    {
     "name": "stderr",
     "output_type": "stream",
     "text": [
      "┌ Info: For silent loading, specify `verbosity=0`. \n",
      "└ @ Main /home/chanyu/.julia/packages/MLJModels/47nZM/src/loading.jl:159\n"
     ]
    },
    {
     "name": "stdout",
     "output_type": "stream",
     "text": [
      "import OutlierDetectionPython ✔\n"
     ]
    },
    {
     "data": {
      "text/plain": [
       "OutlierDetectionPython.IForestDetector"
      ]
     },
     "execution_count": 2,
     "metadata": {},
     "output_type": "execute_result"
    }
   ],
   "source": [
    "PyIFO =  @iload IForestDetector pkg=OutlierDetectionPython"
   ]
  },
  {
   "cell_type": "code",
   "execution_count": 3,
   "id": "36c80e53",
   "metadata": {},
   "outputs": [
    {
     "data": {
      "text/plain": [
       "IForestDetector(\n",
       "  n_estimators = 100, \n",
       "  max_samples = \"auto\", \n",
       "  max_features = 1.0, \n",
       "  bootstrap = false, \n",
       "  behaviour = \"new\", \n",
       "  random_state = nothing, \n",
       "  verbose = 0, \n",
       "  n_jobs = 1)"
      ]
     },
     "execution_count": 3,
     "metadata": {},
     "output_type": "execute_result"
    }
   ],
   "source": [
    "IFO = PyIFO()"
   ]
  },
  {
   "cell_type": "code",
   "execution_count": 9,
   "id": "4fec4a08",
   "metadata": {
    "collapsed": true
   },
   "outputs": [
    {
     "data": {
      "text/html": [
       "<div><div style = \"float: left;\"><span>228153×20 DataFrame</span></div><div style = \"float: right;\"><span style = \"font-style: italic;\">228128 rows omitted</span></div><div style = \"clear: both;\"></div></div><div class = \"data-frame\" style = \"overflow-x: scroll;\"><table class = \"data-frame\" style = \"margin-bottom: 6px;\"><thead><tr class = \"header\"><th class = \"rowNumber\" style = \"font-weight: bold; text-align: right;\">Row</th><th style = \"text-align: left;\">土地移轉總面積平方公尺</th><th style = \"text-align: left;\">建物移轉總面積平方公尺</th><th style = \"text-align: left;\">建物現況格局_房</th><th style = \"text-align: left;\">建物現況格局_廳</th><th style = \"text-align: left;\">建物現況格局_衛</th><th style = \"text-align: left;\">建物現況格局_隔間</th><th style = \"text-align: left;\">總價元</th><th style = \"text-align: left;\">單價元平方公尺</th><th style = \"text-align: left;\">車位移轉總面積_平方公尺</th><th style = \"text-align: left;\">車位總價元</th><th style = \"text-align: left;\">主建物面積</th><th style = \"text-align: left;\">附屬建物面積</th><th style = \"text-align: left;\">陽台面積</th><th style = \"text-align: left;\">電梯</th><th style = \"text-align: left;\">交易標的</th><th style = \"text-align: left;\">建物型態</th><th style = \"text-align: left;\">主要用途</th><th style = \"text-align: left;\">有無管理組織</th><th style = \"text-align: left;\">車位類別</th><th style = \"text-align: left;\">city</th></tr><tr class = \"subheader headerLastRow\"><th class = \"rowNumber\" style = \"font-weight: bold; text-align: right;\"></th><th title = \"Float64\" style = \"text-align: left;\">Float64</th><th title = \"Float64\" style = \"text-align: left;\">Float64</th><th title = \"Float64\" style = \"text-align: left;\">Float64</th><th title = \"Float64\" style = \"text-align: left;\">Float64</th><th title = \"Float64\" style = \"text-align: left;\">Float64</th><th title = \"Float64\" style = \"text-align: left;\">Float64</th><th title = \"Float64\" style = \"text-align: left;\">Float64</th><th title = \"Float64\" style = \"text-align: left;\">Float64</th><th title = \"Float64\" style = \"text-align: left;\">Float64</th><th title = \"Float64\" style = \"text-align: left;\">Float64</th><th title = \"Float64\" style = \"text-align: left;\">Float64</th><th title = \"Float64\" style = \"text-align: left;\">Float64</th><th title = \"Float64\" style = \"text-align: left;\">Float64</th><th title = \"Int64\" style = \"text-align: left;\">Int64</th><th title = \"String31\" style = \"text-align: left;\">String31</th><th title = \"String\" style = \"text-align: left;\">String</th><th title = \"Union{Missing, String}\" style = \"text-align: left;\">String?</th><th title = \"String3\" style = \"text-align: left;\">String3</th><th title = \"Union{Missing, String15}\" style = \"text-align: left;\">String15?</th><th title = \"String3\" style = \"text-align: left;\">String3</th></tr></thead><tbody><tr><td class = \"rowNumber\" style = \"font-weight: bold; text-align: right;\">1</td><td style = \"text-align: right;\">0.0</td><td style = \"text-align: right;\">74.87</td><td style = \"text-align: right;\">0.0</td><td style = \"text-align: right;\">0.0</td><td style = \"text-align: right;\">0.0</td><td style = \"text-align: right;\">1.0</td><td style = \"text-align: right;\">6.0e6</td><td style = \"text-align: right;\">71992.5</td><td style = \"text-align: right;\">0.0</td><td style = \"text-align: right;\">6.0e6</td><td style = \"text-align: right;\">0.0</td><td style = \"text-align: right;\">0.0</td><td style = \"text-align: right;\">0.0</td><td style = \"text-align: right;\">0</td><td style = \"text-align: left;\">車位</td><td style = \"text-align: left;\">其他</td><td style = \"text-align: left;\">停車空間</td><td style = \"text-align: left;\">無</td><td style = \"text-align: left;\">坡道平面</td><td style = \"text-align: left;\">tp</td></tr><tr><td class = \"rowNumber\" style = \"font-weight: bold; text-align: right;\">2</td><td style = \"text-align: right;\">443.75</td><td style = \"text-align: right;\">0.0</td><td style = \"text-align: right;\">0.0</td><td style = \"text-align: right;\">0.0</td><td style = \"text-align: right;\">0.0</td><td style = \"text-align: right;\">1.0</td><td style = \"text-align: right;\">1.00672e7</td><td style = \"text-align: right;\">22687.0</td><td style = \"text-align: right;\">0.0</td><td style = \"text-align: right;\">0.0</td><td style = \"text-align: right;\">0.0</td><td style = \"text-align: right;\">0.0</td><td style = \"text-align: right;\">0.0</td><td style = \"text-align: right;\">0</td><td style = \"text-align: left;\">土地</td><td style = \"text-align: left;\">其他</td><td style = \"font-style: italic; text-align: left;\">missing</td><td style = \"text-align: left;\">無</td><td style = \"font-style: italic; text-align: left;\">missing</td><td style = \"text-align: left;\">tp</td></tr><tr><td class = \"rowNumber\" style = \"font-weight: bold; text-align: right;\">3</td><td style = \"text-align: right;\">320.08</td><td style = \"text-align: right;\">0.0</td><td style = \"text-align: right;\">0.0</td><td style = \"text-align: right;\">0.0</td><td style = \"text-align: right;\">0.0</td><td style = \"text-align: right;\">1.0</td><td style = \"text-align: right;\">2.498e7</td><td style = \"text-align: right;\">78043.0</td><td style = \"text-align: right;\">0.0</td><td style = \"text-align: right;\">0.0</td><td style = \"text-align: right;\">0.0</td><td style = \"text-align: right;\">0.0</td><td style = \"text-align: right;\">0.0</td><td style = \"text-align: right;\">0</td><td style = \"text-align: left;\">土地</td><td style = \"text-align: left;\">其他</td><td style = \"font-style: italic; text-align: left;\">missing</td><td style = \"text-align: left;\">無</td><td style = \"font-style: italic; text-align: left;\">missing</td><td style = \"text-align: left;\">tp</td></tr><tr><td class = \"rowNumber\" style = \"font-weight: bold; text-align: right;\">4</td><td style = \"text-align: right;\">0.5</td><td style = \"text-align: right;\">4.58</td><td style = \"text-align: right;\">0.0</td><td style = \"text-align: right;\">0.0</td><td style = \"text-align: right;\">0.0</td><td style = \"text-align: right;\">1.0</td><td style = \"text-align: right;\">650000.0</td><td style = \"text-align: right;\">71992.5</td><td style = \"text-align: right;\">0.0</td><td style = \"text-align: right;\">650000.0</td><td style = \"text-align: right;\">0.0</td><td style = \"text-align: right;\">0.0</td><td style = \"text-align: right;\">0.0</td><td style = \"text-align: right;\">1</td><td style = \"text-align: left;\">車位</td><td style = \"text-align: left;\">其他</td><td style = \"text-align: left;\">停車空間</td><td style = \"text-align: left;\">有</td><td style = \"text-align: left;\">升降機械</td><td style = \"text-align: left;\">tp</td></tr><tr><td class = \"rowNumber\" style = \"font-weight: bold; text-align: right;\">5</td><td style = \"text-align: right;\">6.74</td><td style = \"text-align: right;\">33.42</td><td style = \"text-align: right;\">4.0</td><td style = \"text-align: right;\">2.0</td><td style = \"text-align: right;\">2.0</td><td style = \"text-align: right;\">1.0</td><td style = \"text-align: right;\">7.0e6</td><td style = \"text-align: right;\">209455.0</td><td style = \"text-align: right;\">0.0</td><td style = \"text-align: right;\">0.0</td><td style = \"text-align: right;\">27.37</td><td style = \"text-align: right;\">0.0</td><td style = \"text-align: right;\">5.05</td><td style = \"text-align: right;\">1</td><td style = \"text-align: left;\">房地(土地+建物)</td><td style = \"text-align: left;\">華廈(10層含以下有電梯)</td><td style = \"text-align: left;\">住家用</td><td style = \"text-align: left;\">無</td><td style = \"font-style: italic; text-align: left;\">missing</td><td style = \"text-align: left;\">tp</td></tr><tr><td class = \"rowNumber\" style = \"font-weight: bold; text-align: right;\">6</td><td style = \"text-align: right;\">0.0</td><td style = \"text-align: right;\">0.11</td><td style = \"text-align: right;\">3.0</td><td style = \"text-align: right;\">2.0</td><td style = \"text-align: right;\">1.0</td><td style = \"text-align: right;\">1.0</td><td style = \"text-align: right;\">201.0</td><td style = \"text-align: right;\">0.0</td><td style = \"text-align: right;\">0.0</td><td style = \"text-align: right;\">0.0</td><td style = \"text-align: right;\">0.0</td><td style = \"text-align: right;\">0.0</td><td style = \"text-align: right;\">0.0</td><td style = \"text-align: right;\">0</td><td style = \"text-align: left;\">建物</td><td style = \"text-align: left;\">公寓(5樓含以下無電梯)</td><td style = \"text-align: left;\">工業用</td><td style = \"text-align: left;\">無</td><td style = \"font-style: italic; text-align: left;\">missing</td><td style = \"text-align: left;\">tp</td></tr><tr><td class = \"rowNumber\" style = \"font-weight: bold; text-align: right;\">7</td><td style = \"text-align: right;\">18.75</td><td style = \"text-align: right;\">52.74</td><td style = \"text-align: right;\">0.0</td><td style = \"text-align: right;\">0.0</td><td style = \"text-align: right;\">0.0</td><td style = \"text-align: right;\">0.0</td><td style = \"text-align: right;\">4.07435e6</td><td style = \"text-align: right;\">77254.0</td><td style = \"text-align: right;\">0.0</td><td style = \"text-align: right;\">0.0</td><td style = \"text-align: right;\">44.09</td><td style = \"text-align: right;\">0.0</td><td style = \"text-align: right;\">8.65</td><td style = \"text-align: right;\">0</td><td style = \"text-align: left;\">房地(土地+建物)</td><td style = \"text-align: left;\">公寓(5樓含以下無電梯)</td><td style = \"text-align: left;\">住家用</td><td style = \"text-align: left;\">無</td><td style = \"font-style: italic; text-align: left;\">missing</td><td style = \"text-align: left;\">tp</td></tr><tr><td class = \"rowNumber\" style = \"font-weight: bold; text-align: right;\">8</td><td style = \"text-align: right;\">24.09</td><td style = \"text-align: right;\">151.62</td><td style = \"text-align: right;\">1.0</td><td style = \"text-align: right;\">3.0</td><td style = \"text-align: right;\">1.0</td><td style = \"text-align: right;\">1.0</td><td style = \"text-align: right;\">2.65e7</td><td style = \"text-align: right;\">174779.0</td><td style = \"text-align: right;\">0.0</td><td style = \"text-align: right;\">2.5e6</td><td style = \"text-align: right;\">108.48</td><td style = \"text-align: right;\">0.0</td><td style = \"text-align: right;\">13.14</td><td style = \"text-align: right;\">1</td><td style = \"text-align: left;\">房地(土地+建物)+車位</td><td style = \"text-align: left;\">華廈(10層含以下有電梯)</td><td style = \"text-align: left;\">住家用</td><td style = \"text-align: left;\">有</td><td style = \"text-align: left;\">坡道平面</td><td style = \"text-align: left;\">tp</td></tr><tr><td class = \"rowNumber\" style = \"font-weight: bold; text-align: right;\">9</td><td style = \"text-align: right;\">340.0</td><td style = \"text-align: right;\">0.0</td><td style = \"text-align: right;\">0.0</td><td style = \"text-align: right;\">0.0</td><td style = \"text-align: right;\">0.0</td><td style = \"text-align: right;\">1.0</td><td style = \"text-align: right;\">1.5e8</td><td style = \"text-align: right;\">441176.0</td><td style = \"text-align: right;\">0.0</td><td style = \"text-align: right;\">0.0</td><td style = \"text-align: right;\">0.0</td><td style = \"text-align: right;\">0.0</td><td style = \"text-align: right;\">0.0</td><td style = \"text-align: right;\">0</td><td style = \"text-align: left;\">土地</td><td style = \"text-align: left;\">其他</td><td style = \"font-style: italic; text-align: left;\">missing</td><td style = \"text-align: left;\">無</td><td style = \"font-style: italic; text-align: left;\">missing</td><td style = \"text-align: left;\">tp</td></tr><tr><td class = \"rowNumber\" style = \"font-weight: bold; text-align: right;\">10</td><td style = \"text-align: right;\">33.0</td><td style = \"text-align: right;\">0.0</td><td style = \"text-align: right;\">0.0</td><td style = \"text-align: right;\">0.0</td><td style = \"text-align: right;\">0.0</td><td style = \"text-align: right;\">1.0</td><td style = \"text-align: right;\">2.225e6</td><td style = \"text-align: right;\">67424.0</td><td style = \"text-align: right;\">0.0</td><td style = \"text-align: right;\">0.0</td><td style = \"text-align: right;\">0.0</td><td style = \"text-align: right;\">0.0</td><td style = \"text-align: right;\">0.0</td><td style = \"text-align: right;\">0</td><td style = \"text-align: left;\">土地</td><td style = \"text-align: left;\">其他</td><td style = \"font-style: italic; text-align: left;\">missing</td><td style = \"text-align: left;\">無</td><td style = \"font-style: italic; text-align: left;\">missing</td><td style = \"text-align: left;\">tp</td></tr><tr><td class = \"rowNumber\" style = \"font-weight: bold; text-align: right;\">11</td><td style = \"text-align: right;\">2.62</td><td style = \"text-align: right;\">32.33</td><td style = \"text-align: right;\">1.0</td><td style = \"text-align: right;\">1.0</td><td style = \"text-align: right;\">1.0</td><td style = \"text-align: right;\">1.0</td><td style = \"text-align: right;\">4.58e6</td><td style = \"text-align: right;\">141664.0</td><td style = \"text-align: right;\">0.0</td><td style = \"text-align: right;\">0.0</td><td style = \"text-align: right;\">20.65</td><td style = \"text-align: right;\">0.0</td><td style = \"text-align: right;\">3.01</td><td style = \"text-align: right;\">1</td><td style = \"text-align: left;\">房地(土地+建物)</td><td style = \"text-align: left;\">住宅大樓(11層含以上有電梯)</td><td style = \"text-align: left;\">住家用</td><td style = \"text-align: left;\">有</td><td style = \"font-style: italic; text-align: left;\">missing</td><td style = \"text-align: left;\">tp</td></tr><tr><td class = \"rowNumber\" style = \"font-weight: bold; text-align: right;\">12</td><td style = \"text-align: right;\">36.5</td><td style = \"text-align: right;\">92.3</td><td style = \"text-align: right;\">3.0</td><td style = \"text-align: right;\">2.0</td><td style = \"text-align: right;\">1.0</td><td style = \"text-align: right;\">1.0</td><td style = \"text-align: right;\">1.38204e7</td><td style = \"text-align: right;\">149733.0</td><td style = \"text-align: right;\">0.0</td><td style = \"text-align: right;\">0.0</td><td style = \"text-align: right;\">78.12</td><td style = \"text-align: right;\">0.0</td><td style = \"text-align: right;\">14.18</td><td style = \"text-align: right;\">0</td><td style = \"text-align: left;\">房地(土地+建物)</td><td style = \"text-align: left;\">公寓(5樓含以下無電梯)</td><td style = \"text-align: left;\">住家用</td><td style = \"text-align: left;\">無</td><td style = \"font-style: italic; text-align: left;\">missing</td><td style = \"text-align: left;\">tp</td></tr><tr><td class = \"rowNumber\" style = \"font-weight: bold; text-align: right;\">13</td><td style = \"text-align: right;\">48.97</td><td style = \"text-align: right;\">0.0</td><td style = \"text-align: right;\">0.0</td><td style = \"text-align: right;\">0.0</td><td style = \"text-align: right;\">0.0</td><td style = \"text-align: right;\">1.0</td><td style = \"text-align: right;\">1.74832e6</td><td style = \"text-align: right;\">35702.0</td><td style = \"text-align: right;\">0.0</td><td style = \"text-align: right;\">0.0</td><td style = \"text-align: right;\">0.0</td><td style = \"text-align: right;\">0.0</td><td style = \"text-align: right;\">0.0</td><td style = \"text-align: right;\">0</td><td style = \"text-align: left;\">土地</td><td style = \"text-align: left;\">其他</td><td style = \"font-style: italic; text-align: left;\">missing</td><td style = \"text-align: left;\">無</td><td style = \"font-style: italic; text-align: left;\">missing</td><td style = \"text-align: left;\">tp</td></tr><tr><td style = \"text-align: right;\">&vellip;</td><td style = \"text-align: right;\">&vellip;</td><td style = \"text-align: right;\">&vellip;</td><td style = \"text-align: right;\">&vellip;</td><td style = \"text-align: right;\">&vellip;</td><td style = \"text-align: right;\">&vellip;</td><td style = \"text-align: right;\">&vellip;</td><td style = \"text-align: right;\">&vellip;</td><td style = \"text-align: right;\">&vellip;</td><td style = \"text-align: right;\">&vellip;</td><td style = \"text-align: right;\">&vellip;</td><td style = \"text-align: right;\">&vellip;</td><td style = \"text-align: right;\">&vellip;</td><td style = \"text-align: right;\">&vellip;</td><td style = \"text-align: right;\">&vellip;</td><td style = \"text-align: right;\">&vellip;</td><td style = \"text-align: right;\">&vellip;</td><td style = \"text-align: right;\">&vellip;</td><td style = \"text-align: right;\">&vellip;</td><td style = \"text-align: right;\">&vellip;</td><td style = \"text-align: right;\">&vellip;</td></tr><tr><td class = \"rowNumber\" style = \"font-weight: bold; text-align: right;\">228142</td><td style = \"text-align: right;\">27.92</td><td style = \"text-align: right;\">153.68</td><td style = \"text-align: right;\">3.0</td><td style = \"text-align: right;\">2.0</td><td style = \"text-align: right;\">2.0</td><td style = \"text-align: right;\">1.0</td><td style = \"text-align: right;\">7.25e6</td><td style = \"text-align: right;\">45781.0</td><td style = \"text-align: right;\">22.62</td><td style = \"text-align: right;\">1.25e6</td><td style = \"text-align: right;\">77.1</td><td style = \"text-align: right;\">0.0</td><td style = \"text-align: right;\">10.87</td><td style = \"text-align: right;\">1</td><td style = \"text-align: left;\">房地(土地+建物)+車位</td><td style = \"text-align: left;\">住宅大樓(11層含以上有電梯)</td><td style = \"text-align: left;\">住家用</td><td style = \"text-align: left;\">有</td><td style = \"font-style: italic; text-align: left;\">坡道平面</td><td style = \"text-align: left;\">tn</td></tr><tr><td class = \"rowNumber\" style = \"font-weight: bold; text-align: right;\">228143</td><td style = \"text-align: right;\">19.72</td><td style = \"text-align: right;\">180.69</td><td style = \"text-align: right;\">1.0</td><td style = \"text-align: right;\">2.0</td><td style = \"text-align: right;\">2.0</td><td style = \"text-align: right;\">1.0</td><td style = \"text-align: right;\">8.93e6</td><td style = \"text-align: right;\">56949.0</td><td style = \"text-align: right;\">59.88</td><td style = \"text-align: right;\">2.05e6</td><td style = \"text-align: right;\">68.24</td><td style = \"text-align: right;\">0.0</td><td style = \"text-align: right;\">9.41</td><td style = \"text-align: right;\">1</td><td style = \"text-align: left;\">房地(土地+建物)+車位</td><td style = \"text-align: left;\">住宅大樓(11層含以上有電梯)</td><td style = \"font-style: italic; text-align: left;\">住家用</td><td style = \"text-align: left;\">有</td><td style = \"text-align: left;\">坡道平面</td><td style = \"text-align: left;\">tn</td></tr><tr><td class = \"rowNumber\" style = \"font-weight: bold; text-align: right;\">228144</td><td style = \"text-align: right;\">19.03</td><td style = \"text-align: right;\">150.75</td><td style = \"text-align: right;\">1.0</td><td style = \"text-align: right;\">2.0</td><td style = \"text-align: right;\">2.0</td><td style = \"text-align: right;\">1.0</td><td style = \"text-align: right;\">7.06e6</td><td style = \"text-align: right;\">51320.0</td><td style = \"text-align: right;\">29.94</td><td style = \"text-align: right;\">860000.0</td><td style = \"text-align: right;\">68.24</td><td style = \"text-align: right;\">0.0</td><td style = \"text-align: right;\">9.41</td><td style = \"text-align: right;\">1</td><td style = \"text-align: left;\">房地(土地+建物)+車位</td><td style = \"text-align: left;\">住宅大樓(11層含以上有電梯)</td><td style = \"font-style: italic; text-align: left;\">住家用</td><td style = \"text-align: left;\">有</td><td style = \"font-style: italic; text-align: left;\">坡道平面</td><td style = \"text-align: left;\">tn</td></tr><tr><td class = \"rowNumber\" style = \"font-weight: bold; text-align: right;\">228145</td><td style = \"text-align: right;\">27.23</td><td style = \"text-align: right;\">204.25</td><td style = \"text-align: right;\">2.0</td><td style = \"text-align: right;\">2.0</td><td style = \"text-align: right;\">2.0</td><td style = \"text-align: right;\">1.0</td><td style = \"text-align: right;\">1.032e7</td><td style = \"text-align: right;\">53697.0</td><td style = \"text-align: right;\">29.94</td><td style = \"text-align: right;\">960000.0</td><td style = \"text-align: right;\">99.26</td><td style = \"text-align: right;\">0.0</td><td style = \"text-align: right;\">12.49</td><td style = \"text-align: right;\">1</td><td style = \"text-align: left;\">房地(土地+建物)+車位</td><td style = \"text-align: left;\">住宅大樓(11層含以上有電梯)</td><td style = \"font-style: italic; text-align: left;\">住家用</td><td style = \"text-align: left;\">有</td><td style = \"font-style: italic; text-align: left;\">坡道平面</td><td style = \"text-align: left;\">tn</td></tr><tr><td class = \"rowNumber\" style = \"font-weight: bold; text-align: right;\">228146</td><td style = \"text-align: right;\">27.61</td><td style = \"text-align: right;\">232.44</td><td style = \"text-align: right;\">3.0</td><td style = \"text-align: right;\">2.0</td><td style = \"text-align: right;\">2.0</td><td style = \"text-align: right;\">1.0</td><td style = \"text-align: right;\">1.128e7</td><td style = \"text-align: right;\">54242.0</td><td style = \"text-align: right;\">59.88</td><td style = \"text-align: right;\">1.92e6</td><td style = \"text-align: right;\">99.29</td><td style = \"text-align: right;\">0.0</td><td style = \"text-align: right;\">11.55</td><td style = \"text-align: right;\">1</td><td style = \"text-align: left;\">房地(土地+建物)+車位</td><td style = \"text-align: left;\">住宅大樓(11層含以上有電梯)</td><td style = \"text-align: left;\">住家用</td><td style = \"text-align: left;\">有</td><td style = \"text-align: left;\">坡道平面</td><td style = \"text-align: left;\">tn</td></tr><tr><td class = \"rowNumber\" style = \"font-weight: bold; text-align: right;\">228147</td><td style = \"text-align: right;\">27.92</td><td style = \"text-align: right;\">234.19</td><td style = \"text-align: right;\">2.0</td><td style = \"text-align: right;\">2.0</td><td style = \"text-align: right;\">2.0</td><td style = \"text-align: right;\">1.0</td><td style = \"text-align: right;\">1.18e7</td><td style = \"text-align: right;\">56681.0</td><td style = \"text-align: right;\">59.88</td><td style = \"text-align: right;\">1.92e6</td><td style = \"text-align: right;\">99.26</td><td style = \"text-align: right;\">0.0</td><td style = \"text-align: right;\">12.49</td><td style = \"text-align: right;\">1</td><td style = \"text-align: left;\">房地(土地+建物)+車位</td><td style = \"text-align: left;\">住宅大樓(11層含以上有電梯)</td><td style = \"font-style: italic; text-align: left;\">住家用</td><td style = \"text-align: left;\">有</td><td style = \"font-style: italic; text-align: left;\">坡道平面</td><td style = \"text-align: left;\">tn</td></tr><tr><td class = \"rowNumber\" style = \"font-weight: bold; text-align: right;\">228148</td><td style = \"text-align: right;\">17.99</td><td style = \"text-align: right;\">143.14</td><td style = \"text-align: right;\">1.0</td><td style = \"text-align: right;\">2.0</td><td style = \"text-align: right;\">2.0</td><td style = \"text-align: right;\">1.0</td><td style = \"text-align: right;\">6.91e6</td><td style = \"text-align: right;\">53445.0</td><td style = \"text-align: right;\">29.94</td><td style = \"text-align: right;\">860000.0</td><td style = \"text-align: right;\">66.4</td><td style = \"text-align: right;\">0.0</td><td style = \"text-align: right;\">6.31</td><td style = \"text-align: right;\">1</td><td style = \"text-align: left;\">房地(土地+建物)+車位</td><td style = \"text-align: left;\">住宅大樓(11層含以上有電梯)</td><td style = \"font-style: italic; text-align: left;\">住家用</td><td style = \"text-align: left;\">有</td><td style = \"font-style: italic; text-align: left;\">坡道平面</td><td style = \"text-align: left;\">tn</td></tr><tr><td class = \"rowNumber\" style = \"font-weight: bold; text-align: right;\">228149</td><td style = \"text-align: right;\">26.2</td><td style = \"text-align: right;\">223.57</td><td style = \"text-align: right;\">2.0</td><td style = \"text-align: right;\">2.0</td><td style = \"text-align: right;\">2.0</td><td style = \"text-align: right;\">1.0</td><td style = \"text-align: right;\">1.224e7</td><td style = \"text-align: right;\">62557.0</td><td style = \"text-align: right;\">59.88</td><td style = \"text-align: right;\">2.0e6</td><td style = \"text-align: right;\">93.12</td><td style = \"text-align: right;\">0.0</td><td style = \"text-align: right;\">12.08</td><td style = \"text-align: right;\">1</td><td style = \"text-align: left;\">房地(土地+建物)+車位</td><td style = \"text-align: left;\">住宅大樓(11層含以上有電梯)</td><td style = \"text-align: left;\">住家用</td><td style = \"text-align: left;\">有</td><td style = \"font-style: italic; text-align: left;\">坡道平面</td><td style = \"text-align: left;\">tn</td></tr><tr><td class = \"rowNumber\" style = \"font-weight: bold; text-align: right;\">228150</td><td style = \"text-align: right;\">26.85</td><td style = \"text-align: right;\">227.29</td><td style = \"text-align: right;\">2.0</td><td style = \"text-align: right;\">2.0</td><td style = \"text-align: right;\">2.0</td><td style = \"text-align: right;\">1.0</td><td style = \"text-align: right;\">1.12e7</td><td style = \"text-align: right;\">54955.0</td><td style = \"text-align: right;\">59.88</td><td style = \"text-align: right;\">2.0e6</td><td style = \"text-align: right;\">96.31</td><td style = \"text-align: right;\">0.0</td><td style = \"text-align: right;\">11.07</td><td style = \"text-align: right;\">1</td><td style = \"text-align: left;\">房地(土地+建物)+車位</td><td style = \"text-align: left;\">住宅大樓(11層含以上有電梯)</td><td style = \"font-style: italic; text-align: left;\">住家用</td><td style = \"text-align: left;\">有</td><td style = \"font-style: italic; text-align: left;\">坡道平面</td><td style = \"text-align: left;\">tn</td></tr><tr><td class = \"rowNumber\" style = \"font-weight: bold; text-align: right;\">228151</td><td style = \"text-align: right;\">27.23</td><td style = \"text-align: right;\">204.25</td><td style = \"text-align: right;\">2.0</td><td style = \"text-align: right;\">2.0</td><td style = \"text-align: right;\">2.0</td><td style = \"text-align: right;\">1.0</td><td style = \"text-align: right;\">1.11e7</td><td style = \"text-align: right;\">58172.0</td><td style = \"text-align: right;\">29.94</td><td style = \"text-align: right;\">960000.0</td><td style = \"text-align: right;\">99.26</td><td style = \"text-align: right;\">0.0</td><td style = \"text-align: right;\">12.49</td><td style = \"text-align: right;\">1</td><td style = \"text-align: left;\">房地(土地+建物)+車位</td><td style = \"text-align: left;\">住宅大樓(11層含以上有電梯)</td><td style = \"font-style: italic; text-align: left;\">住家用</td><td style = \"text-align: left;\">有</td><td style = \"font-style: italic; text-align: left;\">坡道平面</td><td style = \"text-align: left;\">tn</td></tr><tr><td class = \"rowNumber\" style = \"font-weight: bold; text-align: right;\">228152</td><td style = \"text-align: right;\">26.16</td><td style = \"text-align: right;\">197.35</td><td style = \"text-align: right;\">2.0</td><td style = \"text-align: right;\">2.0</td><td style = \"text-align: right;\">2.0</td><td style = \"text-align: right;\">1.0</td><td style = \"text-align: right;\">9.78e6</td><td style = \"text-align: right;\">52924.0</td><td style = \"text-align: right;\">29.94</td><td style = \"text-align: right;\">920000.0</td><td style = \"text-align: right;\">96.31</td><td style = \"text-align: right;\">0.0</td><td style = \"text-align: right;\">11.07</td><td style = \"text-align: right;\">1</td><td style = \"text-align: left;\">房地(土地+建物)+車位</td><td style = \"text-align: left;\">住宅大樓(11層含以上有電梯)</td><td style = \"font-style: italic; text-align: left;\">住家用</td><td style = \"text-align: left;\">有</td><td style = \"font-style: italic; text-align: left;\">坡道平面</td><td style = \"text-align: left;\">tn</td></tr><tr><td class = \"rowNumber\" style = \"font-weight: bold; text-align: right;\">228153</td><td style = \"text-align: right;\">33.88</td><td style = \"text-align: right;\">156.37</td><td style = \"text-align: right;\">3.0</td><td style = \"text-align: right;\">2.0</td><td style = \"text-align: right;\">2.0</td><td style = \"text-align: right;\">1.0</td><td style = \"text-align: right;\">7.36e6</td><td style = \"text-align: right;\">47068.0</td><td style = \"text-align: right;\">34.79</td><td style = \"text-align: right;\">0.0</td><td style = \"text-align: right;\">76.98</td><td style = \"text-align: right;\">0.0</td><td style = \"text-align: right;\">8.16</td><td style = \"text-align: right;\">1</td><td style = \"text-align: left;\">房地(土地+建物)+車位</td><td style = \"text-align: left;\">住宅大樓(11層含以上有電梯)</td><td style = \"font-style: italic; text-align: left;\">住家用</td><td style = \"text-align: left;\">有</td><td style = \"font-style: italic; text-align: left;\">坡道平面</td><td style = \"text-align: left;\">tn</td></tr></tbody></table></div>"
      ],
      "text/latex": [
       "\\begin{tabular}{r|ccccc}\n",
       "\t& 土地移轉總面積平方公尺 & 建物移轉總面積平方公尺 & 建物現況格局\\_房 & 建物現況格局\\_廳 & \\\\\n",
       "\t\\hline\n",
       "\t& Float64 & Float64 & Float64 & Float64 & \\\\\n",
       "\t\\hline\n",
       "\t1 & 0.0 & 74.87 & 0.0 & 0.0 & $\\dots$ \\\\\n",
       "\t2 & 443.75 & 0.0 & 0.0 & 0.0 & $\\dots$ \\\\\n",
       "\t3 & 320.08 & 0.0 & 0.0 & 0.0 & $\\dots$ \\\\\n",
       "\t4 & 0.5 & 4.58 & 0.0 & 0.0 & $\\dots$ \\\\\n",
       "\t5 & 6.74 & 33.42 & 4.0 & 2.0 & $\\dots$ \\\\\n",
       "\t6 & 0.0 & 0.11 & 3.0 & 2.0 & $\\dots$ \\\\\n",
       "\t7 & 18.75 & 52.74 & 0.0 & 0.0 & $\\dots$ \\\\\n",
       "\t8 & 24.09 & 151.62 & 1.0 & 3.0 & $\\dots$ \\\\\n",
       "\t9 & 340.0 & 0.0 & 0.0 & 0.0 & $\\dots$ \\\\\n",
       "\t10 & 33.0 & 0.0 & 0.0 & 0.0 & $\\dots$ \\\\\n",
       "\t11 & 2.62 & 32.33 & 1.0 & 1.0 & $\\dots$ \\\\\n",
       "\t12 & 36.5 & 92.3 & 3.0 & 2.0 & $\\dots$ \\\\\n",
       "\t13 & 48.97 & 0.0 & 0.0 & 0.0 & $\\dots$ \\\\\n",
       "\t14 & 5.25 & 65.71 & 1.0 & 1.0 & $\\dots$ \\\\\n",
       "\t15 & 0.96 & 43.4 & 0.0 & 0.0 & $\\dots$ \\\\\n",
       "\t16 & 14.0 & 0.0 & 0.0 & 0.0 & $\\dots$ \\\\\n",
       "\t17 & 2892.48 & 0.0 & 0.0 & 0.0 & $\\dots$ \\\\\n",
       "\t18 & 4.58 & 58.47 & 0.0 & 0.0 & $\\dots$ \\\\\n",
       "\t19 & 12.99 & 0.0 & 0.0 & 0.0 & $\\dots$ \\\\\n",
       "\t20 & 4.67 & 0.0 & 0.0 & 0.0 & $\\dots$ \\\\\n",
       "\t21 & 5.75 & 43.77 & 1.0 & 0.0 & $\\dots$ \\\\\n",
       "\t22 & 12.86 & 0.0 & 0.0 & 0.0 & $\\dots$ \\\\\n",
       "\t23 & 87.0 & 0.0 & 0.0 & 0.0 & $\\dots$ \\\\\n",
       "\t24 & 15.0 & 0.0 & 0.0 & 0.0 & $\\dots$ \\\\\n",
       "\t25 & 4.5 & 0.0 & 0.0 & 0.0 & $\\dots$ \\\\\n",
       "\t26 & 86.96 & 0.0 & 0.0 & 0.0 & $\\dots$ \\\\\n",
       "\t27 & 22.75 & 85.4 & 0.0 & 0.0 & $\\dots$ \\\\\n",
       "\t28 & 2.7 & 0.0 & 0.0 & 0.0 & $\\dots$ \\\\\n",
       "\t29 & 73.76 & 0.0 & 0.0 & 0.0 & $\\dots$ \\\\\n",
       "\t30 & 2.44 & 29.64 & 0.0 & 0.0 & $\\dots$ \\\\\n",
       "\t$\\dots$ & $\\dots$ & $\\dots$ & $\\dots$ & $\\dots$ &  \\\\\n",
       "\\end{tabular}\n"
      ],
      "text/plain": [
       "\u001b[1m228153×20 DataFrame\u001b[0m\n",
       "\u001b[1m    Row \u001b[0m│\u001b[1m 土地移轉總面積平方公尺 \u001b[0m\u001b[1m 建物移轉總面積平方公尺 \u001b[0m\u001b[1m 建物現況格局_房 \u001b[0m\u001b[1m 建 \u001b[0m ⋯\n",
       "        │\u001b[90m Float64                \u001b[0m\u001b[90m Float64                \u001b[0m\u001b[90m Float64         \u001b[0m\u001b[90m Flo\u001b[0m ⋯\n",
       "────────┼───────────────────────────────────────────────────────────────────────\n",
       "      1 │                   0.0                    74.87              0.0      ⋯\n",
       "      2 │                 443.75                    0.0               0.0\n",
       "      3 │                 320.08                    0.0               0.0\n",
       "      4 │                   0.5                     4.58              0.0\n",
       "      5 │                   6.74                   33.42              4.0      ⋯\n",
       "      6 │                   0.0                     0.11              3.0\n",
       "      7 │                  18.75                   52.74              0.0\n",
       "      8 │                  24.09                  151.62              1.0\n",
       "      9 │                 340.0                     0.0               0.0      ⋯\n",
       "     10 │                  33.0                     0.0               0.0\n",
       "     11 │                   2.62                   32.33              1.0\n",
       "   ⋮    │           ⋮                       ⋮                    ⋮             ⋱\n",
       " 228144 │                  19.03                  150.75              1.0\n",
       " 228145 │                  27.23                  204.25              2.0      ⋯\n",
       " 228146 │                  27.61                  232.44              3.0\n",
       " 228147 │                  27.92                  234.19              2.0\n",
       " 228148 │                  17.99                  143.14              1.0\n",
       " 228149 │                  26.2                   223.57              2.0      ⋯\n",
       " 228150 │                  26.85                  227.29              2.0\n",
       " 228151 │                  27.23                  204.25              2.0\n",
       " 228152 │                  26.16                  197.35              2.0\n",
       " 228153 │                  33.88                  156.37              3.0      ⋯\n",
       "\u001b[36m                                              17 columns and 228132 rows omitted\u001b[0m"
      ]
     },
     "execution_count": 9,
     "metadata": {},
     "output_type": "execute_result"
    }
   ],
   "source": [
    "df_knn = CSV.File(\"./df.csv\") |>\n",
    "    DataFrame"
   ]
  },
  {
   "cell_type": "code",
   "execution_count": 45,
   "id": "6140f287",
   "metadata": {
    "collapsed": true
   },
   "outputs": [
    {
     "data": {
      "text/plain": [
       "(\u001b[1m39774×14 DataFrame\u001b[0m\n",
       "\u001b[1m   Row \u001b[0m│\u001b[1m 土地移轉總面積平方公尺 \u001b[0m\u001b[1m 建物移轉總面積平方公尺 \u001b[0m\u001b[1m 建物現況格局_房 \u001b[0m\u001b[1m 建物\u001b[0m ⋯\n",
       "       │\u001b[90m Float64                \u001b[0m\u001b[90m Float64                \u001b[0m\u001b[90m Float64         \u001b[0m\u001b[90m Floa\u001b[0m ⋯\n",
       "───────┼────────────────────────────────────────────────────────────────────────\n",
       "     1 │                   0.5                     0.0               0.0       ⋯\n",
       "     2 │                 216.38                    0.0               0.0\n",
       "     3 │                5783.76                    0.0               0.0\n",
       "     4 │                 665.69                    0.0               0.0\n",
       "     5 │                  49.0                     0.0               0.0       ⋯\n",
       "     6 │                  90.2                   181.99              5.0\n",
       "     7 │                1818.67                    0.0               0.0\n",
       "     8 │                 250.91                    0.0               0.0\n",
       "     9 │                1266.51                    0.0               0.0       ⋯\n",
       "    10 │                 284.52                    0.0               0.0\n",
       "    11 │                  13.15                  119.63              3.0\n",
       "   ⋮   │           ⋮                       ⋮                    ⋮              ⋱\n",
       " 39765 │                  10.49                  112.4               2.0\n",
       " 39766 │                  10.49                  113.84              2.0       ⋯\n",
       " 39767 │                  10.26                  109.95              2.0\n",
       " 39768 │                  10.26                  109.95              2.0\n",
       " 39769 │                   6.1                    78.04              2.0\n",
       " 39770 │                  12.77                  142.31              3.0       ⋯\n",
       " 39771 │                  12.77                  142.31              3.0\n",
       " 39772 │                   9.92                  110.98              2.0\n",
       " 39773 │                  13.74                  160.71              3.0\n",
       " 39774 │                  10.26                  110.02              2.0       ⋯\n",
       "\u001b[36m                                               11 columns and 39753 rows omitted\u001b[0m, \u001b[1m39774×6 DataFrame\u001b[0m\n",
       "\u001b[1m   Row \u001b[0m│\u001b[1m 交易標的             \u001b[0m\u001b[1m 建物型態                   \u001b[0m\u001b[1m 主要用途 \u001b[0m\u001b[1m 有無管理 \u001b[0m ⋯\n",
       "       │\u001b[90m String31             \u001b[0m\u001b[90m String                     \u001b[0m\u001b[90m String?  \u001b[0m\u001b[90m String3  \u001b[0m ⋯\n",
       "───────┼────────────────────────────────────────────────────────────────────────\n",
       "     1 │ 土地                  其他                       \u001b[90m missing  \u001b[0m 無        ⋯\n",
       "     2 │ 土地                  其他                       \u001b[90m missing  \u001b[0m 無\n",
       "     3 │ 土地                  其他                       \u001b[90m missing  \u001b[0m 無\n",
       "     4 │ 土地                  其他                       \u001b[90m missing  \u001b[0m 無\n",
       "     5 │ 土地                  其他                       \u001b[90m missing  \u001b[0m 無        ⋯\n",
       "     6 │ 房地(土地+建物)       透天厝                      住商用    無\n",
       "     7 │ 土地                  其他                       \u001b[90m missing  \u001b[0m 無\n",
       "     8 │ 土地                  其他                       \u001b[90m missing  \u001b[0m 無\n",
       "     9 │ 土地                  其他                       \u001b[90m missing  \u001b[0m 無        ⋯\n",
       "    10 │ 土地                  其他                       \u001b[90m missing  \u001b[0m 無\n",
       "    11 │ 房地(土地+建物)       住宅大樓(11層含以上有電梯) \u001b[90m missing  \u001b[0m 有\n",
       "   ⋮   │          ⋮                        ⋮                  ⋮           ⋮    ⋱\n",
       " 39765 │ 房地(土地+建物)+車位  住宅大樓(11層含以上有電梯)  住家用    有\n",
       " 39766 │ 房地(土地+建物)+車位  住宅大樓(11層含以上有電梯)  住家用    有        ⋯\n",
       " 39767 │ 房地(土地+建物)+車位  住宅大樓(11層含以上有電梯)  住家用    有\n",
       " 39768 │ 房地(土地+建物)+車位  住宅大樓(11層含以上有電梯)  住家用    有\n",
       " 39769 │ 房地(土地+建物)       住宅大樓(11層含以上有電梯)  住家用    有\n",
       " 39770 │ 房地(土地+建物)+車位  住宅大樓(11層含以上有電梯)  住家用    有        ⋯\n",
       " 39771 │ 房地(土地+建物)+車位  住宅大樓(11層含以上有電梯)  住家用    有\n",
       " 39772 │ 房地(土地+建物)+車位  住宅大樓(11層含以上有電梯)  住家用    有\n",
       " 39773 │ 房地(土地+建物)+車位  住宅大樓(11層含以上有電梯)  住家用    有\n",
       " 39774 │ 房地(土地+建物)+車位  住宅大樓(11層含以上有電梯)  住家用    有        ⋯\n",
       "\u001b[36m                                                3 columns and 39753 rows omitted\u001b[0m)"
      ]
     },
     "execution_count": 45,
     "metadata": {},
     "output_type": "execute_result"
    }
   ],
   "source": [
    "cont_tp_knn, cate_tp_knn = type_split(subset(df_knn, :city => ByRow(x -> x == \"tp\")))\n",
    "cont_nt_knn, cate_nt_knn = type_split(subset(df_knn, :city => ByRow(x -> x == \"nt\")))\n",
    "cont_tc_knn, cate_tc_knn = type_split(subset(df_knn, :city => ByRow(x -> x == \"tc\")))\n",
    "cont_tn_knn, cate_tn_knn = type_split(subset(df_knn, :city => ByRow(x -> x == \"tn\")))\n",
    "cont_ty_knn, cate_ty_knn = type_split(subset(df_knn, :city => ByRow(x -> x == \"ty\")))\n",
    "cont_ks_knn, cate_ks_knn = type_split(subset(df_knn, :city => ByRow(x -> x == \"ks\")))"
   ]
  },
  {
   "cell_type": "code",
   "execution_count": 36,
   "id": "e4e2ee4b",
   "metadata": {},
   "outputs": [],
   "source": [
    "# outlier detection\n",
    "dropmissing!(cont_tp_knn)\n",
    "# it actually did not drop anything, but it need to be another type to fit the model.\n",
    "# julia problem :(\n",
    "train_n = Int(round(nrow(cont_tp_knn) * 0.7))\n",
    "train = first(cont_tp_knn, train_n)\n",
    "test = last(cont_tp_knn, nrow(cont_tp_knn) - train_n)\n",
    "trainMat = Matrix(train)'\n",
    "testMat = Matrix(test)'\n",
    "return"
   ]
  },
  {
   "cell_type": "code",
   "execution_count": 46,
   "id": "f3ff8912",
   "metadata": {},
   "outputs": [],
   "source": [
    "# outlier detection\n",
    "dropmissing!(cont_nt_knn)\n",
    "# it actually did not drop anything, but it need to be another type to fit the model.\n",
    "# julia problem :(\n",
    "train_n = Int(round(nrow(cont_nt_knn) * 0.7))\n",
    "train = first(cont_nt_knn, train_n)\n",
    "test = last(cont_nt_knn, nrow(cont_nt_knn) - train_n)\n",
    "trainMat = Matrix(train)'\n",
    "testMat = Matrix(test)'\n",
    "model, scores_train = OutlierDetection.fit(IFO, trainMat; verbosity = 0)\n",
    "scores_test = MLJ.transform(IFO, model, testMat)\n",
    "proba_train, proba_test = scale_minmax((scores_train, scores_test))\n",
    "label_train, label_test = classify_quantile(0.95)((scores_train, scores_test))\n",
    "cont_nt_knn[!, \"ifor\"] = [label_train; label_test]\n",
    "\n",
    "return"
   ]
  },
  {
   "cell_type": "code",
   "execution_count": 83,
   "id": "a6bdd85d",
   "metadata": {},
   "outputs": [],
   "source": [
    "# outlier detection\n",
    "dropmissing!(cont_tc_knn)\n",
    "# it actually did not drop anything, but it need to be another type to fit the model.\n",
    "# julia problem :(\n",
    "train_n = Int(round(nrow(cont_tc_knn) * 0.7))\n",
    "train = first(cont_tc_knn, train_n)\n",
    "test = last(cont_tc_knn, nrow(cont_tc_knn) - train_n)\n",
    "trainMat = Matrix(train)'\n",
    "testMat = Matrix(test)'\n",
    "model, scores_train = OutlierDetection.fit(IFO, trainMat; verbosity = 0)\n",
    "scores_test = MLJ.transform(IFO, model, testMat)\n",
    "proba_train, proba_test = scale_minmax((scores_train, scores_test))\n",
    "label_train, label_test = classify_quantile(0.95)((scores_train, scores_test))\n",
    "cont_tc_knn[!, \"ifor\"] = [label_train; label_test]\n",
    "return"
   ]
  },
  {
   "cell_type": "code",
   "execution_count": 85,
   "id": "a671a278",
   "metadata": {},
   "outputs": [],
   "source": [
    "# outlier detection\n",
    "dropmissing!(cont_tn_knn)\n",
    "# it actually did not drop anything, but it need to be another type to fit the model.\n",
    "# julia problem :(\n",
    "train_n = Int(round(nrow(cont_tn_knn) * 0.7))\n",
    "train = first(cont_tn_knn, train_n)\n",
    "test = last(cont_tn_knn, nrow(cont_tn_knn) - train_n)\n",
    "trainMat = Matrix(train)'\n",
    "testMat = Matrix(test)'\n",
    "model, scores_train = OutlierDetection.fit(IFO, trainMat; verbosity = 0)\n",
    "scores_test = MLJ.transform(IFO, model, testMat)\n",
    "proba_train, proba_test = scale_minmax((scores_train, scores_test))\n",
    "label_train, label_test = classify_quantile(0.95)((scores_train, scores_test))\n",
    "cont_tn_knn[!, \"ifor\"] = [label_train; label_test]\n",
    "\n",
    "return"
   ]
  },
  {
   "cell_type": "code",
   "execution_count": 37,
   "id": "b6368003",
   "metadata": {},
   "outputs": [
    {
     "data": {
      "text/plain": [
       "(OutlierDetectionPython.PyModel(PyObject IForest(behaviour='new', bootstrap=False, contamination=0.1, max_features=1.0,\n",
       "    max_samples='auto', n_estimators=100, n_jobs=1, random_state=None,\n",
       "    verbose=0)), [-0.00822877306214892, -0.05625914089330469, -0.057859364339815866, -0.07835554259737892, -0.0947984241855413, -0.0634751467851779, 0.012627579846169135, -0.04398402392289891, 0.01755509660039356, -0.10137834446867117  …  -0.11114244395573886, -0.12136431727208291, -0.12442055131813873, -0.11677879857011342, -0.10438202844208977, -0.0950962282414507, -0.020906462807846027, -0.10347372700954638, -0.10099944110984643, -0.10406384509115524])"
      ]
     },
     "execution_count": 37,
     "metadata": {},
     "output_type": "execute_result"
    }
   ],
   "source": [
    "model, scores_train = OutlierDetection.fit(IFO, trainMat; verbosity = 0)"
   ]
  },
  {
   "cell_type": "code",
   "execution_count": 38,
   "id": "cdb0a5c7",
   "metadata": {},
   "outputs": [
    {
     "data": {
      "text/plain": [
       "([0.270440635549394, 0.1681888775999018, 0.16478216497398634, 0.12114789039484138, 0.08614267132062213, 0.15282673649759468, 0.31484168525168627, 0.19432135057349956, 0.32533186621836613, 0.07213469165070338  …  0.05134791898104294, 0.029586592484284482, 0.023080181685748304, 0.039348694453499644, 0.06574015460100914, 0.08550867683720964, 0.2434511261666468, 0.06767383577855278, 0.07294133828453708, 0.06641753452651143], [0.038115142967493514, 0.030106375476763425, 0.04998312967343487, 0.03495124942843451, 0.03422422895607615, 0.06625895006335777, 0.11915751430213191, 0.04642241026897743, 0.46859933149182087, 0.057378654127164246  …  0.08994200638752833, 0.2039087443492238, 0.01310059604626537, 0.04022698125963876, 0.05610225463483621, 0.15606505998191422, 0.5099290158166802, 0.17630119970178584, 0.21221146714236722, 0.17281649942127203])"
      ]
     },
     "execution_count": 38,
     "metadata": {},
     "output_type": "execute_result"
    }
   ],
   "source": [
    "scores_test = MLJ.transform(IFO, model, testMat)\n",
    "proba_train, proba_test = scale_minmax((scores_train, scores_test))"
   ]
  },
  {
   "cell_type": "code",
   "execution_count": 39,
   "id": "6d040d9e",
   "metadata": {},
   "outputs": [
    {
     "data": {
      "text/plain": [
       "([\"normal\", \"normal\", \"normal\", \"normal\", \"normal\", \"normal\", \"normal\", \"normal\", \"normal\", \"normal\"  …  \"normal\", \"normal\", \"normal\", \"normal\", \"normal\", \"normal\", \"normal\", \"normal\", \"normal\", \"normal\"], [\"normal\", \"normal\", \"normal\", \"normal\", \"normal\", \"normal\", \"normal\", \"normal\", \"outlier\", \"normal\"  …  \"normal\", \"normal\", \"normal\", \"normal\", \"normal\", \"normal\", \"outlier\", \"normal\", \"normal\", \"normal\"])"
      ]
     },
     "execution_count": 39,
     "metadata": {},
     "output_type": "execute_result"
    }
   ],
   "source": [
    "label_train, label_test = classify_quantile(0.95)((scores_train, scores_test))"
   ]
  },
  {
   "cell_type": "code",
   "execution_count": 44,
   "id": "7dad9daf",
   "metadata": {},
   "outputs": [
    {
     "data": {
      "text/html": [
       "<div><div style = \"float: left;\"><span>20294×15 DataFrame</span></div><div style = \"float: right;\"><span style = \"font-style: italic;\">20269 rows omitted</span></div><div style = \"clear: both;\"></div></div><div class = \"data-frame\" style = \"overflow-x: scroll;\"><table class = \"data-frame\" style = \"margin-bottom: 6px;\"><thead><tr class = \"header\"><th class = \"rowNumber\" style = \"font-weight: bold; text-align: right;\">Row</th><th style = \"text-align: left;\">土地移轉總面積平方公尺</th><th style = \"text-align: left;\">建物移轉總面積平方公尺</th><th style = \"text-align: left;\">建物現況格局_房</th><th style = \"text-align: left;\">建物現況格局_廳</th><th style = \"text-align: left;\">建物現況格局_衛</th><th style = \"text-align: left;\">建物現況格局_隔間</th><th style = \"text-align: left;\">總價元</th><th style = \"text-align: left;\">單價元平方公尺</th><th style = \"text-align: left;\">車位移轉總面積_平方公尺</th><th style = \"text-align: left;\">車位總價元</th><th style = \"text-align: left;\">主建物面積</th><th style = \"text-align: left;\">附屬建物面積</th><th style = \"text-align: left;\">陽台面積</th><th style = \"text-align: left;\">電梯</th><th style = \"text-align: left;\">ifor</th></tr><tr class = \"subheader headerLastRow\"><th class = \"rowNumber\" style = \"font-weight: bold; text-align: right;\"></th><th title = \"Float64\" style = \"text-align: left;\">Float64</th><th title = \"Float64\" style = \"text-align: left;\">Float64</th><th title = \"Float64\" style = \"text-align: left;\">Float64</th><th title = \"Float64\" style = \"text-align: left;\">Float64</th><th title = \"Float64\" style = \"text-align: left;\">Float64</th><th title = \"Float64\" style = \"text-align: left;\">Float64</th><th title = \"Float64\" style = \"text-align: left;\">Float64</th><th title = \"Float64\" style = \"text-align: left;\">Float64</th><th title = \"Float64\" style = \"text-align: left;\">Float64</th><th title = \"Float64\" style = \"text-align: left;\">Float64</th><th title = \"Float64\" style = \"text-align: left;\">Float64</th><th title = \"Float64\" style = \"text-align: left;\">Float64</th><th title = \"Float64\" style = \"text-align: left;\">Float64</th><th title = \"Int64\" style = \"text-align: left;\">Int64</th><th title = \"String\" style = \"text-align: left;\">String</th></tr></thead><tbody><tr><td class = \"rowNumber\" style = \"font-weight: bold; text-align: right;\">1</td><td style = \"text-align: right;\">0.0</td><td style = \"text-align: right;\">74.87</td><td style = \"text-align: right;\">0.0</td><td style = \"text-align: right;\">0.0</td><td style = \"text-align: right;\">0.0</td><td style = \"text-align: right;\">1.0</td><td style = \"text-align: right;\">6.0e6</td><td style = \"text-align: right;\">71992.5</td><td style = \"text-align: right;\">0.0</td><td style = \"text-align: right;\">6.0e6</td><td style = \"text-align: right;\">0.0</td><td style = \"text-align: right;\">0.0</td><td style = \"text-align: right;\">0.0</td><td style = \"text-align: right;\">0</td><td style = \"text-align: left;\">normal</td></tr><tr><td class = \"rowNumber\" style = \"font-weight: bold; text-align: right;\">2</td><td style = \"text-align: right;\">443.75</td><td style = \"text-align: right;\">0.0</td><td style = \"text-align: right;\">0.0</td><td style = \"text-align: right;\">0.0</td><td style = \"text-align: right;\">0.0</td><td style = \"text-align: right;\">1.0</td><td style = \"text-align: right;\">1.00672e7</td><td style = \"text-align: right;\">22687.0</td><td style = \"text-align: right;\">0.0</td><td style = \"text-align: right;\">0.0</td><td style = \"text-align: right;\">0.0</td><td style = \"text-align: right;\">0.0</td><td style = \"text-align: right;\">0.0</td><td style = \"text-align: right;\">0</td><td style = \"text-align: left;\">normal</td></tr><tr><td class = \"rowNumber\" style = \"font-weight: bold; text-align: right;\">3</td><td style = \"text-align: right;\">320.08</td><td style = \"text-align: right;\">0.0</td><td style = \"text-align: right;\">0.0</td><td style = \"text-align: right;\">0.0</td><td style = \"text-align: right;\">0.0</td><td style = \"text-align: right;\">1.0</td><td style = \"text-align: right;\">2.498e7</td><td style = \"text-align: right;\">78043.0</td><td style = \"text-align: right;\">0.0</td><td style = \"text-align: right;\">0.0</td><td style = \"text-align: right;\">0.0</td><td style = \"text-align: right;\">0.0</td><td style = \"text-align: right;\">0.0</td><td style = \"text-align: right;\">0</td><td style = \"text-align: left;\">normal</td></tr><tr><td class = \"rowNumber\" style = \"font-weight: bold; text-align: right;\">4</td><td style = \"text-align: right;\">0.5</td><td style = \"text-align: right;\">4.58</td><td style = \"text-align: right;\">0.0</td><td style = \"text-align: right;\">0.0</td><td style = \"text-align: right;\">0.0</td><td style = \"text-align: right;\">1.0</td><td style = \"text-align: right;\">650000.0</td><td style = \"text-align: right;\">71992.5</td><td style = \"text-align: right;\">0.0</td><td style = \"text-align: right;\">650000.0</td><td style = \"text-align: right;\">0.0</td><td style = \"text-align: right;\">0.0</td><td style = \"text-align: right;\">0.0</td><td style = \"text-align: right;\">1</td><td style = \"text-align: left;\">normal</td></tr><tr><td class = \"rowNumber\" style = \"font-weight: bold; text-align: right;\">5</td><td style = \"text-align: right;\">6.74</td><td style = \"text-align: right;\">33.42</td><td style = \"text-align: right;\">4.0</td><td style = \"text-align: right;\">2.0</td><td style = \"text-align: right;\">2.0</td><td style = \"text-align: right;\">1.0</td><td style = \"text-align: right;\">7.0e6</td><td style = \"text-align: right;\">209455.0</td><td style = \"text-align: right;\">0.0</td><td style = \"text-align: right;\">0.0</td><td style = \"text-align: right;\">27.37</td><td style = \"text-align: right;\">0.0</td><td style = \"text-align: right;\">5.05</td><td style = \"text-align: right;\">1</td><td style = \"text-align: left;\">normal</td></tr><tr><td class = \"rowNumber\" style = \"font-weight: bold; text-align: right;\">6</td><td style = \"text-align: right;\">0.0</td><td style = \"text-align: right;\">0.11</td><td style = \"text-align: right;\">3.0</td><td style = \"text-align: right;\">2.0</td><td style = \"text-align: right;\">1.0</td><td style = \"text-align: right;\">1.0</td><td style = \"text-align: right;\">201.0</td><td style = \"text-align: right;\">0.0</td><td style = \"text-align: right;\">0.0</td><td style = \"text-align: right;\">0.0</td><td style = \"text-align: right;\">0.0</td><td style = \"text-align: right;\">0.0</td><td style = \"text-align: right;\">0.0</td><td style = \"text-align: right;\">0</td><td style = \"text-align: left;\">normal</td></tr><tr><td class = \"rowNumber\" style = \"font-weight: bold; text-align: right;\">7</td><td style = \"text-align: right;\">18.75</td><td style = \"text-align: right;\">52.74</td><td style = \"text-align: right;\">0.0</td><td style = \"text-align: right;\">0.0</td><td style = \"text-align: right;\">0.0</td><td style = \"text-align: right;\">0.0</td><td style = \"text-align: right;\">4.07435e6</td><td style = \"text-align: right;\">77254.0</td><td style = \"text-align: right;\">0.0</td><td style = \"text-align: right;\">0.0</td><td style = \"text-align: right;\">44.09</td><td style = \"text-align: right;\">0.0</td><td style = \"text-align: right;\">8.65</td><td style = \"text-align: right;\">0</td><td style = \"text-align: left;\">normal</td></tr><tr><td class = \"rowNumber\" style = \"font-weight: bold; text-align: right;\">8</td><td style = \"text-align: right;\">24.09</td><td style = \"text-align: right;\">151.62</td><td style = \"text-align: right;\">1.0</td><td style = \"text-align: right;\">3.0</td><td style = \"text-align: right;\">1.0</td><td style = \"text-align: right;\">1.0</td><td style = \"text-align: right;\">2.65e7</td><td style = \"text-align: right;\">174779.0</td><td style = \"text-align: right;\">0.0</td><td style = \"text-align: right;\">2.5e6</td><td style = \"text-align: right;\">108.48</td><td style = \"text-align: right;\">0.0</td><td style = \"text-align: right;\">13.14</td><td style = \"text-align: right;\">1</td><td style = \"text-align: left;\">normal</td></tr><tr><td class = \"rowNumber\" style = \"font-weight: bold; text-align: right;\">9</td><td style = \"text-align: right;\">340.0</td><td style = \"text-align: right;\">0.0</td><td style = \"text-align: right;\">0.0</td><td style = \"text-align: right;\">0.0</td><td style = \"text-align: right;\">0.0</td><td style = \"text-align: right;\">1.0</td><td style = \"text-align: right;\">1.5e8</td><td style = \"text-align: right;\">441176.0</td><td style = \"text-align: right;\">0.0</td><td style = \"text-align: right;\">0.0</td><td style = \"text-align: right;\">0.0</td><td style = \"text-align: right;\">0.0</td><td style = \"text-align: right;\">0.0</td><td style = \"text-align: right;\">0</td><td style = \"text-align: left;\">normal</td></tr><tr><td class = \"rowNumber\" style = \"font-weight: bold; text-align: right;\">10</td><td style = \"text-align: right;\">33.0</td><td style = \"text-align: right;\">0.0</td><td style = \"text-align: right;\">0.0</td><td style = \"text-align: right;\">0.0</td><td style = \"text-align: right;\">0.0</td><td style = \"text-align: right;\">1.0</td><td style = \"text-align: right;\">2.225e6</td><td style = \"text-align: right;\">67424.0</td><td style = \"text-align: right;\">0.0</td><td style = \"text-align: right;\">0.0</td><td style = \"text-align: right;\">0.0</td><td style = \"text-align: right;\">0.0</td><td style = \"text-align: right;\">0.0</td><td style = \"text-align: right;\">0</td><td style = \"text-align: left;\">normal</td></tr><tr><td class = \"rowNumber\" style = \"font-weight: bold; text-align: right;\">11</td><td style = \"text-align: right;\">2.62</td><td style = \"text-align: right;\">32.33</td><td style = \"text-align: right;\">1.0</td><td style = \"text-align: right;\">1.0</td><td style = \"text-align: right;\">1.0</td><td style = \"text-align: right;\">1.0</td><td style = \"text-align: right;\">4.58e6</td><td style = \"text-align: right;\">141664.0</td><td style = \"text-align: right;\">0.0</td><td style = \"text-align: right;\">0.0</td><td style = \"text-align: right;\">20.65</td><td style = \"text-align: right;\">0.0</td><td style = \"text-align: right;\">3.01</td><td style = \"text-align: right;\">1</td><td style = \"text-align: left;\">normal</td></tr><tr><td class = \"rowNumber\" style = \"font-weight: bold; text-align: right;\">12</td><td style = \"text-align: right;\">36.5</td><td style = \"text-align: right;\">92.3</td><td style = \"text-align: right;\">3.0</td><td style = \"text-align: right;\">2.0</td><td style = \"text-align: right;\">1.0</td><td style = \"text-align: right;\">1.0</td><td style = \"text-align: right;\">1.38204e7</td><td style = \"text-align: right;\">149733.0</td><td style = \"text-align: right;\">0.0</td><td style = \"text-align: right;\">0.0</td><td style = \"text-align: right;\">78.12</td><td style = \"text-align: right;\">0.0</td><td style = \"text-align: right;\">14.18</td><td style = \"text-align: right;\">0</td><td style = \"text-align: left;\">normal</td></tr><tr><td class = \"rowNumber\" style = \"font-weight: bold; text-align: right;\">13</td><td style = \"text-align: right;\">48.97</td><td style = \"text-align: right;\">0.0</td><td style = \"text-align: right;\">0.0</td><td style = \"text-align: right;\">0.0</td><td style = \"text-align: right;\">0.0</td><td style = \"text-align: right;\">1.0</td><td style = \"text-align: right;\">1.74832e6</td><td style = \"text-align: right;\">35702.0</td><td style = \"text-align: right;\">0.0</td><td style = \"text-align: right;\">0.0</td><td style = \"text-align: right;\">0.0</td><td style = \"text-align: right;\">0.0</td><td style = \"text-align: right;\">0.0</td><td style = \"text-align: right;\">0</td><td style = \"text-align: left;\">normal</td></tr><tr><td style = \"text-align: right;\">&vellip;</td><td style = \"text-align: right;\">&vellip;</td><td style = \"text-align: right;\">&vellip;</td><td style = \"text-align: right;\">&vellip;</td><td style = \"text-align: right;\">&vellip;</td><td style = \"text-align: right;\">&vellip;</td><td style = \"text-align: right;\">&vellip;</td><td style = \"text-align: right;\">&vellip;</td><td style = \"text-align: right;\">&vellip;</td><td style = \"text-align: right;\">&vellip;</td><td style = \"text-align: right;\">&vellip;</td><td style = \"text-align: right;\">&vellip;</td><td style = \"text-align: right;\">&vellip;</td><td style = \"text-align: right;\">&vellip;</td><td style = \"text-align: right;\">&vellip;</td><td style = \"text-align: right;\">&vellip;</td></tr><tr><td class = \"rowNumber\" style = \"font-weight: bold; text-align: right;\">20283</td><td style = \"text-align: right;\">27.45</td><td style = \"text-align: right;\">182.25</td><td style = \"text-align: right;\">3.0</td><td style = \"text-align: right;\">2.0</td><td style = \"text-align: right;\">2.0</td><td style = \"text-align: right;\">1.0</td><td style = \"text-align: right;\">3.6e7</td><td style = \"text-align: right;\">197531.0</td><td style = \"text-align: right;\">38.91</td><td style = \"text-align: right;\">0.0</td><td style = \"text-align: right;\">82.47</td><td style = \"text-align: right;\">7.96</td><td style = \"text-align: right;\">8.27</td><td style = \"text-align: right;\">1</td><td style = \"text-align: left;\">normal</td></tr><tr><td class = \"rowNumber\" style = \"font-weight: bold; text-align: right;\">20284</td><td style = \"text-align: right;\">9.65</td><td style = \"text-align: right;\">50.06</td><td style = \"text-align: right;\">0.0</td><td style = \"text-align: right;\">1.0</td><td style = \"text-align: right;\">1.0</td><td style = \"text-align: right;\">1.0</td><td style = \"text-align: right;\">1.1e7</td><td style = \"text-align: right;\">219736.0</td><td style = \"text-align: right;\">0.0</td><td style = \"text-align: right;\">0.0</td><td style = \"text-align: right;\">24.72</td><td style = \"text-align: right;\">25.34</td><td style = \"text-align: right;\">0.0</td><td style = \"text-align: right;\">1</td><td style = \"text-align: left;\">normal</td></tr><tr><td class = \"rowNumber\" style = \"font-weight: bold; text-align: right;\">20285</td><td style = \"text-align: right;\">2.68</td><td style = \"text-align: right;\">29.1</td><td style = \"text-align: right;\">3.0</td><td style = \"text-align: right;\">1.0</td><td style = \"text-align: right;\">2.0</td><td style = \"text-align: right;\">1.0</td><td style = \"text-align: right;\">4.5e6</td><td style = \"text-align: right;\">154639.0</td><td style = \"text-align: right;\">0.0</td><td style = \"text-align: right;\">0.0</td><td style = \"text-align: right;\">22.93</td><td style = \"text-align: right;\">0.0</td><td style = \"text-align: right;\">2.21</td><td style = \"text-align: right;\">1</td><td style = \"text-align: left;\">normal</td></tr><tr><td class = \"rowNumber\" style = \"font-weight: bold; text-align: right;\">20286</td><td style = \"text-align: right;\">17.02</td><td style = \"text-align: right;\">193.6</td><td style = \"text-align: right;\">4.0</td><td style = \"text-align: right;\">2.0</td><td style = \"text-align: right;\">2.0</td><td style = \"text-align: right;\">1.0</td><td style = \"text-align: right;\">4.028e7</td><td style = \"text-align: right;\">243327.0</td><td style = \"text-align: right;\">44.5</td><td style = \"text-align: right;\">4.0e6</td><td style = \"text-align: right;\">147.14</td><td style = \"text-align: right;\">2.44</td><td style = \"text-align: right;\">10.0</td><td style = \"text-align: right;\">1</td><td style = \"text-align: left;\">normal</td></tr><tr><td class = \"rowNumber\" style = \"font-weight: bold; text-align: right;\">20287</td><td style = \"text-align: right;\">8.47</td><td style = \"text-align: right;\">90.47</td><td style = \"text-align: right;\">2.0</td><td style = \"text-align: right;\">1.0</td><td style = \"text-align: right;\">1.0</td><td style = \"text-align: right;\">1.0</td><td style = \"text-align: right;\">1.81e7</td><td style = \"text-align: right;\">200044.0</td><td style = \"text-align: right;\">0.0</td><td style = \"text-align: right;\">0.0</td><td style = \"text-align: right;\">53.82</td><td style = \"text-align: right;\">3.16</td><td style = \"text-align: right;\">3.89</td><td style = \"text-align: right;\">1</td><td style = \"text-align: left;\">normal</td></tr><tr><td class = \"rowNumber\" style = \"font-weight: bold; text-align: right;\">20288</td><td style = \"text-align: right;\">6.81</td><td style = \"text-align: right;\">49.08</td><td style = \"text-align: right;\">1.0</td><td style = \"text-align: right;\">1.0</td><td style = \"text-align: right;\">1.0</td><td style = \"text-align: right;\">1.0</td><td style = \"text-align: right;\">1.24e7</td><td style = \"text-align: right;\">252649.0</td><td style = \"text-align: right;\">0.0</td><td style = \"text-align: right;\">0.0</td><td style = \"text-align: right;\">22.17</td><td style = \"text-align: right;\">4.26</td><td style = \"text-align: right;\">3.75</td><td style = \"text-align: right;\">1</td><td style = \"text-align: left;\">normal</td></tr><tr><td class = \"rowNumber\" style = \"font-weight: bold; text-align: right;\">20289</td><td style = \"text-align: right;\">1.86</td><td style = \"text-align: right;\">27.1</td><td style = \"text-align: right;\">1.0</td><td style = \"text-align: right;\">1.0</td><td style = \"text-align: right;\">1.0</td><td style = \"text-align: right;\">1.0</td><td style = \"text-align: right;\">5.25e6</td><td style = \"text-align: right;\">193655.0</td><td style = \"text-align: right;\">0.0</td><td style = \"text-align: right;\">0.0</td><td style = \"text-align: right;\">16.43</td><td style = \"text-align: right;\">0.0</td><td style = \"text-align: right;\">1.47</td><td style = \"text-align: right;\">1</td><td style = \"text-align: left;\">normal</td></tr><tr><td class = \"rowNumber\" style = \"font-weight: bold; text-align: right;\">20290</td><td style = \"text-align: right;\">32.89</td><td style = \"text-align: right;\">161.07</td><td style = \"text-align: right;\">2.0</td><td style = \"text-align: right;\">2.0</td><td style = \"text-align: right;\">2.0</td><td style = \"text-align: right;\">1.0</td><td style = \"text-align: right;\">4.542e7</td><td style = \"text-align: right;\">332892.0</td><td style = \"text-align: right;\">32.74</td><td style = \"text-align: right;\">2.7e6</td><td style = \"text-align: right;\">69.15</td><td style = \"text-align: right;\">4.17</td><td style = \"text-align: right;\">7.38</td><td style = \"text-align: right;\">1</td><td style = \"text-align: left;\">normal</td></tr><tr><td class = \"rowNumber\" style = \"font-weight: bold; text-align: right;\">20291</td><td style = \"text-align: right;\">23.91</td><td style = \"text-align: right;\">405.13</td><td style = \"text-align: right;\">3.0</td><td style = \"text-align: right;\">2.0</td><td style = \"text-align: right;\">3.0</td><td style = \"text-align: right;\">1.0</td><td style = \"text-align: right;\">1.4459e8</td><td style = \"text-align: right;\">412384.0</td><td style = \"text-align: right;\">71.0</td><td style = \"text-align: right;\">6.8e6</td><td style = \"text-align: right;\">197.74</td><td style = \"text-align: right;\">5.14</td><td style = \"text-align: right;\">20.45</td><td style = \"text-align: right;\">1</td><td style = \"text-align: left;\">outlier</td></tr><tr><td class = \"rowNumber\" style = \"font-weight: bold; text-align: right;\">20292</td><td style = \"text-align: right;\">11.07</td><td style = \"text-align: right;\">42.0</td><td style = \"text-align: right;\">0.0</td><td style = \"text-align: right;\">0.0</td><td style = \"text-align: right;\">0.0</td><td style = \"text-align: right;\">0.0</td><td style = \"text-align: right;\">1.1e7</td><td style = \"text-align: right;\">261905.0</td><td style = \"text-align: right;\">0.0</td><td style = \"text-align: right;\">0.0</td><td style = \"text-align: right;\">25.49</td><td style = \"text-align: right;\">0.0</td><td style = \"text-align: right;\">2.68</td><td style = \"text-align: right;\">1</td><td style = \"text-align: left;\">normal</td></tr><tr><td class = \"rowNumber\" style = \"font-weight: bold; text-align: right;\">20293</td><td style = \"text-align: right;\">10.66</td><td style = \"text-align: right;\">40.41</td><td style = \"text-align: right;\">0.0</td><td style = \"text-align: right;\">0.0</td><td style = \"text-align: right;\">0.0</td><td style = \"text-align: right;\">0.0</td><td style = \"text-align: right;\">1.238e7</td><td style = \"text-align: right;\">306360.0</td><td style = \"text-align: right;\">0.0</td><td style = \"text-align: right;\">0.0</td><td style = \"text-align: right;\">25.22</td><td style = \"text-align: right;\">1.91</td><td style = \"text-align: right;\">0.0</td><td style = \"text-align: right;\">1</td><td style = \"text-align: left;\">normal</td></tr><tr><td class = \"rowNumber\" style = \"font-weight: bold; text-align: right;\">20294</td><td style = \"text-align: right;\">11.07</td><td style = \"text-align: right;\">42.0</td><td style = \"text-align: right;\">0.0</td><td style = \"text-align: right;\">0.0</td><td style = \"text-align: right;\">0.0</td><td style = \"text-align: right;\">0.0</td><td style = \"text-align: right;\">1.03e7</td><td style = \"text-align: right;\">245238.0</td><td style = \"text-align: right;\">0.0</td><td style = \"text-align: right;\">0.0</td><td style = \"text-align: right;\">25.49</td><td style = \"text-align: right;\">0.0</td><td style = \"text-align: right;\">2.68</td><td style = \"text-align: right;\">1</td><td style = \"text-align: left;\">normal</td></tr></tbody></table></div>"
      ],
      "text/latex": [
       "\\begin{tabular}{r|ccccc}\n",
       "\t& 土地移轉總面積平方公尺 & 建物移轉總面積平方公尺 & 建物現況格局\\_房 & 建物現況格局\\_廳 & \\\\\n",
       "\t\\hline\n",
       "\t& Float64 & Float64 & Float64 & Float64 & \\\\\n",
       "\t\\hline\n",
       "\t1 & 0.0 & 74.87 & 0.0 & 0.0 & $\\dots$ \\\\\n",
       "\t2 & 443.75 & 0.0 & 0.0 & 0.0 & $\\dots$ \\\\\n",
       "\t3 & 320.08 & 0.0 & 0.0 & 0.0 & $\\dots$ \\\\\n",
       "\t4 & 0.5 & 4.58 & 0.0 & 0.0 & $\\dots$ \\\\\n",
       "\t5 & 6.74 & 33.42 & 4.0 & 2.0 & $\\dots$ \\\\\n",
       "\t6 & 0.0 & 0.11 & 3.0 & 2.0 & $\\dots$ \\\\\n",
       "\t7 & 18.75 & 52.74 & 0.0 & 0.0 & $\\dots$ \\\\\n",
       "\t8 & 24.09 & 151.62 & 1.0 & 3.0 & $\\dots$ \\\\\n",
       "\t9 & 340.0 & 0.0 & 0.0 & 0.0 & $\\dots$ \\\\\n",
       "\t10 & 33.0 & 0.0 & 0.0 & 0.0 & $\\dots$ \\\\\n",
       "\t11 & 2.62 & 32.33 & 1.0 & 1.0 & $\\dots$ \\\\\n",
       "\t12 & 36.5 & 92.3 & 3.0 & 2.0 & $\\dots$ \\\\\n",
       "\t13 & 48.97 & 0.0 & 0.0 & 0.0 & $\\dots$ \\\\\n",
       "\t14 & 5.25 & 65.71 & 1.0 & 1.0 & $\\dots$ \\\\\n",
       "\t15 & 0.96 & 43.4 & 0.0 & 0.0 & $\\dots$ \\\\\n",
       "\t16 & 14.0 & 0.0 & 0.0 & 0.0 & $\\dots$ \\\\\n",
       "\t17 & 2892.48 & 0.0 & 0.0 & 0.0 & $\\dots$ \\\\\n",
       "\t18 & 4.58 & 58.47 & 0.0 & 0.0 & $\\dots$ \\\\\n",
       "\t19 & 12.99 & 0.0 & 0.0 & 0.0 & $\\dots$ \\\\\n",
       "\t20 & 4.67 & 0.0 & 0.0 & 0.0 & $\\dots$ \\\\\n",
       "\t21 & 5.75 & 43.77 & 1.0 & 0.0 & $\\dots$ \\\\\n",
       "\t22 & 12.86 & 0.0 & 0.0 & 0.0 & $\\dots$ \\\\\n",
       "\t23 & 87.0 & 0.0 & 0.0 & 0.0 & $\\dots$ \\\\\n",
       "\t24 & 15.0 & 0.0 & 0.0 & 0.0 & $\\dots$ \\\\\n",
       "\t25 & 4.5 & 0.0 & 0.0 & 0.0 & $\\dots$ \\\\\n",
       "\t26 & 86.96 & 0.0 & 0.0 & 0.0 & $\\dots$ \\\\\n",
       "\t27 & 22.75 & 85.4 & 0.0 & 0.0 & $\\dots$ \\\\\n",
       "\t28 & 2.7 & 0.0 & 0.0 & 0.0 & $\\dots$ \\\\\n",
       "\t29 & 73.76 & 0.0 & 0.0 & 0.0 & $\\dots$ \\\\\n",
       "\t30 & 2.44 & 29.64 & 0.0 & 0.0 & $\\dots$ \\\\\n",
       "\t$\\dots$ & $\\dots$ & $\\dots$ & $\\dots$ & $\\dots$ &  \\\\\n",
       "\\end{tabular}\n"
      ],
      "text/plain": [
       "\u001b[1m20294×15 DataFrame\u001b[0m\n",
       "\u001b[1m   Row \u001b[0m│\u001b[1m 土地移轉總面積平方公尺 \u001b[0m\u001b[1m 建物移轉總面積平方公尺 \u001b[0m\u001b[1m 建物現況格局_房 \u001b[0m\u001b[1m 建物\u001b[0m ⋯\n",
       "       │\u001b[90m Float64                \u001b[0m\u001b[90m Float64                \u001b[0m\u001b[90m Float64         \u001b[0m\u001b[90m Floa\u001b[0m ⋯\n",
       "───────┼────────────────────────────────────────────────────────────────────────\n",
       "     1 │                   0.0                    74.87              0.0       ⋯\n",
       "     2 │                 443.75                    0.0               0.0\n",
       "     3 │                 320.08                    0.0               0.0\n",
       "     4 │                   0.5                     4.58              0.0\n",
       "     5 │                   6.74                   33.42              4.0       ⋯\n",
       "     6 │                   0.0                     0.11              3.0\n",
       "     7 │                  18.75                   52.74              0.0\n",
       "     8 │                  24.09                  151.62              1.0\n",
       "     9 │                 340.0                     0.0               0.0       ⋯\n",
       "    10 │                  33.0                     0.0               0.0\n",
       "    11 │                   2.62                   32.33              1.0\n",
       "   ⋮   │           ⋮                       ⋮                    ⋮              ⋱\n",
       " 20285 │                   2.68                   29.1               3.0\n",
       " 20286 │                  17.02                  193.6               4.0       ⋯\n",
       " 20287 │                   8.47                   90.47              2.0\n",
       " 20288 │                   6.81                   49.08              1.0\n",
       " 20289 │                   1.86                   27.1               1.0\n",
       " 20290 │                  32.89                  161.07              2.0       ⋯\n",
       " 20291 │                  23.91                  405.13              3.0\n",
       " 20292 │                  11.07                   42.0               0.0\n",
       " 20293 │                  10.66                   40.41              0.0\n",
       " 20294 │                  11.07                   42.0               0.0       ⋯\n",
       "\u001b[36m                                               12 columns and 20273 rows omitted\u001b[0m"
      ]
     },
     "execution_count": 44,
     "metadata": {},
     "output_type": "execute_result"
    }
   ],
   "source": [
    "cont_tp_knn[!, \"ifor\"] = [label_train; label_test]\n",
    "cont_tp_knn"
   ]
  },
  {
   "cell_type": "markdown",
   "id": "42e426b8",
   "metadata": {},
   "source": [
    "### PCA"
   ]
  },
  {
   "cell_type": "code",
   "execution_count": null,
   "id": "09fed8ef",
   "metadata": {},
   "outputs": [],
   "source": [
    "using MultivariateStats\n",
    "using Plots"
   ]
  },
  {
   "cell_type": "code",
   "execution_count": null,
   "id": "956a84e7",
   "metadata": {},
   "outputs": [],
   "source": [
    "# PCA\n",
    "data = Matrix(cont_tpF)\n",
    "# normalize\n",
    "data = (data .- mean(data, dims = 1)) ./ std(data, dims = 1)"
   ]
  },
  {
   "cell_type": "code",
   "execution_count": null,
   "id": "3ee5bd51",
   "metadata": {},
   "outputs": [],
   "source": [
    "# generate a 2-dims PCA\n",
    "p = StatsBase.fit(PCA, data', maxoutdim = 2)\n",
    "P = projection(p)\n",
    "@show P'*(data[1,:]-mean(p))\n",
    "Yte = MultivariateStats.transform(p, data')"
   ]
  },
  {
   "cell_type": "code",
   "execution_count": null,
   "id": "63b8efc9",
   "metadata": {
    "scrolled": true
   },
   "outputs": [],
   "source": [
    "recData = reconstruct(p, Yte)\n",
    "norm(recData - data')"
   ]
  },
  {
   "cell_type": "code",
   "execution_count": null,
   "id": "e12db104",
   "metadata": {},
   "outputs": [],
   "source": [
    "# set up backgroundec\n",
    "plotly()"
   ]
  },
  {
   "cell_type": "code",
   "execution_count": null,
   "id": "545037ea",
   "metadata": {
    "scrolled": true
   },
   "outputs": [],
   "source": [
    "Plots.scatter(Yte[1,:], Yte[2,:])\n",
    "Plots.xlabel!(\"pca component1\")\n",
    "Plots.ylabel!(\"pca component2\")"
   ]
  },
  {
   "cell_type": "code",
   "execution_count": null,
   "id": "ac51e500",
   "metadata": {
    "scrolled": true
   },
   "outputs": [],
   "source": [
    "Plots.scatter!(Yte[1, labels .== \"outlier\"], Yte[2, labels .== \"outlier\"], \n",
    "    color = 2, label = \"outlier\")\n",
    "Plots.scatter!(Yte[1, labels .!= \"outlier\"], Yte[2, labels .!= \"outlier\"], \n",
    "    color = 1, label = \"normal\")"
   ]
  },
  {
   "cell_type": "code",
   "execution_count": null,
   "id": "f81e0a5f",
   "metadata": {},
   "outputs": [],
   "source": [
    "Yte[2, labels .== \"outlier\"]"
   ]
  },
  {
   "cell_type": "markdown",
   "id": "162387b2",
   "metadata": {},
   "source": [
    "### Model-Based Regression Tree"
   ]
  },
  {
   "cell_type": "code",
   "execution_count": null,
   "id": "1f653297",
   "metadata": {},
   "outputs": [],
   "source": [
    "# loding R packages\n",
    "R\"\"\"\n",
    "library(tidyverse)\n",
    "library(party)\n",
    "\"\"\""
   ]
  },
  {
   "cell_type": "code",
   "execution_count": null,
   "id": "b2148650",
   "metadata": {},
   "outputs": [],
   "source": [
    "# output dataframe to r environment\n",
    "@rput df_knn"
   ]
  },
  {
   "cell_type": "code",
   "execution_count": null,
   "id": "3b9b0860",
   "metadata": {},
   "outputs": [],
   "source": [
    "R\"\"\"\n",
    "df$車位類別 = as.factor(df$車位類別)\n",
    "df$city = as.factor(df$city)\n",
    "df$有無管理組織 = as.factor(df$有無管理組織)\n",
    "df$主要用途 = as.factor(df$主要用途)\n",
    "df$建物型態 = as.factor(df$建物型態)\n",
    "df$電梯 = as.factor(df$電梯)\n",
    "df$有無管理組織 = as.factor(df$有無管理組織)\n",
    "df$主要用途 = as.factor(df$主要用途)\n",
    "df$建物型態 = as.factor(df$建物型態)\n",
    "\"\"\""
   ]
  },
  {
   "cell_type": "code",
   "execution_count": null,
   "id": "211e3045",
   "metadata": {},
   "outputs": [],
   "source": [
    "R\"summary(df)\""
   ]
  },
  {
   "cell_type": "code",
   "execution_count": null,
   "id": "5a727727",
   "metadata": {},
   "outputs": [],
   "source": [
    "R\"\"\"\n",
    "df = select(df_knn, !c(鄉鎮市區, 移轉層次, 總樓層數, 主要建材))\n",
    "\"\"\""
   ]
  },
  {
   "cell_type": "code",
   "execution_count": null,
   "id": "50748cea",
   "metadata": {},
   "outputs": [],
   "source": [
    "R\"\"\"\n",
    "mod_bas = mob(\n",
    "    總價元 ~ 土地移轉總面積平方公尺 + 建物移轉總面積平方公尺 + 建物現況格局_房 +\n",
    "    建物現況格局_廳 + 建物現況格局_衛 + 建物現況格局_隔間 + 單價元平方公尺 + \n",
    "    車位移轉總面積_平方公尺 + 車位總價元 + 主建物面積 + 附屬建物面積 + 陽台面積 |\n",
    "    電梯 + 交易標的 + 建物型態 + 主要用途 + 有無管理組織 + 車位類別 + city,\n",
    "    control = mob_control(minsplit = 40), data = df,\n",
    "    model = linearModel)\n",
    "\"\"\""
   ]
  },
  {
   "cell_type": "code",
   "execution_count": null,
   "id": "4ed72bb8",
   "metadata": {},
   "outputs": [],
   "source": [
    "CSV.write(\"./df.csv\", @rget df)"
   ]
  }
 ],
 "metadata": {
  "kernelspec": {
   "display_name": "Julia 1.8.1",
   "language": "julia",
   "name": "julia-1.8"
  },
  "language_info": {
   "file_extension": ".jl",
   "mimetype": "application/julia",
   "name": "julia",
   "version": "1.8.1"
  }
 },
 "nbformat": 4,
 "nbformat_minor": 5
}
