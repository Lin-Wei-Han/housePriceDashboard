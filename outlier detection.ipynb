{
 "cells": [
  {
   "cell_type": "code",
   "execution_count": null,
   "id": "8c47bfb8",
   "metadata": {},
   "outputs": [],
   "source": [
    "using CSV\n",
    "using DataFrames \n",
    "using Pipe\n",
    "using OutlierDetection"
   ]
  },
  {
   "cell_type": "code",
   "execution_count": null,
   "id": "cb896a30",
   "metadata": {},
   "outputs": [],
   "source": []
  }
 ],
 "metadata": {
  "kernelspec": {
   "display_name": "Julia 1.7.2",
   "language": "julia",
   "name": "julia-1.7"
  },
  "language_info": {
   "file_extension": ".jl",
   "mimetype": "application/julia",
   "name": "julia",
   "version": "1.7.2"
  }
 },
 "nbformat": 4,
 "nbformat_minor": 5
}
