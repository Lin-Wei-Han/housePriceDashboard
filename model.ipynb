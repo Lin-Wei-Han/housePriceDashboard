{
 "cells": [
  {
   "cell_type": "code",
   "execution_count": 1,
   "id": "8c47bfb8",
   "metadata": {},
   "outputs": [],
   "source": [
    "using CSV\n",
    "using DataFrames\n",
    "using Pipe\n",
    "using Statistics\n",
    "using LinearAlgebra\n",
    "using Plots\n",
    "using RCall"
   ]
  },
  {
   "cell_type": "code",
   "execution_count": 17,
   "id": "f34c092f",
   "metadata": {},
   "outputs": [],
   "source": [
    "using MLJ\n",
    "using StatsBase"
   ]
  },
  {
   "cell_type": "code",
   "execution_count": 2,
   "id": "f88092f4",
   "metadata": {},
   "outputs": [
    {
     "data": {
      "text/plain": [
       "(15, 200)"
      ]
     },
     "execution_count": 2,
     "metadata": {},
     "output_type": "execute_result"
    }
   ],
   "source": [
    "ENV[\"LINES\"], ENV[\"COLUMNS\"] = 15, 200"
   ]
  },
  {
   "cell_type": "code",
   "execution_count": 3,
   "id": "cb896a30",
   "metadata": {},
   "outputs": [
    {
     "data": {
      "text/plain": [
       "\"../dataset/dataset/last_year/\""
      ]
     },
     "execution_count": 3,
     "metadata": {},
     "output_type": "execute_result"
    }
   ],
   "source": [
    "ls_loc = \"../dataset/dataset/last_year/\""
   ]
  },
  {
   "cell_type": "code",
   "execution_count": 4,
   "id": "6aa34790",
   "metadata": {},
   "outputs": [],
   "source": [
    "exc = [\"Column1\", \"土地位置建物門牌\", \"編號\", \"非都市土地使用分區\", \"非都市土地使用編定\", \n",
    "    \"都市土地使用分區\", \"交易筆棟數\", \"交易年月日\", \"建築完成年月\", \"備註\", \"移轉編號\", \"period\"]\n",
    "return "
   ]
  },
  {
   "cell_type": "code",
   "execution_count": 5,
   "id": "8072c9d5",
   "metadata": {},
   "outputs": [],
   "source": [
    "ls_tp = @pipe CSV.File(ls_loc*\"LastYear_tp.csv\") |> \n",
    "    DataFrame |>\n",
    "    select(_, Not(exc)) |>\n",
    "    rename(_,\n",
    "    :\"建物現況格局.房\" => :建物現況格局_房,\n",
    "    :\"建物現況格局.廳\" => :建物現況格局_廳,\n",
    "    :\"建物現況格局.衛\" => :建物現況格局_衛,\n",
    "    :\"建物現況格局.隔間\" => :建物現況格局_隔間,\n",
    "    :\"車位移轉總面積.平方公尺.\" => :車位移轉總面積_平方公尺\n",
    "    )\n",
    "return "
   ]
  },
  {
   "cell_type": "code",
   "execution_count": 6,
   "id": "59940676",
   "metadata": {},
   "outputs": [],
   "source": [
    "ls_ks = @pipe CSV.File(ls_loc*\"LastYear_ks.csv\") |> \n",
    "    DataFrame |>\n",
    "    select(_, Not(exc)) |>\n",
    "    rename(_,\n",
    "    :\"建物現況格局.房\" => :建物現況格局_房,\n",
    "    :\"建物現況格局.廳\" => :建物現況格局_廳,\n",
    "    :\"建物現況格局.衛\" => :建物現況格局_衛,\n",
    "    :\"建物現況格局.隔間\" => :建物現況格局_隔間,\n",
    "    :\"車位移轉總面積.平方公尺.\" => :車位移轉總面積_平方公尺\n",
    "    ) \n",
    "return "
   ]
  },
  {
   "cell_type": "code",
   "execution_count": 7,
   "id": "adfec2f3",
   "metadata": {},
   "outputs": [],
   "source": [
    "ls_nt = @pipe CSV.File(ls_loc*\"LastYear_nt.csv\")  |> \n",
    "    DataFrame |>\n",
    "    select(_, Not(exc)) |>\n",
    "    rename(_,\n",
    "    :\"建物現況格局.房\" => :建物現況格局_房,\n",
    "    :\"建物現況格局.廳\" => :建物現況格局_廳,\n",
    "    :\"建物現況格局.衛\" => :建物現況格局_衛,\n",
    "    :\"建物現況格局.隔間\" => :建物現況格局_隔間,\n",
    "    :\"車位移轉總面積.平方公尺.\" => :車位移轉總面積_平方公尺\n",
    "    )\n",
    "return "
   ]
  },
  {
   "cell_type": "code",
   "execution_count": 8,
   "id": "c52d6f09",
   "metadata": {},
   "outputs": [],
   "source": [
    "ls_tc = @pipe CSV.File(ls_loc*\"LastYear_tc.csv\") |> \n",
    "    DataFrame |>\n",
    "    select(_, Not(exc)) |>\n",
    "    rename(_,\n",
    "    :\"建物現況格局.房\" => :建物現況格局_房,\n",
    "    :\"建物現況格局.廳\" => :建物現況格局_廳,\n",
    "    :\"建物現況格局.衛\" => :建物現況格局_衛,\n",
    "    :\"建物現況格局.隔間\" => :建物現況格局_隔間,\n",
    "    :\"車位移轉總面積.平方公尺.\" => :車位移轉總面積_平方公尺\n",
    "    )\n",
    "return "
   ]
  },
  {
   "cell_type": "code",
   "execution_count": 9,
   "id": "e1a9bffe",
   "metadata": {},
   "outputs": [],
   "source": [
    "ls_tn = @pipe CSV.File(ls_loc*\"LastYear_tn.csv\")  |> \n",
    "    DataFrame |>\n",
    "    select(_, Not(exc)) |>\n",
    "    rename(_,\n",
    "    :\"建物現況格局.房\" => :建物現況格局_房,\n",
    "    :\"建物現況格局.廳\" => :建物現況格局_廳,\n",
    "    :\"建物現況格局.衛\" => :建物現況格局_衛,\n",
    "    :\"建物現況格局.隔間\" => :建物現況格局_隔間,\n",
    "    :\"車位移轉總面積.平方公尺.\" => :車位移轉總面積_平方公尺\n",
    "    )\n",
    "return "
   ]
  },
  {
   "cell_type": "code",
   "execution_count": 10,
   "id": "999faf78",
   "metadata": {},
   "outputs": [],
   "source": [
    "ls_ty = @pipe CSV.File(ls_loc*\"LastYear_ty.csv\") |> \n",
    "    DataFrame |>\n",
    "    select(_, Not(exc)) |>\n",
    "    rename(_,\n",
    "    :\"建物現況格局.房\" => :建物現況格局_房,\n",
    "    :\"建物現況格局.廳\" => :建物現況格局_廳,\n",
    "    :\"建物現況格局.衛\" => :建物現況格局_衛,\n",
    "    :\"建物現況格局.隔間\" => :建物現況格局_隔間,\n",
    "    :\"車位移轉總面積.平方公尺.\" => :車位移轉總面積_平方公尺\n",
    "    )\n",
    "return "
   ]
  },
  {
   "cell_type": "code",
   "execution_count": null,
   "id": "62a96b19",
   "metadata": {},
   "outputs": [],
   "source": [
    "# CSV.write(\"./ls_tp.csv\", ls_tp)\n",
    "# CSV.write(\"./ls_ks.csv\", ls_ks)\n",
    "# CSV.write(\"./ls_nt.csv\", ls_nt)\n",
    "# CSV.write(\"./ls_tc.csv\", ls_tc)\n",
    "# CSV.write(\"./ls_tn.csv\", ls_tn)\n",
    "# CSV.write(\"./ls_ty.csv\", ls_ty)"
   ]
  },
  {
   "cell_type": "code",
   "execution_count": 11,
   "id": "f43de979",
   "metadata": {},
   "outputs": [
    {
     "data": {
      "text/plain": [
       "prob (generic function with 1 method)"
      ]
     },
     "execution_count": 11,
     "metadata": {},
     "output_type": "execute_result"
    }
   ],
   "source": [
    "function prob(x, df)\n",
    "    nrow(x) / sum(nrow(df))\n",
    "end"
   ]
  },
  {
   "cell_type": "code",
   "execution_count": 12,
   "id": "3a8b4f94",
   "metadata": {},
   "outputs": [
    {
     "data": {
      "text/plain": [
       "cate_table (generic function with 1 method)"
      ]
     },
     "execution_count": 12,
     "metadata": {},
     "output_type": "execute_result"
    }
   ],
   "source": [
    "function cate_table(df)\n",
    "    # find cate var\n",
    "    int =  [eltype.(eachcol(df)) .== Int] + \n",
    "        [eltype.(eachcol(df)) .== Union{Missing, Int}]\n",
    "    flo = [eltype.(eachcol(df)) .== Float64] \n",
    "    num_var = Bool.((int + flo)[1])\n",
    "    cat_var = .!num_var\n",
    "    cat_df = df[:, cat_var]\n",
    "    for i in 1:length(names(cat_df))\n",
    "        var = names(cat_df)[i]\n",
    "        tdf = @pipe groupby(cat_df, var) |>\n",
    "            combine(_, nrow)\n",
    "        total = sum(tdf[:, 2])\n",
    "        @pipe tdf |>\n",
    "            transform!(_, :nrow => x -> x / total * 100) |>\n",
    "            rename!(_, [:nrow, :nrow_function] .=> [:n, :prob])\n",
    "        @show tdf\n",
    "    end\n",
    "    println(\"-----------------------\")\n",
    "end"
   ]
  },
  {
   "cell_type": "code",
   "execution_count": null,
   "id": "6cbf0f84",
   "metadata": {},
   "outputs": [],
   "source": [
    "# @show cate_table(ls_tp)\n",
    "# @show cate_table(ls_ks)\n",
    "# @show cate_table(ls_nt)\n",
    "# @show cate_table(ls_tc)\n",
    "# @show cate_table(ls_tn)\n",
    "# @show cate_table(ls_ty)"
   ]
  },
  {
   "cell_type": "code",
   "execution_count": 14,
   "id": "82252de4",
   "metadata": {},
   "outputs": [
    {
     "data": {
      "text/plain": [
       "splitdf (generic function with 1 method)"
      ]
     },
     "execution_count": 14,
     "metadata": {},
     "output_type": "execute_result"
    }
   ],
   "source": [
    "function splitdf(df, pct)\n",
    "    @assert 0 <= pct <= 1\n",
    "    ids = collect(axes(df, 1))\n",
    "    MLJ.shuffle!(ids)\n",
    "    sel = ids .<= nrow(df) .* pct\n",
    "    train = df[sel, :]\n",
    "    test = df[.!sel, :]\n",
    "    return train, test\n",
    "end"
   ]
  },
  {
   "cell_type": "code",
   "execution_count": 18,
   "id": "2fe0992f",
   "metadata": {},
   "outputs": [],
   "source": [
    "train_tp, test_tp = splitdf(ls_tp, 0.7)\n",
    "train_ks, test_ks = splitdf(ls_ks, 0.7)\n",
    "train_nt, test_nt = splitdf(ls_nt, 0.7)\n",
    "train_tc, test_tc = splitdf(ls_tc, 0.7)\n",
    "train_tn, test_tn = splitdf(ls_tn, 0.7)\n",
    "train_ty, test_ty = splitdf(ls_ty, 0.7)\n",
    "return "
   ]
  },
  {
   "cell_type": "code",
   "execution_count": 16,
   "id": "f0e1e8ce",
   "metadata": {},
   "outputs": [
    {
     "data": {
      "text/plain": [
       "type_split (generic function with 1 method)"
      ]
     },
     "execution_count": 16,
     "metadata": {},
     "output_type": "execute_result"
    }
   ],
   "source": [
    "function type_split(df::DataFrame)\n",
    "    int =  [eltype.(eachcol(df)) .== Int] + \n",
    "           [eltype.(eachcol(df)) .== Union{Missing, Int}]\n",
    "    flo = [eltype.(eachcol(df)) .== Float64] \n",
    "    num_var = Bool.((int + flo)[1])\n",
    "    return df[:, num_var], df[:, .!num_var]\n",
    "end"
   ]
  },
  {
   "cell_type": "code",
   "execution_count": 19,
   "id": "2ab15149",
   "metadata": {},
   "outputs": [],
   "source": [
    "cont_tp, cate_tp = type_split(ls_tp)\n",
    "cont_ks, cate_ks = type_split(ls_ks)\n",
    "cont_nt, cate_nt = type_split(ls_nt)\n",
    "cont_tc, cate_tc = type_split(ls_tc)\n",
    "cont_tn, cate_tn = type_split(ls_tn)\n",
    "cont_ty, cate_ty = type_split(ls_ty)\n",
    "return "
   ]
  },
  {
   "cell_type": "code",
   "execution_count": 20,
   "id": "8150cb76",
   "metadata": {},
   "outputs": [],
   "source": [
    "using LinRegOutliers"
   ]
  },
  {
   "cell_type": "code",
   "execution_count": 21,
   "id": "c5909d27",
   "metadata": {},
   "outputs": [
    {
     "data": {
      "text/plain": [
       "Dict{String, Vector{Int64}} with 1 entry:\n",
       "  \"outliers\" => [14, 130, 477, 479, 877, 1281, 1308, 1469, 1489, 1495  …  17387, 17441, 17531, 17571, 17573, 17621, 17626, 17740, 18038, 19226]"
      ]
     },
     "execution_count": 21,
     "metadata": {},
     "output_type": "execute_result"
    }
   ],
   "source": [
    "# using LinRegOutliers to detect outliets\n",
    "cont_tp_womv = dropmissing(cont_tp)\n",
    "formula = @formula(總價元 ~ 土地移轉總面積平方公尺 + 建物移轉總面積平方公尺 +\n",
    "    建物現況格局_房 + 建物現況格局_廳 + 建物現況格局_衛 + 建物現況格局_隔間 +\n",
    "    單價元平方公尺 + 車位移轉總面積_平方公尺 + 車位總價元 + 主建物面積 +\n",
    "    附屬建物面積 + 陽台面積 + 電梯)\n",
    "reg_tp = createRegressionSetting(formula, cont_tp_womv)\n",
    "outsmr = smr98(reg_tp)"
   ]
  },
  {
   "cell_type": "code",
   "execution_count": 22,
   "id": "60bbabec",
   "metadata": {},
   "outputs": [
    {
     "name": "stdout",
     "output_type": "stream",
     "text": [
      "import OutlierDetectionNeighbors ✔\n",
      "import OutlierDetectionNeighbors ✔\n"
     ]
    },
    {
     "name": "stderr",
     "output_type": "stream",
     "text": [
      "WARNING: using MLJBase.select in module Main conflicts with an existing identifier.\n",
      "┌ Info: For silent loading, specify `verbosity=0`. \n",
      "└ @ Main /home/chanyu/.julia/packages/MLJModels/hAzAn/src/loading.jl:159\n",
      "┌ Info: For silent loading, specify `verbosity=0`. \n",
      "└ @ Main /home/chanyu/.julia/packages/MLJModels/hAzAn/src/loading.jl:159\n"
     ]
    },
    {
     "data": {
      "text/plain": [
       "OutlierDetectionNeighbors.LOFDetector"
      ]
     },
     "execution_count": 22,
     "metadata": {},
     "output_type": "execute_result"
    }
   ],
   "source": [
    "#########\n",
    "using MLJ\n",
    "using OutlierDetection\n",
    "using MLJBase\n",
    "KNN = @iload KNNDetector pkg=OutlierDetectionNeighbors\n",
    "LOF = @iload LOFDetector pkg=OutlierDetectionNeighbors"
   ]
  },
  {
   "cell_type": "code",
   "execution_count": 26,
   "id": "e4e2ee4b",
   "metadata": {},
   "outputs": [
    {
     "data": {
      "text/plain": [
       "KNNDetector(\n",
       "  k = 5, \n",
       "  metric = Distances.Euclidean(0.0), \n",
       "  algorithm = :kdtree, \n",
       "  static = :auto, \n",
       "  leafsize = 10, \n",
       "  reorder = true, \n",
       "  parallel = false, \n",
       "  reduction = :maximum)"
      ]
     },
     "execution_count": 26,
     "metadata": {},
     "output_type": "execute_result"
    }
   ],
   "source": [
    "# outlier detection for taipei\n",
    "cont_tp_train, cont_tp_test = splitdf(cont_tp, 0.7)\n",
    "cont_tp_trainF = dropmissing(cont_tp_train)\n",
    "cont_tp_testF = dropmissing(cont_tp_test)\n",
    "trainMat = Matrix(cont_tp_trainF)'\n",
    "testMat = Matrix(cont_tp_testF)'\n",
    "mis_df = cont_tp[sum.(eachrow(ismissing.(cont_tp))) .== 1, :]\n",
    "knn = KNN()"
   ]
  },
  {
   "cell_type": "code",
   "execution_count": 28,
   "id": "b6368003",
   "metadata": {},
   "outputs": [
    {
     "data": {
      "text/plain": [
       "(OutlierDetectionNeighbors.KNNModel(NearestNeighbors.KDTree{StaticArraysCore.SVector{14, Float64}, Distances.Euclidean, Float64}\n",
       "  Number of points: 13487\n",
       "  Dimensions: 14\n",
       "  Metric: Distances.Euclidean(0.0)\n",
       "  Reordered: true), [73612.74324994144, 65017.39468151427, 14259.002018861629, 162964.14454064917, 3.380678708859059e6, 40470.286590497475, 25317.601634817227, 40905.5791854962, 61889.84513170315, 29455.893876480815  …  18337.247322815387, 8644.03676356134, 19989.001356936267, 665743.6168327923, 52921.70010891374, 50069.700395683416, 380389.69401547394, 4.811921917706208e6, 19721.00066210891, 20006.73382096638])"
      ]
     },
     "execution_count": 28,
     "metadata": {},
     "output_type": "execute_result"
    }
   ],
   "source": [
    "model, scores_train = OutlierDetection.fit(knn, trainMat; verbosity = 0)"
   ]
  },
  {
   "cell_type": "code",
   "execution_count": 31,
   "id": "cdb0a5c7",
   "metadata": {},
   "outputs": [
    {
     "data": {
      "text/plain": [
       "([\"normal\", \"normal\", \"normal\", \"normal\", \"outlier\", \"normal\", \"normal\", \"normal\", \"normal\", \"normal\"  …  \"normal\", \"normal\", \"normal\", \"normal\", \"normal\", \"normal\", \"normal\", \"outlier\", \"normal\", \"normal\"], [\"normal\", \"normal\", \"normal\", \"normal\", \"outlier\", \"normal\", \"normal\", \"normal\", \"outlier\", \"normal\"  …  \"normal\", \"normal\", \"normal\", \"normal\", \"normal\", \"normal\", \"normal\", \"normal\", \"normal\", \"normal\"])"
      ]
     },
     "execution_count": 31,
     "metadata": {},
     "output_type": "execute_result"
    }
   ],
   "source": [
    "cont_tp_trainF[label_train .== \"normal\", :]\n",
    "cont_tp_testF[label_test .== \"normal\", :]\n",
    "scores_test = MLJ.transform(knn, model, testMat)\n",
    "proba_train, proba_test = scale_minmax((scores_train, scores_test))\n",
    "label_train, label_test = classify_quantile(0.95)((scores_train, scores_test))"
   ]
  },
  {
   "cell_type": "markdown",
   "id": "42e426b8",
   "metadata": {},
   "source": [
    "### PCA"
   ]
  },
  {
   "cell_type": "code",
   "execution_count": null,
   "id": "956a84e7",
   "metadata": {},
   "outputs": [],
   "source": [
    "# PCA\n",
    "labels = ls_tp[!, :鄉鎮市區]\n",
    "label_map = labelmap(label)\n",
    "uniqueids = labelencode(label_map, label)\n",
    "data = Matrix(cont_tp_womv)\n",
    "# standarlized\n",
    "data = (data .- mean(data, dims = 1)) ./ std(data, dims = 1)\n",
    "# generate a 2-dims PCA\n",
    "p = fit(PCA, data', maxoutdim = 2)\n",
    "P = projection(p)\n",
    "P'*(data[1,:]-mean(p))\n",
    "Yte = MultivariateStats.transform(p, data')\n",
    "Plots.scatter(filtered[1,:], filtered[2,:])\n",
    "Plots.xlabel!(\"pca component1\")\n",
    "Plots.ylabel!(\"pca component2\")"
   ]
  },
  {
   "cell_type": "markdown",
   "id": "162387b2",
   "metadata": {},
   "source": [
    "### Model-Based Regression Tree"
   ]
  }
 ],
 "metadata": {
  "kernelspec": {
   "display_name": "Julia 1.7.2",
   "language": "julia",
   "name": "julia-1.7"
  },
  "language_info": {
   "file_extension": ".jl",
   "mimetype": "application/julia",
   "name": "julia",
   "version": "1.7.2"
  }
 },
 "nbformat": 4,
 "nbformat_minor": 5
}
